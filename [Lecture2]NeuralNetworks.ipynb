{
  "nbformat": 4,
  "nbformat_minor": 0,
  "metadata": {
    "kernelspec": {
      "display_name": "Python 3",
      "language": "python",
      "name": "python3"
    },
    "language_info": {
      "codemirror_mode": {
        "name": "ipython",
        "version": 3
      },
      "file_extension": ".py",
      "mimetype": "text/x-python",
      "name": "python",
      "nbconvert_exporter": "python",
      "pygments_lexer": "ipython3",
      "version": "3.6.8"
    },
    "colab": {
      "name": "[Lecture2]NeuralNetworks.ipynb",
      "provenance": [],
      "include_colab_link": true
    }
  },
  "cells": [
    {
      "cell_type": "markdown",
      "metadata": {
        "id": "view-in-github",
        "colab_type": "text"
      },
      "source": [
        "<a href=\"https://colab.research.google.com/github/imnate/AI-Trainning/blob/master/%5BLecture2%5DNeuralNetworks.ipynb\" target=\"_parent\"><img src=\"https://colab.research.google.com/assets/colab-badge.svg\" alt=\"Open In Colab\"/></a>"
      ]
    },
    {
      "cell_type": "markdown",
      "metadata": {
        "id": "E1aQR-zWURtR",
        "colab_type": "text"
      },
      "source": [
        "# Lecture 2 : Neural Networks"
      ]
    },
    {
      "cell_type": "markdown",
      "metadata": {
        "id": "CO0ZjFK8URtX",
        "colab_type": "text"
      },
      "source": [
        "### Please access this notebook at: https://github.com/sangaer/PracticalMachineLearning2019\n",
        "### Once finished, please [Submit Your Colab Notebook Here](https://forms.gle/RjqyyLsVH9Qgf4VaA)"
      ]
    },
    {
      "cell_type": "markdown",
      "metadata": {
        "id": "Ci1BaFkJURtc",
        "colab_type": "text"
      },
      "source": [
        "## recap for Lecture 1"
      ]
    },
    {
      "cell_type": "markdown",
      "metadata": {
        "id": "JX5gjuMpURte",
        "colab_type": "text"
      },
      "source": [
        "### Kaggle\n",
        "access kaggle data"
      ]
    },
    {
      "cell_type": "code",
      "metadata": {
        "id": "Pv-hjMYnURth",
        "colab_type": "code",
        "outputId": "35ba352e-624c-4cb7-c63b-e28e5ac9e50a",
        "colab": {
          "base_uri": "https://localhost:8080/",
          "height": 69
        }
      },
      "source": [
        "!mkdir -p ~/.kaggle\n",
        "!cp kaggle.json ~/.kaggle/\n",
        "!chmod 600 ~/.kaggle/kaggle.json\n",
        "!kaggle datasets download -d tongpython/cat-and-dog\n",
        "!unzip -q cat-and-dog.zip "
      ],
      "execution_count": 0,
      "outputs": [
        {
          "output_type": "stream",
          "text": [
            "Downloading cat-and-dog.zip to /content\n",
            " 94% 205M/218M [00:01<00:00, 150MB/s]\n",
            "100% 218M/218M [00:01<00:00, 129MB/s]\n"
          ],
          "name": "stdout"
        }
      ]
    },
    {
      "cell_type": "markdown",
      "metadata": {
        "id": "iCL4NMxJURtq",
        "colab_type": "text"
      },
      "source": [
        "### pandas"
      ]
    },
    {
      "cell_type": "code",
      "metadata": {
        "id": "2Cwwcy_CURtt",
        "colab_type": "code",
        "colab": {}
      },
      "source": [
        "import pandas as pd #pandas = excel"
      ],
      "execution_count": 0,
      "outputs": []
    },
    {
      "cell_type": "code",
      "metadata": {
        "id": "BZyJj6UoURty",
        "colab_type": "code",
        "colab": {}
      },
      "source": [
        "# load csv dataset\n",
        "FILE_TRAIN = 'sample_data/california_housing_train.csv'\n",
        "FILE_TEST = 'sample_data/california_housing_test.csv'\n",
        "df_train = pd.read_csv(FILE_TRAIN)\n",
        "df_test = pd.read_csv(FILE_TEST)"
      ],
      "execution_count": 0,
      "outputs": []
    },
    {
      "cell_type": "code",
      "metadata": {
        "id": "HGhlhmJqURt8",
        "colab_type": "code",
        "outputId": "205f9eda-46e6-4643-c428-f39fcc53c13d",
        "colab": {
          "base_uri": "https://localhost:8080/",
          "height": 143
        }
      },
      "source": [
        "# glace\n",
        "df_test.head(3)"
      ],
      "execution_count": 0,
      "outputs": [
        {
          "output_type": "execute_result",
          "data": {
            "text/html": [
              "<div>\n",
              "<style scoped>\n",
              "    .dataframe tbody tr th:only-of-type {\n",
              "        vertical-align: middle;\n",
              "    }\n",
              "\n",
              "    .dataframe tbody tr th {\n",
              "        vertical-align: top;\n",
              "    }\n",
              "\n",
              "    .dataframe thead th {\n",
              "        text-align: right;\n",
              "    }\n",
              "</style>\n",
              "<table border=\"1\" class=\"dataframe\">\n",
              "  <thead>\n",
              "    <tr style=\"text-align: right;\">\n",
              "      <th></th>\n",
              "      <th>longitude</th>\n",
              "      <th>latitude</th>\n",
              "      <th>housing_median_age</th>\n",
              "      <th>total_rooms</th>\n",
              "      <th>total_bedrooms</th>\n",
              "      <th>population</th>\n",
              "      <th>households</th>\n",
              "      <th>median_income</th>\n",
              "      <th>median_house_value</th>\n",
              "    </tr>\n",
              "  </thead>\n",
              "  <tbody>\n",
              "    <tr>\n",
              "      <th>0</th>\n",
              "      <td>-122.05</td>\n",
              "      <td>37.37</td>\n",
              "      <td>27.0</td>\n",
              "      <td>3885.0</td>\n",
              "      <td>661.0</td>\n",
              "      <td>1537.0</td>\n",
              "      <td>606.0</td>\n",
              "      <td>6.6085</td>\n",
              "      <td>344700.0</td>\n",
              "    </tr>\n",
              "    <tr>\n",
              "      <th>1</th>\n",
              "      <td>-118.30</td>\n",
              "      <td>34.26</td>\n",
              "      <td>43.0</td>\n",
              "      <td>1510.0</td>\n",
              "      <td>310.0</td>\n",
              "      <td>809.0</td>\n",
              "      <td>277.0</td>\n",
              "      <td>3.5990</td>\n",
              "      <td>176500.0</td>\n",
              "    </tr>\n",
              "    <tr>\n",
              "      <th>2</th>\n",
              "      <td>-117.81</td>\n",
              "      <td>33.78</td>\n",
              "      <td>27.0</td>\n",
              "      <td>3589.0</td>\n",
              "      <td>507.0</td>\n",
              "      <td>1484.0</td>\n",
              "      <td>495.0</td>\n",
              "      <td>5.7934</td>\n",
              "      <td>270500.0</td>\n",
              "    </tr>\n",
              "  </tbody>\n",
              "</table>\n",
              "</div>"
            ],
            "text/plain": [
              "   longitude  latitude  ...  median_income  median_house_value\n",
              "0    -122.05     37.37  ...         6.6085            344700.0\n",
              "1    -118.30     34.26  ...         3.5990            176500.0\n",
              "2    -117.81     33.78  ...         5.7934            270500.0\n",
              "\n",
              "[3 rows x 9 columns]"
            ]
          },
          "metadata": {
            "tags": []
          },
          "execution_count": 13
        }
      ]
    },
    {
      "cell_type": "code",
      "metadata": {
        "id": "eSbzH26GURuD",
        "colab_type": "code",
        "outputId": "469fe110-10c6-47fe-85c8-b0732b396d3b",
        "colab": {
          "base_uri": "https://localhost:8080/",
          "height": 34
        }
      },
      "source": [
        "# get shape\n",
        "df_train.shape"
      ],
      "execution_count": 0,
      "outputs": [
        {
          "output_type": "execute_result",
          "data": {
            "text/plain": [
              "(17000, 9)"
            ]
          },
          "metadata": {
            "tags": []
          },
          "execution_count": 6
        }
      ]
    },
    {
      "cell_type": "code",
      "metadata": {
        "id": "RD7WE772URuO",
        "colab_type": "code",
        "outputId": "86677cc3-64c3-4a5c-98eb-55542782ece7",
        "colab": {
          "base_uri": "https://localhost:8080/",
          "height": 86
        }
      },
      "source": [
        "# get column names\n",
        "df_train.columns"
      ],
      "execution_count": 0,
      "outputs": [
        {
          "output_type": "execute_result",
          "data": {
            "text/plain": [
              "Index(['longitude', 'latitude', 'housing_median_age', 'total_rooms',\n",
              "       'total_bedrooms', 'population', 'households', 'median_income',\n",
              "       'median_house_value'],\n",
              "      dtype='object')"
            ]
          },
          "metadata": {
            "tags": []
          },
          "execution_count": 7
        }
      ]
    },
    {
      "cell_type": "code",
      "metadata": {
        "id": "5TxUeyyuURuV",
        "colab_type": "code",
        "colab": {}
      },
      "source": [
        "# select a column as \"Series\"\n",
        "longitude = df_train['longitude']"
      ],
      "execution_count": 0,
      "outputs": []
    },
    {
      "cell_type": "code",
      "metadata": {
        "id": "mVac_eBgURua",
        "colab_type": "code",
        "outputId": "c3c8d361-833c-46d0-f4e8-8ba4f6333c43",
        "colab": {
          "base_uri": "https://localhost:8080/",
          "height": 206
        }
      },
      "source": [
        "# indexing\n",
        "df_train.iloc[10:15, :5]"
      ],
      "execution_count": 0,
      "outputs": [
        {
          "output_type": "execute_result",
          "data": {
            "text/html": [
              "<div>\n",
              "<style scoped>\n",
              "    .dataframe tbody tr th:only-of-type {\n",
              "        vertical-align: middle;\n",
              "    }\n",
              "\n",
              "    .dataframe tbody tr th {\n",
              "        vertical-align: top;\n",
              "    }\n",
              "\n",
              "    .dataframe thead th {\n",
              "        text-align: right;\n",
              "    }\n",
              "</style>\n",
              "<table border=\"1\" class=\"dataframe\">\n",
              "  <thead>\n",
              "    <tr style=\"text-align: right;\">\n",
              "      <th></th>\n",
              "      <th>longitude</th>\n",
              "      <th>latitude</th>\n",
              "      <th>housing_median_age</th>\n",
              "      <th>total_rooms</th>\n",
              "      <th>total_bedrooms</th>\n",
              "    </tr>\n",
              "  </thead>\n",
              "  <tbody>\n",
              "    <tr>\n",
              "      <th>10</th>\n",
              "      <td>-114.60</td>\n",
              "      <td>33.62</td>\n",
              "      <td>16.0</td>\n",
              "      <td>3741.0</td>\n",
              "      <td>801.0</td>\n",
              "    </tr>\n",
              "    <tr>\n",
              "      <th>11</th>\n",
              "      <td>-114.60</td>\n",
              "      <td>33.60</td>\n",
              "      <td>21.0</td>\n",
              "      <td>1988.0</td>\n",
              "      <td>483.0</td>\n",
              "    </tr>\n",
              "    <tr>\n",
              "      <th>12</th>\n",
              "      <td>-114.61</td>\n",
              "      <td>34.84</td>\n",
              "      <td>48.0</td>\n",
              "      <td>1291.0</td>\n",
              "      <td>248.0</td>\n",
              "    </tr>\n",
              "    <tr>\n",
              "      <th>13</th>\n",
              "      <td>-114.61</td>\n",
              "      <td>34.83</td>\n",
              "      <td>31.0</td>\n",
              "      <td>2478.0</td>\n",
              "      <td>464.0</td>\n",
              "    </tr>\n",
              "    <tr>\n",
              "      <th>14</th>\n",
              "      <td>-114.63</td>\n",
              "      <td>32.76</td>\n",
              "      <td>15.0</td>\n",
              "      <td>1448.0</td>\n",
              "      <td>378.0</td>\n",
              "    </tr>\n",
              "  </tbody>\n",
              "</table>\n",
              "</div>"
            ],
            "text/plain": [
              "    longitude  latitude  housing_median_age  total_rooms  total_bedrooms\n",
              "10    -114.60     33.62                16.0       3741.0           801.0\n",
              "11    -114.60     33.60                21.0       1988.0           483.0\n",
              "12    -114.61     34.84                48.0       1291.0           248.0\n",
              "13    -114.61     34.83                31.0       2478.0           464.0\n",
              "14    -114.63     32.76                15.0       1448.0           378.0"
            ]
          },
          "metadata": {
            "tags": []
          },
          "execution_count": 18
        }
      ]
    },
    {
      "cell_type": "markdown",
      "metadata": {
        "id": "FPkMolYFURug",
        "colab_type": "text"
      },
      "source": [
        "### numpy"
      ]
    },
    {
      "cell_type": "code",
      "metadata": {
        "id": "wzb-50l4URuh",
        "colab_type": "code",
        "colab": {}
      },
      "source": [
        "import numpy as np"
      ],
      "execution_count": 0,
      "outputs": []
    },
    {
      "cell_type": "code",
      "metadata": {
        "id": "fFB1mkXKURun",
        "colab_type": "code",
        "colab": {}
      },
      "source": [
        "# array declare\n",
        "\n",
        "# toy data\n",
        "x_train = np.array([[1, 40], \n",
        "                    [2, 30],\n",
        "                    [4, 10]])\n",
        "\n",
        "y_train = np.array([2, 3, 5])\n",
        "\n",
        "x_test = np.array([[3, 20],])\n",
        "y_test = np.array([4])\n",
        "\n",
        "\n",
        "# toy model\n",
        "w = np.array([1, 0])\n",
        "b = 1"
      ],
      "execution_count": 0,
      "outputs": []
    },
    {
      "cell_type": "code",
      "metadata": {
        "id": "_N1mKvuPURus",
        "colab_type": "code",
        "outputId": "e879497f-1c51-4db9-a20e-488c28d38e83",
        "colab": {
          "base_uri": "https://localhost:8080/",
          "height": 52
        }
      },
      "source": [
        "# metrix transpose\n",
        "x_train.T"
      ],
      "execution_count": 0,
      "outputs": [
        {
          "output_type": "execute_result",
          "data": {
            "text/plain": [
              "array([[ 1,  2,  4],\n",
              "       [40, 30, 10]])"
            ]
          },
          "metadata": {
            "tags": []
          },
          "execution_count": 21
        }
      ]
    },
    {
      "cell_type": "code",
      "metadata": {
        "id": "Kt_FAM-_URuy",
        "colab_type": "code",
        "outputId": "72b8a6ef-3299-490a-c4cf-36681e55f23e",
        "colab": {
          "base_uri": "https://localhost:8080/",
          "height": 34
        }
      },
      "source": [
        "# inner product, boardcasting\n",
        "np.dot(w, x_train.T) + b"
      ],
      "execution_count": 0,
      "outputs": [
        {
          "output_type": "execute_result",
          "data": {
            "text/plain": [
              "array([2, 3, 5])"
            ]
          },
          "metadata": {
            "tags": []
          },
          "execution_count": 22
        }
      ]
    },
    {
      "cell_type": "code",
      "metadata": {
        "id": "TEm_C7AwURu4",
        "colab_type": "code",
        "outputId": "343962a6-bc74-497a-ba8b-ddab725a9675",
        "colab": {
          "base_uri": "https://localhost:8080/",
          "height": 121
        }
      },
      "source": [
        "# elementwise multiply\n",
        "print(x_train)\n",
        "x_train * x_train"
      ],
      "execution_count": 0,
      "outputs": [
        {
          "output_type": "stream",
          "text": [
            "[[ 1 40]\n",
            " [ 2 30]\n",
            " [ 4 10]]\n"
          ],
          "name": "stdout"
        },
        {
          "output_type": "execute_result",
          "data": {
            "text/plain": [
              "array([[   1, 1600],\n",
              "       [   4,  900],\n",
              "       [  16,  100]])"
            ]
          },
          "metadata": {
            "tags": []
          },
          "execution_count": 25
        }
      ]
    },
    {
      "cell_type": "markdown",
      "metadata": {
        "id": "gTgMXkhVURu8",
        "colab_type": "text"
      },
      "source": [
        "###               scikit-learn"
      ]
    },
    {
      "cell_type": "markdown",
      "metadata": {
        "id": "C6w8jol_URu_",
        "colab_type": "text"
      },
      "source": [
        "normalize"
      ]
    },
    {
      "cell_type": "code",
      "metadata": {
        "id": "fjKxxjAUURvA",
        "colab_type": "code",
        "outputId": "2a50a766-6fa1-4ea4-9545-a38764ee2c9e",
        "colab": {
          "base_uri": "https://localhost:8080/",
          "height": 69
        }
      },
      "source": [
        "from sklearn.preprocessing import StandardScaler\n",
        "normalizer = StandardScaler()\n",
        "x_train_norm = normalizer.fit_transform(x_train)\n",
        "x_train_norm"
      ],
      "execution_count": 0,
      "outputs": [
        {
          "output_type": "execute_result",
          "data": {
            "text/plain": [
              "array([[-1.06904497,  1.06904497],\n",
              "       [-0.26726124,  0.26726124],\n",
              "       [ 1.33630621, -1.33630621]])"
            ]
          },
          "metadata": {
            "tags": []
          },
          "execution_count": 26
        }
      ]
    },
    {
      "cell_type": "markdown",
      "metadata": {
        "id": "NT7UTroZURvD",
        "colab_type": "text"
      },
      "source": [
        "modeling"
      ]
    },
    {
      "cell_type": "code",
      "metadata": {
        "id": "t48t5LPJURvI",
        "colab_type": "code",
        "outputId": "92bd8245-b765-489c-89a5-297762f64420",
        "colab": {
          "base_uri": "https://localhost:8080/",
          "height": 260
        }
      },
      "source": [
        "from sklearn.linear_model import LinearRegression\n",
        "reg = LinearRegression()\n",
        "reg.fit(normalizer.fit_transform(x_train), y_train)\n",
        "predict = reg.predict(normalizer.transform(x_test))\n",
        "\n",
        "print('\\nx_train: \\n{}\\n\\ny_train: \\n{}'.format(x_train, y_train))\n",
        "print('\\nx_test: \\n{}\\n\\npredict: \\n{}'.format(x_test, predict))"
      ],
      "execution_count": 0,
      "outputs": [
        {
          "output_type": "stream",
          "text": [
            "\n",
            "x_train: \n",
            "[[ 1 40]\n",
            " [ 2 30]\n",
            " [ 4 10]]\n",
            "\n",
            "y_train: \n",
            "[2 3 5]\n",
            "\n",
            "x_test: \n",
            "[[ 3 20]]\n",
            "\n",
            "predict: \n",
            "[4.]\n"
          ],
          "name": "stdout"
        }
      ]
    },
    {
      "cell_type": "markdown",
      "metadata": {
        "id": "mzJclkJTURvK",
        "colab_type": "text"
      },
      "source": [
        "#  \n",
        "## Train / Valid / Test split\n",
        "Pattern Recognition and Neural Networks (Brian D. Ripley, 1996)\n",
        "#### **Training Set:**\n",
        "       - A set of examples used for learning, which is to fit the parameters [i.e., weights] of the classifier.\n",
        "        \n",
        "        \n",
        "#### - **Validation Set:** \n",
        "       - A set of examples used to tune the parameters [i.e., architecture, not weights] of a classifier, for example to choose the number of hidden units in a neural network.\n",
        "        \n",
        "        \n",
        "#### - **Test Set:** \n",
        "       - A set of examples used only to assess the performance [generalization] of a fully specified classifier.\n"
      ]
    },
    {
      "cell_type": "markdown",
      "metadata": {
        "id": "Cdle_dqEURvL",
        "colab_type": "text"
      },
      "source": [
        "#  \n",
        "## Logistic Regression"
      ]
    },
    {
      "cell_type": "markdown",
      "metadata": {
        "id": "W0GZ0qlCURvN",
        "colab_type": "text"
      },
      "source": [
        "#### predict: \n",
        "## $$ Z = f(W^TX + b) $$ \n",
        "\n",
        "#### optimize:\n",
        "## $$ W \\leftarrow W - learning\\_rate * \\frac{\\partial loss}{\\partial W} $$\n",
        "## $$ b \\leftarrow b - learning\\_rate * \\frac{\\partial loss}{\\partial b} $$"
      ]
    },
    {
      "cell_type": "markdown",
      "metadata": {
        "id": "-BNFxs5xURvP",
        "colab_type": "text"
      },
      "source": [
        "\n",
        "#  \n",
        "# Neural Networks from craft"
      ]
    },
    {
      "cell_type": "code",
      "metadata": {
        "id": "IMUi7-5QURvQ",
        "colab_type": "code",
        "colab": {}
      },
      "source": [
        "import os\n",
        "import cv2\n",
        "import numpy as np\n",
        "import pandas as pd\n",
        "import sklearn\n",
        "from sklearn.metrics import accuracy_score, f1_score\n",
        "from sklearn.preprocessing import StandardScaler\n",
        "import matplotlib.pyplot as plt\n",
        "from abc import ABC, abstractmethod\n",
        "import matplotlib.pyplot as plt\n",
        "from IPython.display import clear_output\n",
        "\n",
        "np.random.seed(0)"
      ],
      "execution_count": 0,
      "outputs": []
    },
    {
      "cell_type": "markdown",
      "metadata": {
        "id": "pea28R8iURvU",
        "colab_type": "text"
      },
      "source": [
        "### forward propagation\n",
        "#### NOTE: We need activation functions for breaking the linearity\n",
        "\n",
        "![ref: wikipidia MLP](https://drive.google.com/uc?id=1-3sYn5zZMHejRQHg33ngdRNOGGvsmGmt)\n",
        "### $$ Z_{0} = f_{0}(W_{0}^TX_{0} + b_{0}) $$ \n",
        "### $$ Z_{1} = f_{1}(W_{1}^TZ_{0} + b_{1}) $$ \n",
        "### $$ Z_{2} = f_{2}(W_{2}^TZ_{1} + b_{2}) $$ \n",
        "$$.$$\n",
        "$$.$$\n",
        "$$.$$\n",
        "### $$ Z_{n} = f_{n}(W_{n}^TZ_{n-1} + b_{n}) $$ \n",
        "#### \\begin{cases}\n",
        "        b_n: bias\\\\\n",
        "        W_n: weight\\\\\n",
        "        X_n: layer\\_input\\\\\n",
        "        f_n: activation\\_functions\\\\\n",
        "        Z_n: layer\\_output\n",
        "        \\end{cases} \n"
      ]
    },
    {
      "cell_type": "markdown",
      "metadata": {
        "id": "CqSXrRYcURvV",
        "colab_type": "text"
      },
      "source": [
        "### backpropagation\n",
        "#### NOTE\n",
        "* \"Derivative\" is necessary for optimize with backpropagation.\n",
        "* \"Weights\" should be initialize with non-symmetry(we usually initialize them in random) parameters is necessary for optimize with backpropagation.\n",
        "#### [appendix: Backpropagation](https://en.wikipedia.org/wiki/Backpropagation)"
      ]
    },
    {
      "cell_type": "code",
      "metadata": {
        "id": "Fp8_dsLqURvX",
        "colab_type": "code",
        "colab": {}
      },
      "source": [
        "class Layer(ABC):\n",
        "    \n",
        "    weights = None\n",
        "    \n",
        "    def __init__(self):\n",
        "        pass\n",
        "    \n",
        "    @abstractmethod\n",
        "    def forward(self, layer_x):\n",
        "        raise NotImplementedError\n",
        "        \n",
        "    @abstractmethod\n",
        "    def derivative(self, layer_x):\n",
        "        raise NotImplementedError\n",
        "    \n",
        "    def w(self, layer_x):\n",
        "        return self.weights if self.weights is not None else np.eye(layer_x.shape[1])\n",
        "    \n",
        "    def backward(self, layer_x, grad_output):\n",
        "        return np.dot(grad_output, self.w(layer_x).T) * self.derivative(layer_x)"
      ],
      "execution_count": 0,
      "outputs": []
    },
    {
      "cell_type": "code",
      "metadata": {
        "id": "htaAWwygURvb",
        "colab_type": "code",
        "outputId": "0f90c5d5-7fc7-4a53-d881-ced9a4677370",
        "colab": {
          "base_uri": "https://localhost:8080/",
          "height": 165
        }
      },
      "source": [
        "# TypeError is expected here. You cannot instantiate class with abstract methods.\n",
        "layer = Layer()"
      ],
      "execution_count": 0,
      "outputs": [
        {
          "output_type": "error",
          "ename": "TypeError",
          "evalue": "ignored",
          "traceback": [
            "\u001b[0;31m---------------------------------------------------------------------------\u001b[0m",
            "\u001b[0;31mTypeError\u001b[0m                                 Traceback (most recent call last)",
            "\u001b[0;32m<ipython-input-33-c68d2d32a632>\u001b[0m in \u001b[0;36m<module>\u001b[0;34m()\u001b[0m\n\u001b[0;32m----> 1\u001b[0;31m \u001b[0mlayer\u001b[0m \u001b[0;34m=\u001b[0m \u001b[0mLayer\u001b[0m\u001b[0;34m(\u001b[0m\u001b[0;34m)\u001b[0m\u001b[0;34m\u001b[0m\u001b[0;34m\u001b[0m\u001b[0m\n\u001b[0m",
            "\u001b[0;31mTypeError\u001b[0m: Can't instantiate abstract class Layer with abstract methods derivative, forward"
          ]
        }
      ]
    },
    {
      "cell_type": "markdown",
      "metadata": {
        "id": "L8zDF9ZKURve",
        "colab_type": "text"
      },
      "source": [
        "### activation functions\n",
        "reference: [wikipedia](https://en.wikipedia.org/wiki/Activation_function)"
      ]
    },
    {
      "cell_type": "markdown",
      "metadata": {
        "id": "XbzlSsesURvg",
        "colab_type": "text"
      },
      "source": [
        "## Sigmoid\n",
        "## $$ \\sigma(x) = \\frac{1}{1+e^{-x}}$$\n",
        "## $$ \\sigma'(x) = \\sigma(x)(1-\\sigma(x))$$\n",
        "#### \\begin{cases}\n",
        "        \\sigma(\\infty) = 1\\\\\n",
        "        \\sigma(0) = 0.5\\\\\n",
        "        \\sigma(-\\infty) = 0\n",
        "        \\end{cases} "
      ]
    },
    {
      "cell_type": "code",
      "metadata": {
        "id": "pb3pELJbURvh",
        "colab_type": "code",
        "colab": {}
      },
      "source": [
        "class Sigmoid(Layer):\n",
        "    \n",
        "    def __init__(self):\n",
        "        pass \n",
        "    \n",
        "    def forward(self, layer_x):\n",
        "        return 1/(1+np.exp(-layer_x))\n",
        "    \n",
        "    def derivative(self, layer_x):\n",
        "        return self.forward(layer_x) * (1-self.forward(layer_x))\n"
      ],
      "execution_count": 0,
      "outputs": []
    },
    {
      "cell_type": "code",
      "metadata": {
        "id": "j0Bc-V2nURvj",
        "colab_type": "code",
        "outputId": "ebf9c545-104e-4b1d-9ede-f2c4d21f594e",
        "colab": {
          "base_uri": "https://localhost:8080/",
          "height": 265
        }
      },
      "source": [
        "x = np.linspace(-5, 5, 100).reshape(-1, 1)\n",
        "y =  Sigmoid().forward(x)\n",
        "y_ = Sigmoid().derivative(x)\n",
        "plt.plot(x,y, label='sigmoid(x)')\n",
        "plt.plot(x,y_, label='sigmoid\\'(x)')\n",
        "plt.grid()\n",
        "plt.legend()\n",
        "plt.show()"
      ],
      "execution_count": 0,
      "outputs": [
        {
          "output_type": "display_data",
          "data": {
            "image/png": "[encoded data removed]",
            "text/plain": [
              "<Figure size 432x288 with 1 Axes>"
            ]
          },
          "metadata": {
            "tags": []
          }
        }
      ]
    },
    {
      "cell_type": "markdown",
      "metadata": {
        "id": "ed98jkI8URvo",
        "colab_type": "text"
      },
      "source": [
        "#  \n",
        "#  \n",
        "\n",
        "## Identity\n",
        "## $$ I(x) = x $$\n",
        "## $$ I'(x) = 1 $$\n"
      ]
    },
    {
      "cell_type": "code",
      "metadata": {
        "id": "HSGuCs6NURvp",
        "colab_type": "code",
        "colab": {}
      },
      "source": [
        "class Identity(Layer):\n",
        "    \n",
        "    def __init__(self):\n",
        "        pass \n",
        "    \n",
        "    def forward(self, layer_x):\n",
        "        return layer_x\n",
        "    \n",
        "    def derivative(self, layer_x):\n",
        "        return np.ones(layer_x.shape)\n"
      ],
      "execution_count": 0,
      "outputs": []
    },
    {
      "cell_type": "code",
      "metadata": {
        "id": "eUf1pqvQURvv",
        "colab_type": "code",
        "outputId": "71a1bc3b-6871-4856-fe86-cb827f7ef59b",
        "colab": {
          "base_uri": "https://localhost:8080/",
          "height": 265
        }
      },
      "source": [
        "x = np.linspace(-5, 5, 1000).reshape(-1, 1)\n",
        "y = Identity().forward(x)\n",
        "y_ = Identity().derivative(x)\n",
        "plt.plot(x, y, label='Identity(x)')\n",
        "plt.plot(x, y_, label='Identity\\'(x)')\n",
        "plt.grid()\n",
        "plt.legend()\n",
        "plt.show()"
      ],
      "execution_count": 0,
      "outputs": [
        {
          "output_type": "display_data",
          "data": {
            "image/png": "[encoded data removed]",
            "text/plain": [
              "<Figure size 432x288 with 1 Axes>"
            ]
          },
          "metadata": {
            "tags": []
          }
        }
      ]
    },
    {
      "cell_type": "markdown",
      "metadata": {
        "id": "uxuADSbFURvx",
        "colab_type": "text"
      },
      "source": [
        "#  \n",
        "#  \n",
        "\n",
        "## Rectified Linear Unit (ReLU)\n",
        "## $$ \n",
        "ReLU(x) = \\begin{cases}\n",
        "        x,  & \\text{for x >= 0}\\\\\n",
        "        0, & \\text{for x < 0}\n",
        "        \\end{cases} \n",
        "        $$\n",
        "## $$ \n",
        "ReLU'(x) = \\begin{cases}\n",
        "        1,  & \\text{for x > 0}\\\\\n",
        "        0, & \\text{for x < 0}\n",
        "        \\end{cases} \n",
        "        $$"
      ]
    },
    {
      "cell_type": "code",
      "metadata": {
        "id": "FTsfMFJ6URvz",
        "colab_type": "code",
        "colab": {}
      },
      "source": [
        "class ReLU(Layer):\n",
        "    \n",
        "    def forward(self, layer_x):\n",
        "        layer_y = np.maximum(0, layer_x)\n",
        "        return layer_y\n",
        "\n",
        "    def derivative(self, layer_x):\n",
        "        return layer_x > 0\n"
      ],
      "execution_count": 0,
      "outputs": []
    },
    {
      "cell_type": "code",
      "metadata": {
        "id": "4pDjKhmKURv2",
        "colab_type": "code",
        "outputId": "e1b418be-7f55-4a6d-f2ff-19cf05da5cbc",
        "colab": {
          "base_uri": "https://localhost:8080/",
          "height": 265
        }
      },
      "source": [
        "x = np.linspace(-5, 5, 1000).reshape(-1, 1)\n",
        "y = ReLU().forward(x)\n",
        "y_ = ReLU().derivative(x)\n",
        "plt.plot(x, y, label='ReLU(x)')\n",
        "plt.plot(x, y_, label='ReLU\\'(x)')\n",
        "plt.grid()\n",
        "plt.legend()\n",
        "plt.show()"
      ],
      "execution_count": 0,
      "outputs": [
        {
          "output_type": "display_data",
          "data": {
            "image/png": "[encoded data removed]",
            "text/plain": [
              "<Figure size 432x288 with 1 Axes>"
            ]
          },
          "metadata": {
            "tags": []
          }
        }
      ]
    },
    {
      "cell_type": "markdown",
      "metadata": {
        "id": "WUc2eXvZURv5",
        "colab_type": "text"
      },
      "source": [
        "\n",
        "## Softmax and logit\n",
        "#### logit: not normalized probability distribution.\n",
        "\n",
        "## $$ Softmax(x)_i = \\frac {e^{x_i}}{\\sum _j e^{x_j}} $$\n",
        "#### $$softmax(x+c)_i = \\frac {e^{(x_i+c)}}{\\sum _j e^{(x_j+c)}} = \\frac {e^{c}e^{x_i}}{e^{c}\\sum _j e^{x_j}} = \\frac {e^{x_i}}{\\sum _j e^{x_j}} = softmax(x)$$"
      ]
    },
    {
      "cell_type": "code",
      "metadata": {
        "id": "lQl6yFq7URv6",
        "colab_type": "code",
        "colab": {}
      },
      "source": [
        "class Softmax(Layer):\n",
        "    \n",
        "    def forward(self, layer_x):\n",
        "        return np.exp(layer_x) / np.exp(layer_x).sum(axis=-1, keepdims=True)    \n",
        "\n",
        "    def derivative(self, layer_x):\n",
        "        return layer_x * (1 - layer_x)"
      ],
      "execution_count": 0,
      "outputs": []
    },
    {
      "cell_type": "code",
      "metadata": {
        "id": "eN7ZWGXgURv8",
        "colab_type": "code",
        "colab": {}
      },
      "source": [
        "logit = np.array([[1.0, 4.0], \n",
        "                  [2.0, 2.0],\n",
        "                  [2.1, 1.9]])"
      ],
      "execution_count": 0,
      "outputs": []
    },
    {
      "cell_type": "code",
      "metadata": {
        "id": "GEHRI6u5URv_",
        "colab_type": "code",
        "outputId": "c2e578cf-cd80-4322-ec84-ccaf3e98f377",
        "colab": {
          "base_uri": "https://localhost:8080/",
          "height": 34
        }
      },
      "source": [
        "prediction = logit.argmax(axis=-1)\n",
        "prediction"
      ],
      "execution_count": 0,
      "outputs": [
        {
          "output_type": "execute_result",
          "data": {
            "text/plain": [
              "array([1, 0, 0])"
            ]
          },
          "metadata": {
            "tags": []
          },
          "execution_count": 53
        }
      ]
    },
    {
      "cell_type": "code",
      "metadata": {
        "id": "rvyCDeR7URwC",
        "colab_type": "code",
        "outputId": "a923dba3-47db-4909-a726-50ab61ed8833",
        "colab": {
          "base_uri": "https://localhost:8080/",
          "height": 69
        }
      },
      "source": [
        "propability = Softmax().forward(logit)\n",
        "propability"
      ],
      "execution_count": 0,
      "outputs": [
        {
          "output_type": "execute_result",
          "data": {
            "text/plain": [
              "array([[0.04742587, 0.95257413],\n",
              "       [0.5       , 0.5       ],\n",
              "       [0.549834  , 0.450166  ]])"
            ]
          },
          "metadata": {
            "tags": []
          },
          "execution_count": 54
        }
      ]
    },
    {
      "cell_type": "code",
      "metadata": {
        "id": "5byLzRhIURwF",
        "colab_type": "code",
        "outputId": "15334b64-78d3-4022-e624-20d3633fb782",
        "colab": {
          "base_uri": "https://localhost:8080/",
          "height": 69
        }
      },
      "source": [
        "propability.sum(axis=1, keepdims=True)"
      ],
      "execution_count": 0,
      "outputs": [
        {
          "output_type": "execute_result",
          "data": {
            "text/plain": [
              "array([[1.],\n",
              "       [1.],\n",
              "       [1.]])"
            ]
          },
          "metadata": {
            "tags": []
          },
          "execution_count": 55
        }
      ]
    },
    {
      "cell_type": "markdown",
      "metadata": {
        "id": "Ez_74RwgURwH",
        "colab_type": "text"
      },
      "source": [
        "#  \n",
        "# **Dense** (Feed-Forward Layer)\n",
        "#### a layer of gradient decent linear regression"
      ]
    },
    {
      "cell_type": "code",
      "metadata": {
        "id": "_JkLpsyKURwJ",
        "colab_type": "code",
        "colab": {}
      },
      "source": [
        "class Dense(Layer):\n",
        "\n",
        "    def __init__(self, input_units, output_units, learning_rate=0.1):\n",
        "        \n",
        "        self.learning_rate = learning_rate\n",
        "        self.weights = np.random.normal(loc=0.0, \n",
        "                                        scale = np.sqrt(2/(input_units+output_units)), \n",
        "                                        size = (input_units,output_units))  # [xavier initialization](http://proceedings.mlr.press/v9/glorot10a/glorot10a.pdf)\n",
        "        self.biases = np.zeros(output_units)\n",
        "        \n",
        "    def forward(self, layer_x):        \n",
        "        return np.dot(layer_x, self.weights) + self.biases\n",
        "    \n",
        "    def derivative(self, layer_x):\n",
        "        return 1\n",
        "    \n",
        "    def backward(self, layer_x, grad_output):\n",
        "        grad_input = np.dot(grad_output, self.w(layer_x).T) * self.derivative(layer_x)\n",
        "\n",
        "        grad_weights = np.dot(layer_x.T, grad_output)\n",
        "        grad_biases = grad_output.mean(axis=0) * layer_x.shape[0]\n",
        "        \n",
        "        assert grad_weights.shape == self.weights.shape\n",
        "        assert grad_biases.shape == self.biases.shape\n",
        "\n",
        "        self.weights = self.weights - self.learning_rate * grad_weights\n",
        "        self.biases = self.biases - self.learning_rate * grad_biases\n",
        "        \n",
        "        return grad_input"
      ],
      "execution_count": 0,
      "outputs": []
    },
    {
      "cell_type": "markdown",
      "metadata": {
        "id": "UxvwI0RMURwM",
        "colab_type": "text"
      },
      "source": [
        "## Loss Functions"
      ]
    },
    {
      "cell_type": "markdown",
      "metadata": {
        "id": "z85XQxH0URwM",
        "colab_type": "text"
      },
      "source": [
        "### for binary classification:\n",
        "$$ cross\\_entropy = -\\frac{1}{m}\\sum_{i=1}^{m} y*log(y_{predict}) + (1-y)*log(1-y_{predict})$$\n",
        "### for general case:\n",
        "$$ cross\\_entropy = -\\frac{1}{m}\\sum_{i=1}^{m}\\sum_{c}^{C}y_{c}*log (y_{c\\_predict}) $$"
      ]
    },
    {
      "cell_type": "code",
      "metadata": {
        "id": "4nB7AGtdURwN",
        "colab_type": "code",
        "colab": {}
      },
      "source": [
        "class SoftmaxCrossentropyWithLogits:\n",
        "    \n",
        "    def softmax(self, layer_x):\n",
        "        return np.exp(layer_x) / np.exp(layer_x).sum(axis=-1, keepdims=True)    \n",
        "    \n",
        "    def loss(self, logits, reference_answers):\n",
        "        logits_for_answers = logits[np.arange(len(logits)), reference_answers]\n",
        "        xentropy = - logits_for_answers + np.log(np.sum(np.exp(logits),axis=-1))\n",
        "        return xentropy\n",
        "    \n",
        "    def gradient(self, logits, reference_answers):\n",
        "        ones_for_answers = np.zeros_like(logits)\n",
        "        ones_for_answers[np.arange(len(logits)), reference_answers] = 1\n",
        "        softmax = self.softmax(logits)\n",
        "        return (- ones_for_answers + softmax) / logits.shape[0]"
      ],
      "execution_count": 0,
      "outputs": []
    },
    {
      "cell_type": "markdown",
      "metadata": {
        "id": "5fhKBWUvURwP",
        "colab_type": "text"
      },
      "source": [
        "## Gradient Descent / Mini-Batch Gradient Descent / Stochastic Gradient Descent(SGD)\n",
        "#  "
      ]
    },
    {
      "cell_type": "markdown",
      "metadata": {
        "id": "B7VoCGofURwQ",
        "colab_type": "text"
      },
      "source": [
        "### Gradient Descent\n",
        "```python\n",
        "model.fit(x, y)\n",
        "```\n",
        "###  "
      ]
    },
    {
      "cell_type": "markdown",
      "metadata": {
        "id": "0bql0fz1URwR",
        "colab_type": "text"
      },
      "source": [
        "### Mini-Batch Gradient Descent\n"
      ]
    },
    {
      "cell_type": "code",
      "metadata": {
        "id": "tqnEDTMVURwR",
        "colab_type": "code",
        "outputId": "42100200-a16b-4468-ebcc-a5c1ab90526e",
        "colab": {
          "base_uri": "https://localhost:8080/",
          "height": 104
        }
      },
      "source": [
        "import time\n",
        "batch_size = 100\n",
        "x = np.zeros([500, 1])\n",
        "for b, i in enumerate(range(0, len(x), batch_size)):\n",
        "    print('batch {}  indices {}:{}'.format(b, i, i+batch_size))\n",
        "    time.sleep(0.1)"
      ],
      "execution_count": 0,
      "outputs": [
        {
          "output_type": "stream",
          "text": [
            "batch 0  indices 0:100\n",
            "batch 1  indices 100:200\n",
            "batch 2  indices 200:300\n",
            "batch 3  indices 300:400\n",
            "batch 4  indices 400:500\n"
          ],
          "name": "stdout"
        }
      ]
    },
    {
      "cell_type": "markdown",
      "metadata": {
        "id": "LgXem3MLURwT",
        "colab_type": "text"
      },
      "source": [
        "```python\n",
        "for i in range(0, len(x), batch_size):\n",
        "    model.fit(x[i: i+batch_size], y[i: i+batch_size])\n",
        "```\n",
        "##  "
      ]
    },
    {
      "cell_type": "markdown",
      "metadata": {
        "id": "1gk47LWqURwU",
        "colab_type": "text"
      },
      "source": [
        "### Stochastic Gradient Descent(SGD)\n",
        "\n",
        "```python\n",
        "for i in range(0, len(x), 1):\n",
        "    model.fit(x[i: i+batch_size], y[i: i+batch_size])\n",
        "```"
      ]
    },
    {
      "cell_type": "code",
      "metadata": {
        "id": "Tt7ko0NIURwW",
        "colab_type": "code",
        "colab": {}
      },
      "source": [
        "def iterate_minibatches(inputs, targets, batchsize, shuffle=False):\n",
        "    assert len(inputs) == len(targets)\n",
        "    if shuffle:\n",
        "        indices = np.random.permutation(len(inputs))\n",
        "    for start_idx in range(0, len(inputs) - batchsize + 1, batchsize):\n",
        "        if shuffle:\n",
        "            excerpt = indices[start_idx:start_idx + batchsize]\n",
        "        else:\n",
        "            excerpt = slice(start_idx, start_idx + batchsize)\n",
        "        yield inputs[excerpt], targets[excerpt]"
      ],
      "execution_count": 0,
      "outputs": []
    },
    {
      "cell_type": "code",
      "metadata": {
        "id": "4gcP6MrwURwY",
        "colab_type": "code",
        "colab": {}
      },
      "source": [
        "class MLPClassifier:\n",
        "    \n",
        "    def __init__(self, layers, loss_function):\n",
        "        self.loss_function = loss_function\n",
        "        self.network = layers\n",
        "    \n",
        "    def forward(self, x):\n",
        "\n",
        "        activations = []\n",
        "        layer_x = x\n",
        "        for l in self.network:\n",
        "            activations.append(l.forward(layer_x))\n",
        "            layer_x = activations[-1]\n",
        "        assert len(activations) == len(self.network)\n",
        "        return activations\n",
        "\n",
        "    def predict(self, x):\n",
        "        logits = self.forward(x)[-1]\n",
        "        return logits.argmax(axis=-1)\n",
        "    \n",
        "    def loss(self, x, y):\n",
        "\n",
        "        layer_activations = self.forward(x)\n",
        "        layer_inputs = [x] + layer_activations\n",
        "        logits = layer_activations[-1]\n",
        "\n",
        "        loss = self.loss_function.loss(logits, y)\n",
        "        return np.mean(loss)\n",
        "        \n",
        "    def train(self, x, y):\n",
        "\n",
        "        layer_activations = self.forward(x)\n",
        "        layer_inputs = [x] + layer_activations\n",
        "        logits = layer_activations[-1]\n",
        "\n",
        "        loss = self.loss_function.loss(logits, y)\n",
        "        loss_grad = self.loss_function.gradient(logits, y)\n",
        "\n",
        "        for layer_index in range(len(self.network))[::-1]:\n",
        "            layer = network[layer_index]\n",
        "\n",
        "            loss_grad = layer.backward(layer_inputs[layer_index],loss_grad)\n",
        "\n",
        "        return np.mean(loss)"
      ],
      "execution_count": 0,
      "outputs": []
    },
    {
      "cell_type": "markdown",
      "metadata": {
        "id": "nOgTWJJ9URwa",
        "colab_type": "text"
      },
      "source": [
        "# Cat vs Dog dataset\n",
        "#### kaggle : tongpython/cat-and-dog"
      ]
    },
    {
      "cell_type": "code",
      "metadata": {
        "id": "SEMq9nXFURwc",
        "colab_type": "code",
        "outputId": "e4355029-e876-4a8d-97df-e1a69b1ed67a",
        "colab": {
          "base_uri": "https://localhost:8080/",
          "height": 139
        }
      },
      "source": [
        "def dataset_parse(folders, size=(32, 32)):\n",
        "    \n",
        "    if isinstance(folders, str):\n",
        "        folders = [folders, ]\n",
        "\n",
        "    features = list()\n",
        "    labels = list()\n",
        "\n",
        "    for folder in folders:\n",
        "        for root, dirs, files in os.walk(folder):\n",
        "            for f in filter(lambda x: x.endswith('.jpg'), files):\n",
        "                img = cv2.resize(cv2.imread(os.path.join(root, f)), size)\n",
        "                label = os.path.basename(root)\n",
        "                \n",
        "                labels.append(label)\n",
        "                features.append(img)\n",
        "\n",
        "    df = pd.DataFrame({'img':features, 'category': labels})\n",
        "    df = df.sample(frac=1).reset_index(drop=True)\n",
        "    return df\n",
        "\n",
        "data_test ='test_set/test_set/'\n",
        "data_train ='training_set/training_set/'\n",
        "\n",
        "df = dataset_parse([data_test, data_train], size=(32, 32))\n",
        "\n",
        "print('df.shape:', df.shape)\n",
        "\n",
        "x = np.concatenate(df['img'].apply(lambda x: x.reshape(1, -1)).values) /256\n",
        "y = df['category'].apply(lambda x: 1 if x=='cats' else 0).values\n",
        "\n",
        "i = 9000\n",
        "j = 9200\n",
        "x_train = x[:i]\n",
        "y_train = y[:i]\n",
        "x_val = x[i:j]\n",
        "y_val = y[i:j]\n",
        "x_test = x[j:]\n",
        "y_test = y[j:]\n",
        "\n",
        "print('x_train.shape', x_train.shape)\n",
        "print('y_train.shape', y_train.shape)\n",
        "print('x_val.shape', x_val.shape)\n",
        "print('y_val.shape', y_val.shape)\n",
        "print('x_test.shape', x_test.shape)\n",
        "print('y_test.shape', y_test.shape)"
      ],
      "execution_count": 0,
      "outputs": [
        {
          "output_type": "stream",
          "text": [
            "df.shape: (10028, 2)\n",
            "x_train.shape (9000, 3072)\n",
            "y_train.shape (9000,)\n",
            "x_val.shape (200, 3072)\n",
            "y_val.shape (200,)\n",
            "x_test.shape (828, 3072)\n",
            "y_test.shape (828,)\n"
          ],
          "name": "stdout"
        }
      ]
    },
    {
      "cell_type": "markdown",
      "metadata": {
        "id": "EBhRPsdJURwf",
        "colab_type": "text"
      },
      "source": [
        "# modeling"
      ]
    },
    {
      "cell_type": "code",
      "metadata": {
        "id": "a8ULx1heURwl",
        "colab_type": "code",
        "colab": {}
      },
      "source": [
        "# ↓↓↓↓↓↓↓↓↓↓↓↓↓ You can modify this block for improve the performance. ↓↓↓↓↓↓↓↓↓↓↓↓↓↓↓↓↓↓↓↓↓\n",
        "\n",
        "\n",
        "learning_rate = 0.01\n",
        "\n",
        "network = list()\n",
        "network.append(Dense(x_train.shape[1], 32, learning_rate=learning_rate))#layer 1 \n",
        "network.append(ReLU())\n",
        "\n",
        "network.append(Dense(32, 32, learning_rate=learning_rate))#layer 2\n",
        "network.append(ReLU())\n",
        "\n",
        "network.append(Dense(32, len(set(y_train)), learning_rate=learning_rate))#output\n",
        "\n",
        "clf = MLPClassifier(network, loss_function=SoftmaxCrossentropyWithLogits())\n",
        "\n",
        "\n",
        "# ↑↑↑↑↑↑↑↑↑↑↑↑↑ You can modify this block for improve the performance. ↑↑↑↑↑↑↑↑↑↑↑↑↑↑↑↑↑↑↑↑↑"
      ],
      "execution_count": 0,
      "outputs": []
    },
    {
      "cell_type": "code",
      "metadata": {
        "id": "-j-z-Bj4URwq",
        "colab_type": "code",
        "colab": {}
      },
      "source": [
        "# ↓↓↓↓↓↓↓↓↓↓↓↓↓ You can modify this block for improve the performance. ↓↓↓↓↓↓↓↓↓↓↓↓↓↓↓↓↓↓↓↓↓\n",
        "\n",
        "N_Epoch = 300\n",
        "BATCH_SIZE = 32\n",
        "\n",
        "# ↑↑↑↑↑↑↑↑↑↑↑↑↑ You can modify this block for improve the performance. ↑↑↑↑↑↑↑↑↑↑↑↑↑↑↑↑↑↑↑↑↑"
      ],
      "execution_count": 0,
      "outputs": []
    },
    {
      "cell_type": "code",
      "metadata": {
        "id": "9s8JUwT5URws",
        "colab_type": "code",
        "outputId": "7bd79bc1-6458-458a-f19e-f73596860998",
        "colab": {
          "base_uri": "https://localhost:8080/",
          "height": 366
        }
      },
      "source": [
        "train_accs = list()\n",
        "val_accs = list()\n",
        "train_losses = list()\n",
        "val_losses = list()\n",
        "\n",
        "for epoch in range(`):\n",
        "    for x_batch, y_batch in iterate_minibatches(x_train, y_train, batchsize=BATCH_SIZE,shuffle=True):\n",
        "        train_loss = clf.train(x_batch, y_batch)\n",
        "    val_loss = clf.loss(x_val, y_val)\n",
        "    \n",
        "    \n",
        "    train_losses.append(train_loss)\n",
        "    val_losses.append(val_loss)\n",
        "    \n",
        "    train_accs.append(np.mean(clf.predict(x_train)==y_train))\n",
        "    val_accs.append(np.mean(clf.predict(x_val)==y_val))\n",
        "    \n",
        "    \n",
        "    \n",
        "    clear_output()\n",
        "    print(\"Epoch\", epoch)\n",
        "    print(\"Train loss:\", train_losses[-1])\n",
        "    print(\"Val loss:\", val_losses[-1])\n",
        "    print(\"Train accuracy:\", train_accs[-1])\n",
        "    print(\"Val accuracy:\", val_accs[-1])\n",
        "    \n",
        "    fig, ax = plt.subplots(2, 1)\n",
        "    ax[0].plot(train_losses, label='train loss')\n",
        "    ax[0].plot(val_losses, label='val loss')\n",
        "    ax[0].legend(loc='best')\n",
        "    ax[0].grid()\n",
        "    ax[0].set_ylabel('loss')\n",
        "    ax[1].plot(train_accs,label='train accuracy')\n",
        "    ax[1].plot(val_accs,label='val accuracy')\n",
        "    ax[1].legend(loc='best')\n",
        "    ax[1].set_ylabel('accuracy')\n",
        "    ax[1].grid()\n",
        "    ax[1].set_xlabel('epoch')\n",
        "    plt.show()"
      ],
      "execution_count": 0,
      "outputs": [
        {
          "output_type": "stream",
          "text": [
            "Epoch 299\n",
            "Train loss: 0.000478024258192003\n",
            "Val loss: 3.4522306243163827\n",
            "Train accuracy: 1.0\n",
            "Val accuracy: 0.585\n"
          ],
          "name": "stdout"
        },
        {
          "output_type": "display_data",
          "data": {
            "image/png": "[encoded data removed]",
            "text/plain": [
              "<Figure size 432x288 with 2 Axes>"
            ]
          },
          "metadata": {
            "tags": []
          }
        }
      ]
    },
    {
      "cell_type": "markdown",
      "metadata": {
        "id": "AU3VHNpDURwt",
        "colab_type": "text"
      },
      "source": [
        "#### The model is ***overfitting***, when there are obvious leading performance from training set."
      ]
    },
    {
      "cell_type": "markdown",
      "metadata": {
        "id": "ZQbczdZ7URwu",
        "colab_type": "text"
      },
      "source": [
        "### ** SCORE 1/4 **"
      ]
    },
    {
      "cell_type": "code",
      "metadata": {
        "id": "_9ITmkbOURwv",
        "colab_type": "code",
        "outputId": "90ef65e9-1a7b-4446-9cca-421f9eae297a",
        "colab": {
          "base_uri": "https://localhost:8080/",
          "height": 346
        }
      },
      "source": [
        "\n",
        "accuracy_score(clf.predict(x_test), y_test)"
      ],
      "execution_count": 0,
      "outputs": [
        {
          "output_type": "error",
          "ename": "ValueError",
          "evalue": "ignored",
          "traceback": [
            "\u001b[0;31m---------------------------------------------------------------------------\u001b[0m",
            "\u001b[0;31mValueError\u001b[0m                                Traceback (most recent call last)",
            "\u001b[0;32m<ipython-input-72-ac6ccca6c09c>\u001b[0m in \u001b[0;36m<module>\u001b[0;34m()\u001b[0m\n\u001b[0;32m----> 1\u001b[0;31m \u001b[0maccuracy_score\u001b[0m\u001b[0;34m(\u001b[0m\u001b[0mclf\u001b[0m\u001b[0;34m.\u001b[0m\u001b[0mpredict\u001b[0m\u001b[0;34m(\u001b[0m\u001b[0mx_test\u001b[0m\u001b[0;34m)\u001b[0m\u001b[0;34m,\u001b[0m \u001b[0my_test\u001b[0m\u001b[0;34m)\u001b[0m\u001b[0;34m\u001b[0m\u001b[0;34m\u001b[0m\u001b[0m\n\u001b[0m",
            "\u001b[0;32m<ipython-input-62-f015ffb2311b>\u001b[0m in \u001b[0;36mpredict\u001b[0;34m(self, x)\u001b[0m\n\u001b[1;32m     16\u001b[0m \u001b[0;34m\u001b[0m\u001b[0m\n\u001b[1;32m     17\u001b[0m     \u001b[0;32mdef\u001b[0m \u001b[0mpredict\u001b[0m\u001b[0;34m(\u001b[0m\u001b[0mself\u001b[0m\u001b[0;34m,\u001b[0m \u001b[0mx\u001b[0m\u001b[0;34m)\u001b[0m\u001b[0;34m:\u001b[0m\u001b[0;34m\u001b[0m\u001b[0;34m\u001b[0m\u001b[0m\n\u001b[0;32m---> 18\u001b[0;31m         \u001b[0mlogits\u001b[0m \u001b[0;34m=\u001b[0m \u001b[0mself\u001b[0m\u001b[0;34m.\u001b[0m\u001b[0mforward\u001b[0m\u001b[0;34m(\u001b[0m\u001b[0mx\u001b[0m\u001b[0;34m)\u001b[0m\u001b[0;34m[\u001b[0m\u001b[0;34m-\u001b[0m\u001b[0;36m1\u001b[0m\u001b[0;34m]\u001b[0m\u001b[0;34m\u001b[0m\u001b[0;34m\u001b[0m\u001b[0m\n\u001b[0m\u001b[1;32m     19\u001b[0m         \u001b[0;32mreturn\u001b[0m \u001b[0mlogits\u001b[0m\u001b[0;34m.\u001b[0m\u001b[0margmax\u001b[0m\u001b[0;34m(\u001b[0m\u001b[0maxis\u001b[0m\u001b[0;34m=\u001b[0m\u001b[0;34m-\u001b[0m\u001b[0;36m1\u001b[0m\u001b[0;34m)\u001b[0m\u001b[0;34m\u001b[0m\u001b[0;34m\u001b[0m\u001b[0m\n\u001b[1;32m     20\u001b[0m \u001b[0;34m\u001b[0m\u001b[0m\n",
            "\u001b[0;32m<ipython-input-62-f015ffb2311b>\u001b[0m in \u001b[0;36mforward\u001b[0;34m(self, x)\u001b[0m\n\u001b[1;32m     10\u001b[0m         \u001b[0mlayer_x\u001b[0m \u001b[0;34m=\u001b[0m \u001b[0mx\u001b[0m\u001b[0;34m\u001b[0m\u001b[0;34m\u001b[0m\u001b[0m\n\u001b[1;32m     11\u001b[0m         \u001b[0;32mfor\u001b[0m \u001b[0ml\u001b[0m \u001b[0;32min\u001b[0m \u001b[0mself\u001b[0m\u001b[0;34m.\u001b[0m\u001b[0mnetwork\u001b[0m\u001b[0;34m:\u001b[0m\u001b[0;34m\u001b[0m\u001b[0;34m\u001b[0m\u001b[0m\n\u001b[0;32m---> 12\u001b[0;31m             \u001b[0mactivations\u001b[0m\u001b[0;34m.\u001b[0m\u001b[0mappend\u001b[0m\u001b[0;34m(\u001b[0m\u001b[0ml\u001b[0m\u001b[0;34m.\u001b[0m\u001b[0mforward\u001b[0m\u001b[0;34m(\u001b[0m\u001b[0mlayer_x\u001b[0m\u001b[0;34m)\u001b[0m\u001b[0;34m)\u001b[0m\u001b[0;34m\u001b[0m\u001b[0;34m\u001b[0m\u001b[0m\n\u001b[0m\u001b[1;32m     13\u001b[0m             \u001b[0mlayer_x\u001b[0m \u001b[0;34m=\u001b[0m \u001b[0mactivations\u001b[0m\u001b[0;34m[\u001b[0m\u001b[0;34m-\u001b[0m\u001b[0;36m1\u001b[0m\u001b[0;34m]\u001b[0m\u001b[0;34m\u001b[0m\u001b[0;34m\u001b[0m\u001b[0m\n\u001b[1;32m     14\u001b[0m         \u001b[0;32massert\u001b[0m \u001b[0mlen\u001b[0m\u001b[0;34m(\u001b[0m\u001b[0mactivations\u001b[0m\u001b[0;34m)\u001b[0m \u001b[0;34m==\u001b[0m \u001b[0mlen\u001b[0m\u001b[0;34m(\u001b[0m\u001b[0mself\u001b[0m\u001b[0;34m.\u001b[0m\u001b[0mnetwork\u001b[0m\u001b[0;34m)\u001b[0m\u001b[0;34m\u001b[0m\u001b[0;34m\u001b[0m\u001b[0m\n",
            "\u001b[0;32m<ipython-input-56-b03f9b533c90>\u001b[0m in \u001b[0;36mforward\u001b[0;34m(self, layer_x)\u001b[0m\n\u001b[1;32m     10\u001b[0m \u001b[0;34m\u001b[0m\u001b[0m\n\u001b[1;32m     11\u001b[0m     \u001b[0;32mdef\u001b[0m \u001b[0mforward\u001b[0m\u001b[0;34m(\u001b[0m\u001b[0mself\u001b[0m\u001b[0;34m,\u001b[0m \u001b[0mlayer_x\u001b[0m\u001b[0;34m)\u001b[0m\u001b[0;34m:\u001b[0m\u001b[0;34m\u001b[0m\u001b[0;34m\u001b[0m\u001b[0m\n\u001b[0;32m---> 12\u001b[0;31m         \u001b[0;32mreturn\u001b[0m \u001b[0mnp\u001b[0m\u001b[0;34m.\u001b[0m\u001b[0mdot\u001b[0m\u001b[0;34m(\u001b[0m\u001b[0mlayer_x\u001b[0m\u001b[0;34m,\u001b[0m \u001b[0mself\u001b[0m\u001b[0;34m.\u001b[0m\u001b[0mweights\u001b[0m\u001b[0;34m)\u001b[0m \u001b[0;34m+\u001b[0m \u001b[0mself\u001b[0m\u001b[0;34m.\u001b[0m\u001b[0mbiases\u001b[0m\u001b[0;34m\u001b[0m\u001b[0;34m\u001b[0m\u001b[0m\n\u001b[0m\u001b[1;32m     13\u001b[0m \u001b[0;34m\u001b[0m\u001b[0m\n\u001b[1;32m     14\u001b[0m     \u001b[0;32mdef\u001b[0m \u001b[0mderivative\u001b[0m\u001b[0;34m(\u001b[0m\u001b[0mself\u001b[0m\u001b[0;34m,\u001b[0m \u001b[0mlayer_x\u001b[0m\u001b[0;34m)\u001b[0m\u001b[0;34m:\u001b[0m\u001b[0;34m\u001b[0m\u001b[0;34m\u001b[0m\u001b[0m\n",
            "\u001b[0;32m<__array_function__ internals>\u001b[0m in \u001b[0;36mdot\u001b[0;34m(*args, **kwargs)\u001b[0m\n",
            "\u001b[0;31mValueError\u001b[0m: shapes (9999,784) and (3072,32) not aligned: 784 (dim 1) != 3072 (dim 0)"
          ]
        }
      ]
    },
    {
      "cell_type": "markdown",
      "metadata": {
        "id": "gkwsfw0SURwx",
        "colab_type": "text"
      },
      "source": [
        "#  \n",
        "# mnist dataset: \n",
        "#### handwriting numbers(0-9) classification"
      ]
    },
    {
      "cell_type": "code",
      "metadata": {
        "id": "f1wQixSpURwy",
        "colab_type": "code",
        "outputId": "01de957d-fe64-45d8-f311-35474f70593f",
        "colab": {
          "base_uri": "https://localhost:8080/",
          "height": 121
        }
      },
      "source": [
        "df_train = pd.read_csv('sample_data/mnist_train_small.csv').sample(frac=1, random_state=0).reset_index(drop=True)\n",
        "df_test = pd.read_csv('sample_data/mnist_test.csv')\n",
        "\n",
        "x = df_train.iloc[:, 1:].values/256\n",
        "y = df_train.iloc[:, 0].values\n",
        "\n",
        "val_ratio = 0.1\n",
        "val_splitter = int(x.shape[0] * (1-val_ratio))\n",
        "\n",
        "x_train = x[:val_splitter]\n",
        "y_train = y[:val_splitter]\n",
        "x_val = x[val_splitter:]\n",
        "y_val = y[val_splitter:]\n",
        "\n",
        "x_test = df_test.iloc[:, 1:].values/256\n",
        "y_test = df_test.iloc[:, 0].values\n",
        "\n",
        "print('x_train.shape', x_train.shape)\n",
        "print('y_train.shape', y_train.shape)\n",
        "print('x_val.shape', x_val.shape)\n",
        "print('y_val.shape', y_val.shape)\n",
        "print('x_test.shape', x_test.shape)\n",
        "print('y_test.shape', y_test.shape)"
      ],
      "execution_count": 0,
      "outputs": [
        {
          "output_type": "stream",
          "text": [
            "x_train.shape (17999, 784)\n",
            "y_train.shape (17999,)\n",
            "x_val.shape (2000, 784)\n",
            "y_val.shape (2000,)\n",
            "x_test.shape (9999, 784)\n",
            "y_test.shape (9999,)\n"
          ],
          "name": "stdout"
        }
      ]
    },
    {
      "cell_type": "markdown",
      "metadata": {
        "id": "iCDnV8cjURwz",
        "colab_type": "text"
      },
      "source": [
        "visualize the image"
      ]
    },
    {
      "cell_type": "code",
      "metadata": {
        "id": "AV11_V_yURw0",
        "colab_type": "code",
        "outputId": "193092e9-188e-41bf-d90b-bb99f4a733d1",
        "colab": {
          "base_uri": "https://localhost:8080/",
          "height": 282
        }
      },
      "source": [
        "i = 0\n",
        "label = df_train.iloc[i, 0]\n",
        "plt.imshow(df_train.iloc[i, 1:].values.reshape(28, 28))\n",
        "plt.show()\n",
        "print('label:', label)"
      ],
      "execution_count": 0,
      "outputs": [
        {
          "output_type": "display_data",
          "data": {
            "image/png": "[encoded data removed]",
            "text/plain": [
              "<Figure size 432x288 with 1 Axes>"
            ]
          },
          "metadata": {
            "tags": []
          }
        },
        {
          "output_type": "stream",
          "text": [
            "label: 6\n"
          ],
          "name": "stdout"
        }
      ]
    },
    {
      "cell_type": "markdown",
      "metadata": {
        "id": "jsGgWc7hURw1",
        "colab_type": "text"
      },
      "source": [
        "# modeling"
      ]
    },
    {
      "cell_type": "code",
      "metadata": {
        "id": "C_3IHgclURw2",
        "colab_type": "code",
        "colab": {}
      },
      "source": [
        "# ↓↓↓↓↓↓↓↓↓↓↓↓↓ You should finish this block for improve the performance. ↓↓↓↓↓↓↓↓↓↓↓↓↓↓↓↓↓↓↓↓↓\n",
        "\n",
        "learning_rate = 0.01\n",
        "\n",
        "network = list()\n",
        "network.append(Dense(x_train.shape[1], 32, learning_rate=learning_rate))#layer 1 \n",
        "network.append(ReLU())\n",
        "\n",
        "network.append(Dense(32, 32, learning_rate=learning_rate))#layer 2\n",
        "network.append(ReLU())\n",
        "\n",
        "network.append(Dense(32, len(set(y_train)), learning_rate=learning_rate))#output\n",
        "\n",
        "clf = MLPClassifier(network, loss_function=SoftmaxCrossentropyWithLogits())\n",
        "\n",
        "# ↑↑↑↑↑↑↑↑↑↑↑↑↑ You should finish this block for improve the performance. ↑↑↑↑↑↑↑↑↑↑↑↑↑↑↑↑↑↑↑↑↑"
      ],
      "execution_count": 0,
      "outputs": []
    },
    {
      "cell_type": "code",
      "metadata": {
        "id": "3yYyIeK1URw3",
        "colab_type": "code",
        "colab": {}
      },
      "source": [
        "# ↓↓↓↓↓↓↓↓↓↓↓↓↓ You should finish this block for improve the performance. ↓↓↓↓↓↓↓↓↓↓↓↓↓↓↓↓↓↓↓↓↓\n",
        "N_Epoch = 100\n",
        "BATCH_SIZE = 32\n",
        "# ↑↑↑↑↑↑↑↑↑↑↑↑↑ You should finish this block for improve the performance. ↑↑↑↑↑↑↑↑↑↑↑↑↑↑↑↑↑↑↑↑↑"
      ],
      "execution_count": 0,
      "outputs": []
    },
    {
      "cell_type": "code",
      "metadata": {
        "id": "MfUHos_QURw5",
        "colab_type": "code",
        "outputId": "64b6e7f1-6363-481d-f27b-afb059a71c07",
        "colab": {
          "base_uri": "https://localhost:8080/",
          "height": 366
        }
      },
      "source": [
        "train_accs = list()\n",
        "val_accs = list()\n",
        "train_losses = list()\n",
        "val_losses = list()\n",
        "\n",
        "for epoch in range(N_Epoch):\n",
        "    for x_batch, y_batch in iterate_minibatches(x_train, y_train, batchsize=BATCH_SIZE,shuffle=True):\n",
        "        train_loss = clf.train(x_batch, y_batch)\n",
        "    val_loss = clf.loss(x_val, y_val)\n",
        "    \n",
        "    \n",
        "    train_losses.append(train_loss)\n",
        "    val_losses.append(val_loss)\n",
        "    \n",
        "    train_accs.append(np.mean(clf.predict(x_train)==y_train))\n",
        "    val_accs.append(np.mean(clf.predict(x_val)==y_val))\n",
        "    \n",
        "    \n",
        "    \n",
        "    clear_output()\n",
        "    print(\"Epoch\", epoch)\n",
        "    print(\"Train loss:\", train_losses[-1])\n",
        "    print(\"Val loss:\", val_losses[-1])\n",
        "    print(\"Train accuracy:\", train_accs[-1])\n",
        "    print(\"Val accuracy:\", val_accs[-1])\n",
        "    \n",
        "    fig, ax = plt.subplots(2, 1)\n",
        "    ax[0].plot(train_losses, label='train loss')\n",
        "    ax[0].plot(val_losses, label='val loss')\n",
        "    ax[0].legend(loc='best')\n",
        "    ax[0].grid()\n",
        "    ax[0].set_ylabel('loss')\n",
        "    ax[1].plot(train_accs,label='train accuracy')\n",
        "    ax[1].plot(val_accs,label='val accuracy')\n",
        "    ax[1].legend(loc='best')\n",
        "    ax[1].set_ylabel('accuracy')\n",
        "    ax[1].grid()\n",
        "    ax[1].set_xlabel('epoch')\n",
        "    plt.show()"
      ],
      "execution_count": 0,
      "outputs": [
        {
          "output_type": "stream",
          "text": [
            "Epoch 99\n",
            "Train loss: 0.011771668522684436\n",
            "Val loss: 0.1922856235535297\n",
            "Train accuracy: 0.9967775987554864\n",
            "Val accuracy: 0.9455\n"
          ],
          "name": "stdout"
        },
        {
          "output_type": "display_data",
          "data": {
            "image/png": "[encoded data removed]",
            "text/plain": [
              "<Figure size 432x288 with 2 Axes>"
            ]
          },
          "metadata": {
            "tags": []
          }
        }
      ]
    },
    {
      "cell_type": "markdown",
      "metadata": {
        "id": "YN2QPCdnURw7",
        "colab_type": "text"
      },
      "source": [
        "### ** SCORE 2/4 **"
      ]
    },
    {
      "cell_type": "code",
      "metadata": {
        "id": "vi0uazW4URw8",
        "colab_type": "code",
        "outputId": "edb49998-4add-4d80-a286-c22a16cc8fb9",
        "colab": {
          "base_uri": "https://localhost:8080/",
          "height": 34
        }
      },
      "source": [
        "accuracy_score(clf.predict(x_test), y_test)"
      ],
      "execution_count": 0,
      "outputs": [
        {
          "output_type": "execute_result",
          "data": {
            "text/plain": [
              "0.9523952395239524"
            ]
          },
          "metadata": {
            "tags": []
          },
          "execution_count": 77
        }
      ]
    },
    {
      "cell_type": "markdown",
      "metadata": {
        "id": "z3jnH2zhURw-",
        "colab_type": "text"
      },
      "source": [
        "## keras within tensorflow 2.0"
      ]
    },
    {
      "cell_type": "code",
      "metadata": {
        "id": "RlnRHKJ4URxA",
        "colab_type": "code",
        "outputId": "058889ac-68e6-42df-c2c4-2bc2a01dc5f1",
        "colab": {
          "base_uri": "https://localhost:8080/",
          "height": 34
        }
      },
      "source": [
        "import tensorflow.compat.v1 as tf\n",
        "tf.disable_v2_behavior()\n",
        "# import tensorflow as tf\n",
        "print('tf.__version__ = ', tf.__version__)"
      ],
      "execution_count": 0,
      "outputs": [
        {
          "output_type": "stream",
          "text": [
            "tf.__version__ =  1.15.0\n"
          ],
          "name": "stdout"
        }
      ]
    },
    {
      "cell_type": "markdown",
      "metadata": {
        "id": "d1CfSdTZURxD",
        "colab_type": "text"
      },
      "source": [
        "# modeling"
      ]
    },
    {
      "cell_type": "code",
      "metadata": {
        "id": "WSkWJK55URxD",
        "colab_type": "code",
        "outputId": "3191f3b0-5101-4102-c7f8-16bf97b94cce",
        "colab": {
          "base_uri": "https://localhost:8080/",
          "height": 1000
        }
      },
      "source": [
        "# ↓↓↓↓↓↓↓↓↓↓↓↓↓ You can modify this block for improve the performance. ↓↓↓↓↓↓↓↓↓↓↓↓↓↓↓↓↓↓↓↓↓\n",
        "\n",
        "N_Epoch = 100\n",
        "BATCH_SIZE = 32\n",
        "\n",
        "model = tf.keras.models.Sequential([\n",
        "    tf.keras.layers.Dense(32, input_shape=(x_train.shape[1], ), activation='relu'),\n",
        "    tf.keras.layers.Dense(32, activation='relu'),\n",
        "    tf.keras.layers.Dense(len(set(y_train)), activation='softmax')\n",
        "])\n",
        "\n",
        "optimizer = tf.keras.optimizers.SGD(learning_rate=0.01)\n",
        "loss = tf.keras.losses.sparse_categorical_crossentropy\n",
        "\n",
        "model.compile(optimizer=optimizer,\n",
        "              loss=loss,             \n",
        "              metrics=['acc'])\n",
        "\n",
        "model.fit(x_train, y_train, epochs=N_Epoch, verbose=2, validation_data=(x_val, y_val), batch_size=BATCH_SIZE)\n",
        "\n",
        "# ↑↑↑↑↑↑↑↑↑↑↑↑↑ You can modify this block for improve the performance. ↑↑↑↑↑↑↑↑↑↑↑↑↑↑↑↑↑↑↑↑↑"
      ],
      "execution_count": 0,
      "outputs": [
        {
          "output_type": "stream",
          "text": [
            "Train on 17999 samples, validate on 2000 samples\n",
            "Epoch 1/100\n",
            "17999/17999 - 1s - loss: 1.4304 - acc: 0.5949 - val_loss: 0.7085 - val_acc: 0.8230\n",
            "Epoch 2/100\n",
            "17999/17999 - 1s - loss: 0.5254 - acc: 0.8600 - val_loss: 0.4584 - val_acc: 0.8735\n",
            "Epoch 3/100\n",
            "17999/17999 - 1s - loss: 0.3965 - acc: 0.8888 - val_loss: 0.3940 - val_acc: 0.8860\n",
            "Epoch 4/100\n",
            "17999/17999 - 1s - loss: 0.3470 - acc: 0.9001 - val_loss: 0.3604 - val_acc: 0.8980\n",
            "Epoch 5/100\n",
            "17999/17999 - 1s - loss: 0.3173 - acc: 0.9083 - val_loss: 0.3339 - val_acc: 0.9025\n",
            "Epoch 6/100\n",
            "17999/17999 - 1s - loss: 0.2954 - acc: 0.9135 - val_loss: 0.3289 - val_acc: 0.9005\n",
            "Epoch 7/100\n",
            "17999/17999 - 1s - loss: 0.2770 - acc: 0.9189 - val_loss: 0.3252 - val_acc: 0.9000\n",
            "Epoch 8/100\n",
            "17999/17999 - 1s - loss: 0.2628 - acc: 0.9227 - val_loss: 0.2886 - val_acc: 0.9130\n",
            "Epoch 9/100\n",
            "17999/17999 - 1s - loss: 0.2486 - acc: 0.9277 - val_loss: 0.2782 - val_acc: 0.9160\n",
            "Epoch 10/100\n",
            "17999/17999 - 1s - loss: 0.2372 - acc: 0.9312 - val_loss: 0.2653 - val_acc: 0.9210\n",
            "Epoch 11/100\n",
            "17999/17999 - 1s - loss: 0.2261 - acc: 0.9352 - val_loss: 0.2619 - val_acc: 0.9190\n",
            "Epoch 12/100\n",
            "17999/17999 - 1s - loss: 0.2167 - acc: 0.9372 - val_loss: 0.2545 - val_acc: 0.9220\n",
            "Epoch 13/100\n",
            "17999/17999 - 1s - loss: 0.2080 - acc: 0.9412 - val_loss: 0.2597 - val_acc: 0.9180\n",
            "Epoch 14/100\n",
            "17999/17999 - 1s - loss: 0.1999 - acc: 0.9434 - val_loss: 0.2476 - val_acc: 0.9245\n",
            "Epoch 15/100\n",
            "17999/17999 - 1s - loss: 0.1926 - acc: 0.9450 - val_loss: 0.2389 - val_acc: 0.9275\n",
            "Epoch 16/100\n",
            "17999/17999 - 1s - loss: 0.1853 - acc: 0.9465 - val_loss: 0.2305 - val_acc: 0.9280\n",
            "Epoch 17/100\n",
            "17999/17999 - 1s - loss: 0.1785 - acc: 0.9493 - val_loss: 0.2248 - val_acc: 0.9340\n",
            "Epoch 18/100\n",
            "17999/17999 - 1s - loss: 0.1729 - acc: 0.9511 - val_loss: 0.2253 - val_acc: 0.9340\n",
            "Epoch 19/100\n",
            "17999/17999 - 1s - loss: 0.1670 - acc: 0.9526 - val_loss: 0.2174 - val_acc: 0.9330\n",
            "Epoch 20/100\n",
            "17999/17999 - 1s - loss: 0.1621 - acc: 0.9541 - val_loss: 0.2206 - val_acc: 0.9365\n",
            "Epoch 21/100\n",
            "17999/17999 - 1s - loss: 0.1567 - acc: 0.9552 - val_loss: 0.2071 - val_acc: 0.9410\n",
            "Epoch 22/100\n",
            "17999/17999 - 1s - loss: 0.1524 - acc: 0.9571 - val_loss: 0.2126 - val_acc: 0.9370\n",
            "Epoch 23/100\n",
            "17999/17999 - 1s - loss: 0.1483 - acc: 0.9581 - val_loss: 0.2043 - val_acc: 0.9355\n",
            "Epoch 24/100\n",
            "17999/17999 - 1s - loss: 0.1442 - acc: 0.9586 - val_loss: 0.2010 - val_acc: 0.9405\n",
            "Epoch 25/100\n",
            "17999/17999 - 1s - loss: 0.1404 - acc: 0.9604 - val_loss: 0.2051 - val_acc: 0.9405\n",
            "Epoch 26/100\n",
            "17999/17999 - 1s - loss: 0.1361 - acc: 0.9621 - val_loss: 0.2040 - val_acc: 0.9400\n",
            "Epoch 27/100\n",
            "17999/17999 - 1s - loss: 0.1329 - acc: 0.9634 - val_loss: 0.2007 - val_acc: 0.9390\n",
            "Epoch 28/100\n",
            "17999/17999 - 1s - loss: 0.1293 - acc: 0.9641 - val_loss: 0.1893 - val_acc: 0.9440\n",
            "Epoch 29/100\n",
            "17999/17999 - 1s - loss: 0.1260 - acc: 0.9648 - val_loss: 0.1884 - val_acc: 0.9440\n",
            "Epoch 30/100\n",
            "17999/17999 - 1s - loss: 0.1228 - acc: 0.9654 - val_loss: 0.1883 - val_acc: 0.9430\n",
            "Epoch 31/100\n",
            "17999/17999 - 1s - loss: 0.1197 - acc: 0.9668 - val_loss: 0.1913 - val_acc: 0.9455\n",
            "Epoch 32/100\n",
            "17999/17999 - 1s - loss: 0.1169 - acc: 0.9681 - val_loss: 0.1880 - val_acc: 0.9420\n",
            "Epoch 33/100\n",
            "17999/17999 - 1s - loss: 0.1143 - acc: 0.9682 - val_loss: 0.1841 - val_acc: 0.9440\n",
            "Epoch 34/100\n",
            "17999/17999 - 1s - loss: 0.1117 - acc: 0.9690 - val_loss: 0.1814 - val_acc: 0.9445\n",
            "Epoch 35/100\n",
            "17999/17999 - 1s - loss: 0.1094 - acc: 0.9694 - val_loss: 0.1772 - val_acc: 0.9480\n",
            "Epoch 36/100\n",
            "17999/17999 - 1s - loss: 0.1063 - acc: 0.9701 - val_loss: 0.1796 - val_acc: 0.9480\n",
            "Epoch 37/100\n",
            "17999/17999 - 1s - loss: 0.1043 - acc: 0.9716 - val_loss: 0.1832 - val_acc: 0.9480\n",
            "Epoch 38/100\n",
            "17999/17999 - 1s - loss: 0.1022 - acc: 0.9716 - val_loss: 0.1747 - val_acc: 0.9480\n",
            "Epoch 39/100\n",
            "17999/17999 - 1s - loss: 0.0995 - acc: 0.9719 - val_loss: 0.1728 - val_acc: 0.9515\n",
            "Epoch 40/100\n",
            "17999/17999 - 1s - loss: 0.0969 - acc: 0.9728 - val_loss: 0.1790 - val_acc: 0.9470\n",
            "Epoch 41/100\n",
            "17999/17999 - 1s - loss: 0.0951 - acc: 0.9738 - val_loss: 0.1762 - val_acc: 0.9475\n",
            "Epoch 42/100\n",
            "17999/17999 - 1s - loss: 0.0928 - acc: 0.9745 - val_loss: 0.1731 - val_acc: 0.9475\n",
            "Epoch 43/100\n",
            "17999/17999 - 1s - loss: 0.0910 - acc: 0.9746 - val_loss: 0.1721 - val_acc: 0.9480\n",
            "Epoch 44/100\n",
            "17999/17999 - 1s - loss: 0.0885 - acc: 0.9759 - val_loss: 0.1725 - val_acc: 0.9460\n",
            "Epoch 45/100\n",
            "17999/17999 - 1s - loss: 0.0869 - acc: 0.9761 - val_loss: 0.1672 - val_acc: 0.9505\n",
            "Epoch 46/100\n",
            "17999/17999 - 1s - loss: 0.0852 - acc: 0.9779 - val_loss: 0.1753 - val_acc: 0.9470\n",
            "Epoch 47/100\n",
            "17999/17999 - 1s - loss: 0.0831 - acc: 0.9779 - val_loss: 0.1674 - val_acc: 0.9495\n",
            "Epoch 48/100\n",
            "17999/17999 - 1s - loss: 0.0818 - acc: 0.9783 - val_loss: 0.1742 - val_acc: 0.9485\n",
            "Epoch 49/100\n",
            "17999/17999 - 1s - loss: 0.0797 - acc: 0.9793 - val_loss: 0.1655 - val_acc: 0.9490\n",
            "Epoch 50/100\n",
            "17999/17999 - 1s - loss: 0.0778 - acc: 0.9796 - val_loss: 0.1730 - val_acc: 0.9460\n",
            "Epoch 51/100\n",
            "17999/17999 - 1s - loss: 0.0758 - acc: 0.9794 - val_loss: 0.1675 - val_acc: 0.9505\n",
            "Epoch 52/100\n",
            "17999/17999 - 1s - loss: 0.0742 - acc: 0.9805 - val_loss: 0.1673 - val_acc: 0.9535\n",
            "Epoch 53/100\n",
            "17999/17999 - 1s - loss: 0.0728 - acc: 0.9814 - val_loss: 0.1659 - val_acc: 0.9535\n",
            "Epoch 54/100\n",
            "17999/17999 - 1s - loss: 0.0716 - acc: 0.9822 - val_loss: 0.1667 - val_acc: 0.9545\n",
            "Epoch 55/100\n",
            "17999/17999 - 1s - loss: 0.0697 - acc: 0.9832 - val_loss: 0.1645 - val_acc: 0.9515\n",
            "Epoch 56/100\n",
            "17999/17999 - 1s - loss: 0.0683 - acc: 0.9828 - val_loss: 0.1693 - val_acc: 0.9520\n",
            "Epoch 57/100\n",
            "17999/17999 - 1s - loss: 0.0668 - acc: 0.9837 - val_loss: 0.1638 - val_acc: 0.9520\n",
            "Epoch 58/100\n",
            "17999/17999 - 1s - loss: 0.0651 - acc: 0.9838 - val_loss: 0.1723 - val_acc: 0.9530\n",
            "Epoch 59/100\n",
            "17999/17999 - 1s - loss: 0.0644 - acc: 0.9849 - val_loss: 0.1677 - val_acc: 0.9500\n",
            "Epoch 60/100\n",
            "17999/17999 - 1s - loss: 0.0625 - acc: 0.9854 - val_loss: 0.1700 - val_acc: 0.9485\n",
            "Epoch 61/100\n",
            "17999/17999 - 1s - loss: 0.0611 - acc: 0.9859 - val_loss: 0.1674 - val_acc: 0.9510\n",
            "Epoch 62/100\n",
            "17999/17999 - 1s - loss: 0.0601 - acc: 0.9852 - val_loss: 0.1608 - val_acc: 0.9520\n",
            "Epoch 63/100\n",
            "17999/17999 - 1s - loss: 0.0587 - acc: 0.9866 - val_loss: 0.1719 - val_acc: 0.9465\n",
            "Epoch 64/100\n",
            "17999/17999 - 1s - loss: 0.0574 - acc: 0.9870 - val_loss: 0.1633 - val_acc: 0.9555\n",
            "Epoch 65/100\n",
            "17999/17999 - 1s - loss: 0.0561 - acc: 0.9869 - val_loss: 0.1623 - val_acc: 0.9535\n",
            "Epoch 66/100\n",
            "17999/17999 - 1s - loss: 0.0547 - acc: 0.9869 - val_loss: 0.1659 - val_acc: 0.9530\n",
            "Epoch 67/100\n",
            "17999/17999 - 1s - loss: 0.0535 - acc: 0.9872 - val_loss: 0.1639 - val_acc: 0.9520\n",
            "Epoch 68/100\n",
            "17999/17999 - 1s - loss: 0.0525 - acc: 0.9878 - val_loss: 0.1659 - val_acc: 0.9510\n",
            "Epoch 69/100\n",
            "17999/17999 - 1s - loss: 0.0512 - acc: 0.9886 - val_loss: 0.1643 - val_acc: 0.9530\n",
            "Epoch 70/100\n",
            "17999/17999 - 1s - loss: 0.0502 - acc: 0.9891 - val_loss: 0.1664 - val_acc: 0.9515\n",
            "Epoch 71/100\n",
            "17999/17999 - 1s - loss: 0.0490 - acc: 0.9892 - val_loss: 0.1702 - val_acc: 0.9530\n",
            "Epoch 72/100\n",
            "17999/17999 - 1s - loss: 0.0478 - acc: 0.9889 - val_loss: 0.1710 - val_acc: 0.9565\n",
            "Epoch 73/100\n",
            "17999/17999 - 1s - loss: 0.0471 - acc: 0.9898 - val_loss: 0.1680 - val_acc: 0.9525\n",
            "Epoch 74/100\n",
            "17999/17999 - 1s - loss: 0.0457 - acc: 0.9904 - val_loss: 0.1637 - val_acc: 0.9560\n",
            "Epoch 75/100\n",
            "17999/17999 - 1s - loss: 0.0449 - acc: 0.9904 - val_loss: 0.1660 - val_acc: 0.9560\n",
            "Epoch 76/100\n",
            "17999/17999 - 1s - loss: 0.0440 - acc: 0.9912 - val_loss: 0.1660 - val_acc: 0.9510\n",
            "Epoch 77/100\n",
            "17999/17999 - 1s - loss: 0.0428 - acc: 0.9904 - val_loss: 0.1692 - val_acc: 0.9535\n",
            "Epoch 78/100\n",
            "17999/17999 - 1s - loss: 0.0420 - acc: 0.9913 - val_loss: 0.1731 - val_acc: 0.9530\n",
            "Epoch 79/100\n",
            "17999/17999 - 1s - loss: 0.0406 - acc: 0.9919 - val_loss: 0.1738 - val_acc: 0.9530\n",
            "Epoch 80/100\n",
            "17999/17999 - 1s - loss: 0.0402 - acc: 0.9921 - val_loss: 0.1687 - val_acc: 0.9545\n",
            "Epoch 81/100\n",
            "17999/17999 - 1s - loss: 0.0388 - acc: 0.9922 - val_loss: 0.1741 - val_acc: 0.9515\n",
            "Epoch 82/100\n",
            "17999/17999 - 1s - loss: 0.0385 - acc: 0.9926 - val_loss: 0.1739 - val_acc: 0.9520\n",
            "Epoch 83/100\n",
            "17999/17999 - 1s - loss: 0.0374 - acc: 0.9927 - val_loss: 0.1697 - val_acc: 0.9520\n",
            "Epoch 84/100\n",
            "17999/17999 - 1s - loss: 0.0368 - acc: 0.9934 - val_loss: 0.1770 - val_acc: 0.9495\n",
            "Epoch 85/100\n",
            "17999/17999 - 1s - loss: 0.0361 - acc: 0.9929 - val_loss: 0.1714 - val_acc: 0.9525\n",
            "Epoch 86/100\n",
            "17999/17999 - 1s - loss: 0.0351 - acc: 0.9932 - val_loss: 0.1691 - val_acc: 0.9515\n",
            "Epoch 87/100\n",
            "17999/17999 - 1s - loss: 0.0344 - acc: 0.9931 - val_loss: 0.1782 - val_acc: 0.9510\n",
            "Epoch 88/100\n",
            "17999/17999 - 1s - loss: 0.0337 - acc: 0.9939 - val_loss: 0.1683 - val_acc: 0.9560\n",
            "Epoch 89/100\n",
            "17999/17999 - 1s - loss: 0.0332 - acc: 0.9939 - val_loss: 0.1679 - val_acc: 0.9540\n",
            "Epoch 90/100\n",
            "17999/17999 - 1s - loss: 0.0322 - acc: 0.9937 - val_loss: 0.1700 - val_acc: 0.9530\n",
            "Epoch 91/100\n",
            "17999/17999 - 1s - loss: 0.0315 - acc: 0.9943 - val_loss: 0.1728 - val_acc: 0.9510\n",
            "Epoch 92/100\n",
            "17999/17999 - 1s - loss: 0.0306 - acc: 0.9947 - val_loss: 0.1766 - val_acc: 0.9525\n",
            "Epoch 93/100\n",
            "17999/17999 - 1s - loss: 0.0302 - acc: 0.9948 - val_loss: 0.1736 - val_acc: 0.9545\n",
            "Epoch 94/100\n",
            "17999/17999 - 1s - loss: 0.0295 - acc: 0.9948 - val_loss: 0.1742 - val_acc: 0.9525\n",
            "Epoch 95/100\n",
            "17999/17999 - 1s - loss: 0.0286 - acc: 0.9946 - val_loss: 0.1737 - val_acc: 0.9540\n",
            "Epoch 96/100\n",
            "17999/17999 - 1s - loss: 0.0283 - acc: 0.9957 - val_loss: 0.1772 - val_acc: 0.9520\n",
            "Epoch 97/100\n",
            "17999/17999 - 1s - loss: 0.0276 - acc: 0.9954 - val_loss: 0.1780 - val_acc: 0.9535\n",
            "Epoch 98/100\n",
            "17999/17999 - 1s - loss: 0.0272 - acc: 0.9956 - val_loss: 0.1819 - val_acc: 0.9550\n",
            "Epoch 99/100\n",
            "17999/17999 - 1s - loss: 0.0265 - acc: 0.9956 - val_loss: 0.1780 - val_acc: 0.9505\n",
            "Epoch 100/100\n",
            "17999/17999 - 1s - loss: 0.0260 - acc: 0.9962 - val_loss: 0.1778 - val_acc: 0.9520\n"
          ],
          "name": "stdout"
        },
        {
          "output_type": "execute_result",
          "data": {
            "text/plain": [
              "<tensorflow.python.keras.callbacks.History at 0x7f8fe2ea0d30>"
            ]
          },
          "metadata": {
            "tags": []
          },
          "execution_count": 84
        }
      ]
    },
    {
      "cell_type": "markdown",
      "metadata": {
        "id": "Bz94zWY9URxF",
        "colab_type": "text"
      },
      "source": [
        "### [Try some more optimizers! Adam](https://www.tensorflow.org/api_docs/python/tf/keras/optimizers)\n",
        "### [Try some more loss functions!](https://www.tensorflow.org/api_docs/python/tf/keras/losses)"
      ]
    },
    {
      "cell_type": "markdown",
      "metadata": {
        "id": "0T0D-WJ5URxG",
        "colab_type": "text"
      },
      "source": [
        "### ** SCORE 3/4 **"
      ]
    },
    {
      "cell_type": "code",
      "metadata": {
        "id": "BFswRdxPURxG",
        "colab_type": "code",
        "outputId": "1170b658-9399-428b-9f07-821de159225d",
        "colab": {
          "base_uri": "https://localhost:8080/",
          "height": 34
        }
      },
      "source": [
        "accuracy_score(model.predict_classes(x_test), y_test)"
      ],
      "execution_count": 0,
      "outputs": [
        {
          "output_type": "execute_result",
          "data": {
            "text/plain": [
              "0.9241924192419242"
            ]
          },
          "metadata": {
            "tags": []
          },
          "execution_count": 101
        }
      ]
    },
    {
      "cell_type": "markdown",
      "metadata": {
        "id": "9d1EKCN2URxH",
        "colab_type": "text"
      },
      "source": [
        "# California Housing Price dataset"
      ]
    },
    {
      "cell_type": "code",
      "metadata": {
        "id": "8oP0_0j4URxI",
        "colab_type": "code",
        "outputId": "539ec5ef-daf1-49fc-dd95-d1604ea94285",
        "colab": {
          "base_uri": "https://localhost:8080/",
          "height": 121
        }
      },
      "source": [
        "normalizer = StandardScaler()\n",
        "y_normalizer = StandardScaler()\n",
        "\n",
        "df_train = pd.read_csv('sample_data/california_housing_train.csv').sample(frac=1, random_state=0).reset_index(drop=True)\n",
        "df_test = pd.read_csv('sample_data/california_housing_test.csv')\n",
        "\n",
        "x = df_train.iloc[:, :-1].values\n",
        "y = df_train.iloc[:, -1].values\n",
        "\n",
        "val_ratio = 0.1\n",
        "val_splitter = int(x.shape[0] * (1-val_ratio))\n",
        "\n",
        "x_train = normalizer.fit_transform(x[:val_splitter])\n",
        "y_train = y_normalizer.fit_transform(y[:val_splitter].reshape(-1, 1)).reshape(-1)\n",
        "\n",
        "x_val = normalizer.transform(x[val_splitter:])\n",
        "y_val = y_normalizer.transform(y[val_splitter:].reshape(-1, 1)).reshape(-1)\n",
        "\n",
        "x_test = normalizer.transform(df_test.iloc[:, :-1])\n",
        "y_test = y_normalizer.transform(df_test.iloc[:, -1].values.reshape(-1, 1)).reshape(-1)\n",
        "\n",
        "print('x_train.shape', x_train.shape)\n",
        "print('y_train.shape', y_train.shape)\n",
        "print('x_val.shape', x_val.shape)\n",
        "print('y_val.shape', y_val.shape)\n",
        "print('x_test.shape', x_test.shape)\n",
        "print('y_test.shape', y_test.shape)\n",
        "\n",
        "# x_train.shape (17999, 784)\n",
        "# y_train.shape (17999,)\n",
        "# x_val.shape (2000, 784)\n",
        "# y_val.shape (2000,)\n",
        "# x_test.shape (9999, 784)\n",
        "# y_test.shape (9999,)"
      ],
      "execution_count": 0,
      "outputs": [
        {
          "output_type": "stream",
          "text": [
            "x_train.shape (15300, 8)\n",
            "y_train.shape (15300,)\n",
            "x_val.shape (1700, 8)\n",
            "y_val.shape (1700,)\n",
            "x_test.shape (3000, 8)\n",
            "y_test.shape (3000,)\n"
          ],
          "name": "stdout"
        }
      ]
    },
    {
      "cell_type": "markdown",
      "metadata": {
        "id": "7Y-T1T4wURxK",
        "colab_type": "text"
      },
      "source": [
        "# modeling"
      ]
    },
    {
      "cell_type": "code",
      "metadata": {
        "id": "HICq-K9LURxK",
        "colab_type": "code",
        "outputId": "9d7ab494-57e1-4040-8e06-54d92052bce0",
        "colab": {
          "base_uri": "https://localhost:8080/",
          "height": 1000
        }
      },
      "source": [
        "import tensorflow as tf\n",
        "\n",
        "# ↓↓↓↓↓↓↓↓↓↓↓↓↓ You should finish this block for improve the performance. ↓↓↓↓↓↓↓↓↓↓↓↓↓↓↓↓↓↓↓↓↓\n",
        "\n",
        "N_Epoch = 100\n",
        "BATCH_SIZE = 32\n",
        "\n",
        "model = tf.keras.models.Sequential([\n",
        "    tf.keras.layers.Dense(32, input_shape=(x_train.shape[1], ), activation='relu'),\n",
        "    tf.keras.layers.Dense(32, activation='relu'),\n",
        "    tf.keras.layers.Dense(1, activation='linear')\n",
        "])\n",
        "\n",
        "optimizer = tf.keras.optimizers.SGD(learning_rate=0.001)\n",
        "loss = tf.keras.losses.MSE\n",
        "\n",
        "model.compile(optimizer=optimizer,\n",
        "              loss=loss,             \n",
        "              metrics=['mae'])\n",
        "\n",
        "model.fit(x_train, y_train, epochs=N_Epoch, verbose=2, validation_data=(x_val, y_val), batch_size=BATCH_SIZE)\n",
        "\n",
        "# ↑↑↑↑↑↑↑↑↑↑↑↑↑ You should finish this block for improve the performance. ↑↑↑↑↑↑↑↑↑↑↑↑↑↑↑↑↑↑↑↑↑"
      ],
      "execution_count": 0,
      "outputs": [
        {
          "output_type": "stream",
          "text": [
            "Train on 15300 samples, validate on 1700 samples\n",
            "Epoch 1/100\n",
            "15300/15300 - 1s - loss: 1.0255 - mean_absolute_error: 0.8020 - val_loss: 0.8027 - val_mean_absolute_error: 0.7051\n",
            "Epoch 2/100\n",
            "15300/15300 - 1s - loss: 0.6927 - mean_absolute_error: 0.6498 - val_loss: 0.5636 - val_mean_absolute_error: 0.5844\n",
            "Epoch 3/100\n",
            "15300/15300 - 1s - loss: 0.5144 - mean_absolute_error: 0.5497 - val_loss: 0.4590 - val_mean_absolute_error: 0.5168\n",
            "Epoch 4/100\n",
            "15300/15300 - 1s - loss: 0.4402 - mean_absolute_error: 0.4985 - val_loss: 0.4171 - val_mean_absolute_error: 0.4883\n",
            "Epoch 5/100\n",
            "15300/15300 - 1s - loss: 0.4057 - mean_absolute_error: 0.4733 - val_loss: 0.3947 - val_mean_absolute_error: 0.4669\n",
            "Epoch 6/100\n",
            "15300/15300 - 1s - loss: 0.3848 - mean_absolute_error: 0.4572 - val_loss: 0.3812 - val_mean_absolute_error: 0.4529\n",
            "Epoch 7/100\n",
            "15300/15300 - 1s - loss: 0.3699 - mean_absolute_error: 0.4457 - val_loss: 0.3716 - val_mean_absolute_error: 0.4428\n",
            "Epoch 8/100\n",
            "15300/15300 - 1s - loss: 0.3583 - mean_absolute_error: 0.4372 - val_loss: 0.3629 - val_mean_absolute_error: 0.4348\n",
            "Epoch 9/100\n",
            "15300/15300 - 1s - loss: 0.3489 - mean_absolute_error: 0.4301 - val_loss: 0.3583 - val_mean_absolute_error: 0.4300\n",
            "Epoch 10/100\n",
            "15300/15300 - 1s - loss: 0.3411 - mean_absolute_error: 0.4248 - val_loss: 0.3495 - val_mean_absolute_error: 0.4223\n",
            "Epoch 11/100\n",
            "15300/15300 - 1s - loss: 0.3342 - mean_absolute_error: 0.4194 - val_loss: 0.3419 - val_mean_absolute_error: 0.4179\n",
            "Epoch 12/100\n",
            "15300/15300 - 1s - loss: 0.3280 - mean_absolute_error: 0.4147 - val_loss: 0.3358 - val_mean_absolute_error: 0.4148\n",
            "Epoch 13/100\n",
            "15300/15300 - 1s - loss: 0.3224 - mean_absolute_error: 0.4109 - val_loss: 0.3303 - val_mean_absolute_error: 0.4117\n",
            "Epoch 14/100\n",
            "15300/15300 - 1s - loss: 0.3174 - mean_absolute_error: 0.4073 - val_loss: 0.3227 - val_mean_absolute_error: 0.4052\n",
            "Epoch 15/100\n",
            "15300/15300 - 1s - loss: 0.3128 - mean_absolute_error: 0.4033 - val_loss: 0.3171 - val_mean_absolute_error: 0.4051\n",
            "Epoch 16/100\n",
            "15300/15300 - 1s - loss: 0.3087 - mean_absolute_error: 0.4007 - val_loss: 0.3115 - val_mean_absolute_error: 0.3996\n",
            "Epoch 17/100\n",
            "15300/15300 - 1s - loss: 0.3050 - mean_absolute_error: 0.3974 - val_loss: 0.3073 - val_mean_absolute_error: 0.3973\n",
            "Epoch 18/100\n",
            "15300/15300 - 1s - loss: 0.3016 - mean_absolute_error: 0.3950 - val_loss: 0.3022 - val_mean_absolute_error: 0.3956\n",
            "Epoch 19/100\n",
            "15300/15300 - 1s - loss: 0.2985 - mean_absolute_error: 0.3926 - val_loss: 0.3006 - val_mean_absolute_error: 0.3984\n",
            "Epoch 20/100\n",
            "15300/15300 - 1s - loss: 0.2959 - mean_absolute_error: 0.3913 - val_loss: 0.2943 - val_mean_absolute_error: 0.3874\n",
            "Epoch 21/100\n",
            "15300/15300 - 1s - loss: 0.2933 - mean_absolute_error: 0.3883 - val_loss: 0.2923 - val_mean_absolute_error: 0.3885\n",
            "Epoch 22/100\n",
            "15300/15300 - 1s - loss: 0.2913 - mean_absolute_error: 0.3873 - val_loss: 0.2865 - val_mean_absolute_error: 0.3851\n",
            "Epoch 23/100\n",
            "15300/15300 - 1s - loss: 0.2892 - mean_absolute_error: 0.3853 - val_loss: 0.2839 - val_mean_absolute_error: 0.3846\n",
            "Epoch 24/100\n",
            "15300/15300 - 1s - loss: 0.2873 - mean_absolute_error: 0.3841 - val_loss: 0.2807 - val_mean_absolute_error: 0.3805\n",
            "Epoch 25/100\n",
            "15300/15300 - 1s - loss: 0.2856 - mean_absolute_error: 0.3825 - val_loss: 0.2781 - val_mean_absolute_error: 0.3774\n",
            "Epoch 26/100\n",
            "15300/15300 - 1s - loss: 0.2840 - mean_absolute_error: 0.3808 - val_loss: 0.2760 - val_mean_absolute_error: 0.3788\n",
            "Epoch 27/100\n",
            "15300/15300 - 1s - loss: 0.2825 - mean_absolute_error: 0.3800 - val_loss: 0.2753 - val_mean_absolute_error: 0.3791\n",
            "Epoch 28/100\n",
            "15300/15300 - 1s - loss: 0.2812 - mean_absolute_error: 0.3790 - val_loss: 0.2728 - val_mean_absolute_error: 0.3755\n",
            "Epoch 29/100\n",
            "15300/15300 - 1s - loss: 0.2800 - mean_absolute_error: 0.3779 - val_loss: 0.2711 - val_mean_absolute_error: 0.3751\n",
            "Epoch 30/100\n",
            "15300/15300 - 1s - loss: 0.2790 - mean_absolute_error: 0.3769 - val_loss: 0.2699 - val_mean_absolute_error: 0.3739\n",
            "Epoch 31/100\n",
            "15300/15300 - 1s - loss: 0.2780 - mean_absolute_error: 0.3761 - val_loss: 0.2680 - val_mean_absolute_error: 0.3712\n",
            "Epoch 32/100\n",
            "15300/15300 - 1s - loss: 0.2769 - mean_absolute_error: 0.3752 - val_loss: 0.2679 - val_mean_absolute_error: 0.3708\n",
            "Epoch 33/100\n",
            "15300/15300 - 1s - loss: 0.2759 - mean_absolute_error: 0.3743 - val_loss: 0.2667 - val_mean_absolute_error: 0.3713\n",
            "Epoch 34/100\n",
            "15300/15300 - 1s - loss: 0.2751 - mean_absolute_error: 0.3738 - val_loss: 0.2653 - val_mean_absolute_error: 0.3689\n",
            "Epoch 35/100\n",
            "15300/15300 - 1s - loss: 0.2743 - mean_absolute_error: 0.3729 - val_loss: 0.2644 - val_mean_absolute_error: 0.3700\n",
            "Epoch 36/100\n",
            "15300/15300 - 1s - loss: 0.2733 - mean_absolute_error: 0.3723 - val_loss: 0.2630 - val_mean_absolute_error: 0.3671\n",
            "Epoch 37/100\n",
            "15300/15300 - 1s - loss: 0.2728 - mean_absolute_error: 0.3715 - val_loss: 0.2628 - val_mean_absolute_error: 0.3695\n",
            "Epoch 38/100\n",
            "15300/15300 - 1s - loss: 0.2721 - mean_absolute_error: 0.3712 - val_loss: 0.2640 - val_mean_absolute_error: 0.3705\n",
            "Epoch 39/100\n",
            "15300/15300 - 1s - loss: 0.2715 - mean_absolute_error: 0.3707 - val_loss: 0.2612 - val_mean_absolute_error: 0.3671\n",
            "Epoch 40/100\n",
            "15300/15300 - 1s - loss: 0.2709 - mean_absolute_error: 0.3700 - val_loss: 0.2610 - val_mean_absolute_error: 0.3681\n",
            "Epoch 41/100\n",
            "15300/15300 - 1s - loss: 0.2703 - mean_absolute_error: 0.3697 - val_loss: 0.2602 - val_mean_absolute_error: 0.3655\n",
            "Epoch 42/100\n",
            "15300/15300 - 1s - loss: 0.2697 - mean_absolute_error: 0.3690 - val_loss: 0.2584 - val_mean_absolute_error: 0.3630\n",
            "Epoch 43/100\n",
            "15300/15300 - 1s - loss: 0.2691 - mean_absolute_error: 0.3681 - val_loss: 0.2592 - val_mean_absolute_error: 0.3666\n",
            "Epoch 44/100\n",
            "15300/15300 - 1s - loss: 0.2685 - mean_absolute_error: 0.3682 - val_loss: 0.2578 - val_mean_absolute_error: 0.3633\n",
            "Epoch 45/100\n",
            "15300/15300 - 1s - loss: 0.2679 - mean_absolute_error: 0.3671 - val_loss: 0.2583 - val_mean_absolute_error: 0.3658\n",
            "Epoch 46/100\n",
            "15300/15300 - 1s - loss: 0.2676 - mean_absolute_error: 0.3672 - val_loss: 0.2587 - val_mean_absolute_error: 0.3673\n",
            "Epoch 47/100\n",
            "15300/15300 - 1s - loss: 0.2671 - mean_absolute_error: 0.3669 - val_loss: 0.2560 - val_mean_absolute_error: 0.3625\n",
            "Epoch 48/100\n",
            "15300/15300 - 1s - loss: 0.2667 - mean_absolute_error: 0.3660 - val_loss: 0.2567 - val_mean_absolute_error: 0.3647\n",
            "Epoch 49/100\n",
            "15300/15300 - 1s - loss: 0.2662 - mean_absolute_error: 0.3660 - val_loss: 0.2554 - val_mean_absolute_error: 0.3618\n",
            "Epoch 50/100\n",
            "15300/15300 - 1s - loss: 0.2655 - mean_absolute_error: 0.3649 - val_loss: 0.2576 - val_mean_absolute_error: 0.3662\n",
            "Epoch 51/100\n",
            "15300/15300 - 1s - loss: 0.2653 - mean_absolute_error: 0.3653 - val_loss: 0.2544 - val_mean_absolute_error: 0.3600\n",
            "Epoch 52/100\n",
            "15300/15300 - 1s - loss: 0.2649 - mean_absolute_error: 0.3647 - val_loss: 0.2549 - val_mean_absolute_error: 0.3617\n",
            "Epoch 53/100\n",
            "15300/15300 - 1s - loss: 0.2644 - mean_absolute_error: 0.3643 - val_loss: 0.2541 - val_mean_absolute_error: 0.3596\n",
            "Epoch 54/100\n",
            "15300/15300 - 1s - loss: 0.2640 - mean_absolute_error: 0.3636 - val_loss: 0.2541 - val_mean_absolute_error: 0.3615\n",
            "Epoch 55/100\n",
            "15300/15300 - 1s - loss: 0.2637 - mean_absolute_error: 0.3635 - val_loss: 0.2552 - val_mean_absolute_error: 0.3642\n",
            "Epoch 56/100\n",
            "15300/15300 - 1s - loss: 0.2632 - mean_absolute_error: 0.3634 - val_loss: 0.2534 - val_mean_absolute_error: 0.3609\n",
            "Epoch 57/100\n",
            "15300/15300 - 1s - loss: 0.2629 - mean_absolute_error: 0.3627 - val_loss: 0.2532 - val_mean_absolute_error: 0.3607\n",
            "Epoch 58/100\n",
            "15300/15300 - 1s - loss: 0.2625 - mean_absolute_error: 0.3626 - val_loss: 0.2529 - val_mean_absolute_error: 0.3606\n",
            "Epoch 59/100\n",
            "15300/15300 - 1s - loss: 0.2622 - mean_absolute_error: 0.3621 - val_loss: 0.2525 - val_mean_absolute_error: 0.3596\n",
            "Epoch 60/100\n",
            "15300/15300 - 1s - loss: 0.2619 - mean_absolute_error: 0.3620 - val_loss: 0.2522 - val_mean_absolute_error: 0.3579\n",
            "Epoch 61/100\n",
            "15300/15300 - 1s - loss: 0.2614 - mean_absolute_error: 0.3613 - val_loss: 0.2525 - val_mean_absolute_error: 0.3602\n",
            "Epoch 62/100\n",
            "15300/15300 - 1s - loss: 0.2612 - mean_absolute_error: 0.3613 - val_loss: 0.2527 - val_mean_absolute_error: 0.3611\n",
            "Epoch 63/100\n",
            "15300/15300 - 1s - loss: 0.2609 - mean_absolute_error: 0.3612 - val_loss: 0.2517 - val_mean_absolute_error: 0.3580\n",
            "Epoch 64/100\n",
            "15300/15300 - 1s - loss: 0.2605 - mean_absolute_error: 0.3606 - val_loss: 0.2509 - val_mean_absolute_error: 0.3572\n",
            "Epoch 65/100\n",
            "15300/15300 - 1s - loss: 0.2602 - mean_absolute_error: 0.3602 - val_loss: 0.2512 - val_mean_absolute_error: 0.3574\n",
            "Epoch 66/100\n",
            "15300/15300 - 1s - loss: 0.2599 - mean_absolute_error: 0.3601 - val_loss: 0.2504 - val_mean_absolute_error: 0.3554\n",
            "Epoch 67/100\n",
            "15300/15300 - 1s - loss: 0.2595 - mean_absolute_error: 0.3593 - val_loss: 0.2510 - val_mean_absolute_error: 0.3582\n",
            "Epoch 68/100\n",
            "15300/15300 - 1s - loss: 0.2592 - mean_absolute_error: 0.3594 - val_loss: 0.2505 - val_mean_absolute_error: 0.3581\n",
            "Epoch 69/100\n",
            "15300/15300 - 1s - loss: 0.2589 - mean_absolute_error: 0.3591 - val_loss: 0.2504 - val_mean_absolute_error: 0.3582\n",
            "Epoch 70/100\n",
            "15300/15300 - 1s - loss: 0.2587 - mean_absolute_error: 0.3590 - val_loss: 0.2500 - val_mean_absolute_error: 0.3566\n",
            "Epoch 71/100\n",
            "15300/15300 - 1s - loss: 0.2585 - mean_absolute_error: 0.3587 - val_loss: 0.2489 - val_mean_absolute_error: 0.3534\n",
            "Epoch 72/100\n",
            "15300/15300 - 1s - loss: 0.2581 - mean_absolute_error: 0.3581 - val_loss: 0.2501 - val_mean_absolute_error: 0.3577\n",
            "Epoch 73/100\n",
            "15300/15300 - 1s - loss: 0.2578 - mean_absolute_error: 0.3580 - val_loss: 0.2486 - val_mean_absolute_error: 0.3547\n",
            "Epoch 74/100\n",
            "15300/15300 - 1s - loss: 0.2575 - mean_absolute_error: 0.3578 - val_loss: 0.2491 - val_mean_absolute_error: 0.3539\n",
            "Epoch 75/100\n",
            "15300/15300 - 1s - loss: 0.2574 - mean_absolute_error: 0.3573 - val_loss: 0.2483 - val_mean_absolute_error: 0.3547\n",
            "Epoch 76/100\n",
            "15300/15300 - 1s - loss: 0.2569 - mean_absolute_error: 0.3573 - val_loss: 0.2491 - val_mean_absolute_error: 0.3561\n",
            "Epoch 77/100\n",
            "15300/15300 - 1s - loss: 0.2568 - mean_absolute_error: 0.3569 - val_loss: 0.2496 - val_mean_absolute_error: 0.3575\n",
            "Epoch 78/100\n",
            "15300/15300 - 1s - loss: 0.2565 - mean_absolute_error: 0.3571 - val_loss: 0.2479 - val_mean_absolute_error: 0.3523\n",
            "Epoch 79/100\n",
            "15300/15300 - 1s - loss: 0.2563 - mean_absolute_error: 0.3563 - val_loss: 0.2480 - val_mean_absolute_error: 0.3552\n",
            "Epoch 80/100\n",
            "15300/15300 - 1s - loss: 0.2559 - mean_absolute_error: 0.3562 - val_loss: 0.2487 - val_mean_absolute_error: 0.3562\n",
            "Epoch 81/100\n",
            "15300/15300 - 1s - loss: 0.2558 - mean_absolute_error: 0.3566 - val_loss: 0.2471 - val_mean_absolute_error: 0.3529\n",
            "Epoch 82/100\n",
            "15300/15300 - 1s - loss: 0.2556 - mean_absolute_error: 0.3558 - val_loss: 0.2468 - val_mean_absolute_error: 0.3538\n",
            "Epoch 83/100\n",
            "15300/15300 - 1s - loss: 0.2552 - mean_absolute_error: 0.3558 - val_loss: 0.2460 - val_mean_absolute_error: 0.3504\n",
            "Epoch 84/100\n",
            "15300/15300 - 1s - loss: 0.2550 - mean_absolute_error: 0.3555 - val_loss: 0.2457 - val_mean_absolute_error: 0.3498\n",
            "Epoch 85/100\n",
            "15300/15300 - 1s - loss: 0.2548 - mean_absolute_error: 0.3547 - val_loss: 0.2480 - val_mean_absolute_error: 0.3569\n",
            "Epoch 86/100\n",
            "15300/15300 - 1s - loss: 0.2545 - mean_absolute_error: 0.3553 - val_loss: 0.2464 - val_mean_absolute_error: 0.3522\n",
            "Epoch 87/100\n",
            "15300/15300 - 1s - loss: 0.2543 - mean_absolute_error: 0.3548 - val_loss: 0.2464 - val_mean_absolute_error: 0.3518\n",
            "Epoch 88/100\n",
            "15300/15300 - 1s - loss: 0.2541 - mean_absolute_error: 0.3543 - val_loss: 0.2462 - val_mean_absolute_error: 0.3534\n",
            "Epoch 89/100\n",
            "15300/15300 - 1s - loss: 0.2539 - mean_absolute_error: 0.3545 - val_loss: 0.2453 - val_mean_absolute_error: 0.3503\n",
            "Epoch 90/100\n",
            "15300/15300 - 1s - loss: 0.2535 - mean_absolute_error: 0.3538 - val_loss: 0.2474 - val_mean_absolute_error: 0.3553\n",
            "Epoch 91/100\n",
            "15300/15300 - 1s - loss: 0.2534 - mean_absolute_error: 0.3541 - val_loss: 0.2447 - val_mean_absolute_error: 0.3496\n",
            "Epoch 92/100\n",
            "15300/15300 - 1s - loss: 0.2531 - mean_absolute_error: 0.3536 - val_loss: 0.2454 - val_mean_absolute_error: 0.3511\n",
            "Epoch 93/100\n",
            "15300/15300 - 1s - loss: 0.2529 - mean_absolute_error: 0.3531 - val_loss: 0.2467 - val_mean_absolute_error: 0.3533\n",
            "Epoch 94/100\n",
            "15300/15300 - 1s - loss: 0.2528 - mean_absolute_error: 0.3533 - val_loss: 0.2459 - val_mean_absolute_error: 0.3529\n",
            "Epoch 95/100\n",
            "15300/15300 - 1s - loss: 0.2525 - mean_absolute_error: 0.3533 - val_loss: 0.2440 - val_mean_absolute_error: 0.3491\n",
            "Epoch 96/100\n",
            "15300/15300 - 1s - loss: 0.2523 - mean_absolute_error: 0.3526 - val_loss: 0.2448 - val_mean_absolute_error: 0.3510\n",
            "Epoch 97/100\n",
            "15300/15300 - 1s - loss: 0.2521 - mean_absolute_error: 0.3527 - val_loss: 0.2448 - val_mean_absolute_error: 0.3512\n",
            "Epoch 98/100\n",
            "15300/15300 - 1s - loss: 0.2517 - mean_absolute_error: 0.3524 - val_loss: 0.2449 - val_mean_absolute_error: 0.3514\n",
            "Epoch 99/100\n",
            "15300/15300 - 1s - loss: 0.2515 - mean_absolute_error: 0.3520 - val_loss: 0.2450 - val_mean_absolute_error: 0.3519\n",
            "Epoch 100/100\n",
            "15300/15300 - 1s - loss: 0.2514 - mean_absolute_error: 0.3523 - val_loss: 0.2434 - val_mean_absolute_error: 0.3470\n"
          ],
          "name": "stdout"
        },
        {
          "output_type": "execute_result",
          "data": {
            "text/plain": [
              "<tensorflow.python.keras.callbacks.History at 0x7f8fdcb21400>"
            ]
          },
          "metadata": {
            "tags": []
          },
          "execution_count": 116
        }
      ]
    },
    {
      "cell_type": "code",
      "metadata": {
        "id": "VOjkQBM9URxM",
        "colab_type": "code",
        "colab": {}
      },
      "source": [
        "from sklearn.metrics import mean_absolute_error, mean_squared_error\n",
        "\n",
        "def mean_absolute_percentage_error(y_true, y_pred): \n",
        "    y_true, y_pred = np.array(y_true), np.array(y_pred)\n",
        "    return np.mean(np.abs((y_true - y_pred) / y_true)) * 100\n",
        "\n",
        "def mean_percentage_error(y_true, y_pred): \n",
        "    y_true, y_pred = np.array(y_true), np.array(y_pred)\n",
        "    return np.mean((y_true - y_pred) / y_true) * 100"
      ],
      "execution_count": 0,
      "outputs": []
    },
    {
      "cell_type": "markdown",
      "metadata": {
        "id": "_NxQDAOWURxN",
        "colab_type": "text"
      },
      "source": [
        "### ** SCORE 4/4 **"
      ]
    },
    {
      "cell_type": "code",
      "metadata": {
        "id": "PrMn1ZXpURxN",
        "colab_type": "code",
        "outputId": "62921a60-2a3f-48d2-a012-d91ae38635f8",
        "colab": {
          "base_uri": "https://localhost:8080/",
          "height": 330
        }
      },
      "source": [
        "print('y_predict:',x_test,',y_test_:',y_test)\n",
        "y_predict = y_normalizer.inverse_transform(model.predict(x_test))\n",
        "y_test_ = y_normalizer.inverse_transform(y_test)\n",
        "\n",
        "for metrix in [mean_absolute_error, mean_squared_error, mean_absolute_percentage_error, mean_percentage_error]:\n",
        "    print('{}: {}'.format(metrix.__name__, metrix(y_test_, y_predict)))\n",
        "\n",
        "# accuracy_score(model.predict_classes(x_test), y_test)"
      ],
      "execution_count": 0,
      "outputs": [
        {
          "output_type": "stream",
          "text": [
            "y_predict: [[-1.23931142  0.81487118 -0.12531163 ...  0.09860978  0.27502827\n",
            "   1.42302191]\n",
            " [ 0.63088323 -0.64064157  1.14803892 ... -0.56160781 -0.5870017\n",
            "  -0.14845253]\n",
            " [ 0.87525533 -0.86528662 -0.12531163 ...  0.05054449 -0.01580859\n",
            "   0.99740011]\n",
            " ...\n",
            " [-0.06732277  0.31409991 -1.4782466  ... -0.66680731 -0.73635036\n",
            "  -0.83223581]\n",
            " [ 1.21937115 -0.71552325  0.90928569 ... -1.25356663 -1.27610165\n",
            "  -0.31982914]\n",
            " [-0.03241247 -0.56575988  1.06845451 ... -0.61239378 -0.63154429\n",
            "   2.44245688]] ,y_test_: [ 1.1815273  -0.26555207  0.54316054 ... -1.25063285 -0.38599863\n",
            "  2.51763236]\n",
            "mean_absolute_error: 40974.031369140626\n",
            "mean_squared_error: 3541711781.231422\n",
            "mean_absolute_percentage_error: 72.65394709733758\n",
            "mean_percentage_error: -33.543820568455196\n"
          ],
          "name": "stdout"
        }
      ]
    },
    {
      "cell_type": "markdown",
      "metadata": {
        "id": "8WJT98SwURxP",
        "colab_type": "text"
      },
      "source": [
        "#  \n",
        "#  \n"
      ]
    },
    {
      "cell_type": "markdown",
      "metadata": {
        "id": "v85UDf2FURxP",
        "colab_type": "text"
      },
      "source": [
        "### Once finished, please [Submit Your Colab Notebook Here](https://forms.gle/RjqyyLsVH9Qgf4VaA)"
      ]
    },
    {
      "cell_type": "markdown",
      "metadata": {
        "id": "6rx_krSDURxQ",
        "colab_type": "text"
      },
      "source": [
        "##### Next lecture(10, Dec, 2019), we will introduce some trainning issues(e.g. underfitting, overfitting) and techniques for dealing them."
      ]
    },
    {
      "cell_type": "code",
      "metadata": {
        "id": "zmkH9CqsURxS",
        "colab_type": "code",
        "outputId": "0308706b-207f-4de2-e8f2-8fd57140abf8",
        "colab": {
          "base_uri": "https://localhost:8080/",
          "height": 34
        }
      },
      "source": [
        "!date +%Y%m%d_%H%M%S"
      ],
      "execution_count": 0,
      "outputs": [
        {
          "output_type": "stream",
          "text": [
            "20191126_072025\n"
          ],
          "name": "stdout"
        }
      ]
    },
    {
      "cell_type": "code",
      "metadata": {
        "id": "p9ytYVd3URxT",
        "colab_type": "code",
        "colab": {}
      },
      "source": [
        ""
      ],
      "execution_count": 0,
      "outputs": []
    },
    {
      "cell_type": "code",
      "metadata": {
        "id": "y9RQwwz9URxW",
        "colab_type": "code",
        "colab": {}
      },
      "source": [
        ""
      ],
      "execution_count": 0,
      "outputs": []
    },
    {
      "cell_type": "code",
      "metadata": {
        "id": "sYhGgYQfURxY",
        "colab_type": "code",
        "colab": {}
      },
      "source": [
        ""
      ],
      "execution_count": 0,
      "outputs": []
    },
    {
      "cell_type": "code",
      "metadata": {
        "id": "UUaso2VQURxZ",
        "colab_type": "code",
        "colab": {}
      },
      "source": [
        ""
      ],
      "execution_count": 0,
      "outputs": []
    },
    {
      "cell_type": "code",
      "metadata": {
        "id": "pm49WThUURxb",
        "colab_type": "code",
        "colab": {}
      },
      "source": [
        ""
      ],
      "execution_count": 0,
      "outputs": []
    },
    {
      "cell_type": "code",
      "metadata": {
        "id": "9kVFksUKURxd",
        "colab_type": "code",
        "colab": {}
      },
      "source": [
        ""
      ],
      "execution_count": 0,
      "outputs": []
    },
    {
      "cell_type": "code",
      "metadata": {
        "id": "Q4CQB1MDURxe",
        "colab_type": "code",
        "colab": {}
      },
      "source": [
        ""
      ],
      "execution_count": 0,
      "outputs": []
    },
    {
      "cell_type": "code",
      "metadata": {
        "id": "n7KR1lUtURxf",
        "colab_type": "code",
        "colab": {}
      },
      "source": [
        ""
      ],
      "execution_count": 0,
      "outputs": []
    },
    {
      "cell_type": "code",
      "metadata": {
        "id": "C42NuF7NURxg",
        "colab_type": "code",
        "colab": {}
      },
      "source": [
        ""
      ],
      "execution_count": 0,
      "outputs": []
    }
  ]
}