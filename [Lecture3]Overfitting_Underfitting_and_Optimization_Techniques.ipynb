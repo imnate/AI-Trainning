{
  "nbformat": 4,
  "nbformat_minor": 0,
  "metadata": {
    "kernelspec": {
      "name": "python3",
      "display_name": "Python 3"
    },
    "language_info": {
      "codemirror_mode": {
        "name": "ipython",
        "version": 3
      },
      "file_extension": ".py",
      "mimetype": "text/x-python",
      "name": "python",
      "nbconvert_exporter": "python",
      "pygments_lexer": "ipython3",
      "version": "3.6.8"
    },
    "colab": {
      "name": "[Lecture3]Overfitting_Underfitting_and_Optimization_Techniques.ipynb",
      "provenance": [],
      "toc_visible": true,
      "include_colab_link": true
    },
    "accelerator": "TPU"
  },
  "cells": [
    {
      "cell_type": "markdown",
      "metadata": {
        "id": "view-in-github",
        "colab_type": "text"
      },
      "source": [
        "<a href=\"https://colab.research.google.com/github/imnate/AI-Trainning/blob/master/%5BLecture3%5DOverfitting_Underfitting_and_Optimization_Techniques.ipynb\" target=\"_parent\"><img src=\"https://colab.research.google.com/assets/colab-badge.svg\" alt=\"Open In Colab\"/></a>"
      ]
    },
    {
      "cell_type": "markdown",
      "metadata": {
        "id": "SOXWDeWab79j",
        "colab_type": "text"
      },
      "source": [
        "# Lecture 3: Overfitting, Underfitting and Optimization Techniques"
      ]
    },
    {
      "cell_type": "markdown",
      "metadata": {
        "id": "QtVzNKiRb79m",
        "colab_type": "text"
      },
      "source": [
        "### Please access this notebook at: https://github.com/sangaer/PracticalMachineLearning2019\n",
        "### Once finished, please [Submit Your Colab Notebook Here](https://forms.gle/sXpcqjZG5ycv7uYe8)"
      ]
    },
    {
      "cell_type": "markdown",
      "metadata": {
        "id": "1R9xXASGb79p",
        "colab_type": "text"
      },
      "source": [
        "#  \n",
        "## recap for Lecture 2"
      ]
    },
    {
      "cell_type": "markdown",
      "metadata": {
        "id": "IVSDBb8Wb79s",
        "colab_type": "text"
      },
      "source": [
        "## **Neural Network**\n",
        "* Component must be differemtiable for optimization.\n",
        "* Network weights should be initialize with non-symmetry values.\n",
        "\n",
        "\n",
        "\n",
        "\n",
        "### **Loss Functions:**\n",
        "#### For classification:\n",
        "##### Cross Entropy:\n",
        "### $$ cross\\_entropy = -\\frac{1}{m}\\sum_{i=1}^{m}\\sum_{c}^{C}y_{c}*log (y_{c\\_predict}) $$\n",
        "#### For Regression:\n",
        "##### MSE(Mean Square Error):\n",
        "## $$ MSE = \\frac{1}{2m}\\sum_{i=1}^{m}(y_{predict} - y)^2 $$\n",
        "\n",
        "\n",
        "\n",
        "## **Activation Functions:**\n",
        "### sigmoid:\n",
        "## $$ sigmoid(x) = \\frac{1}{1+e^{-x}} $$ \n",
        "#### $$ sigmoid(x)_j\\in (0, 1) $$\n",
        "\n",
        "### identity / linear\n",
        "## $$ linear(x) = x $$\n",
        "#### $$ linear(x)_j \\in (-\\infty, \\infty) $$\n",
        "\n",
        "### ReLU\n",
        "## $$ \n",
        "ReLU(x) = \\begin{cases}\n",
        "        x,  & \\text{for x >= 0}\\\\\n",
        "        0, & \\text{for x < 0}\n",
        "        \\end{cases} \n",
        "        $$\n",
        "#### $$ ReLU(x)_j \\in (0, \\infty) $$\n",
        "\n",
        "\n",
        "### Softmax\n",
        "## $$ Softmax(x)_i = \\frac {e^{x_i}}{\\sum _j e^{x_j}} $$\n",
        "#### $$ Softmax(x)_j \\in (0, 1) $$\n",
        "#### $$ \\sum_{j}Softmax(x)_j = 1 $$"
      ]
    },
    {
      "cell_type": "markdown",
      "metadata": {
        "id": "wbEnc2XFb79v",
        "colab_type": "text"
      },
      "source": [
        "# Setting today's task:"
      ]
    },
    {
      "cell_type": "code",
      "metadata": {
        "id": "aL4UInrib79y",
        "colab_type": "code",
        "colab": {
          "base_uri": "https://localhost:8080/",
          "height": 34
        },
        "outputId": "762566f0-364c-4cc5-a93c-526e419238f0"
      },
      "source": [
        "# 1\n",
        "import os\n",
        "import pandas as pd\n",
        "import numpy as np\n",
        "import tensorflow as tf\n",
        "from keras.models import Sequential\n",
        "from keras.layers import Dense,Dropout,Activation,Flatten\n",
        "from sklearn.preprocessing import StandardScaler, MinMaxScaler, OneHotEncoder\n",
        "from IPython.display import clear_output\n",
        "import matplotlib.pyplot as plt"
      ],
      "execution_count": 5,
      "outputs": [
        {
          "output_type": "stream",
          "text": [
            "Using TensorFlow backend.\n"
          ],
          "name": "stderr"
        }
      ]
    },
    {
      "cell_type": "code",
      "metadata": {
        "id": "lsT278rxb795",
        "colab_type": "code",
        "colab": {}
      },
      "source": [
        "# 2\n",
        "def cross_entropy(predictions, targets, epsilon=1e-12):\n",
        "    \"\"\"\n",
        "    Computes cross entropy between targets (encoded as one-hot vectors)\n",
        "    and predictions. \n",
        "    Input: predictions (N, k) ndarray\n",
        "           targets (N, k) ndarray        \n",
        "    Returns: scalar\n",
        "    \"\"\"\n",
        "    predictions = np.clip(predictions, epsilon, 1. - epsilon)\n",
        "    ce = - np.sum(np.multiply(np.log(predictions), targets)) / predictions.shape[0]\n",
        "    return ce"
      ],
      "execution_count": 0,
      "outputs": []
    },
    {
      "cell_type": "code",
      "metadata": {
        "id": "XjcImJnhb79_",
        "colab_type": "code",
        "colab": {}
      },
      "source": [
        "# 3\n",
        "FILE_TRAIN = 'sample_data/mnist_train_small.csv'\n",
        "FILE_TEST = 'sample_data/mnist_test.csv'\n",
        "\n",
        "df_train = pd.read_csv(FILE_TRAIN).sample(frac=1).reset_index(drop=True)\n",
        "df_test = pd.read_csv(FILE_TEST).sample(frac=1).reset_index(drop=True)\n",
        "\n",
        "x_normalizer = StandardScaler()\n",
        "y_encoder = OneHotEncoder(categories='auto')\n",
        "\n",
        "x_train = x_normalizer.fit_transform(df_train.iloc[:, 1:])\n",
        "y_train = df_train.iloc[:, 0].values.reshape(-1, 1)\n",
        "y_train_oh = y_encoder.fit_transform(y_train).toarray()\n",
        "\n",
        "x_test = x_normalizer.transform(df_test.iloc[:, 1:])\n",
        "y_test = df_test.iloc[:, 0].values.reshape(-1, 1)\n",
        "y_test_oh = y_encoder.transform(y_test).toarray()"
      ],
      "execution_count": 0,
      "outputs": []
    },
    {
      "cell_type": "markdown",
      "metadata": {
        "id": "znXv5iGVb7-E",
        "colab_type": "text"
      },
      "source": [
        "#  \n",
        "# Overfitting and Underfitting\n",
        "[wikipedia](https://en.wikipedia.org/wiki/Overfitting)"
      ]
    },
    {
      "cell_type": "markdown",
      "metadata": {
        "id": "gMn_aYafb7-G",
        "colab_type": "text"
      },
      "source": [
        "#### When fitting on training set:\n",
        "![](https://drive.google.com/uc?id=1yAuC-Ky6UqMehA5heZ3py0c4I_AZo1Iy)"
      ]
    },
    {
      "cell_type": "markdown",
      "metadata": {
        "id": "5oVoDUOPb7-I",
        "colab_type": "text"
      },
      "source": [
        "## Underfitting\n",
        "#### How:\n",
        "* Underfitting occurs when a statistical model or machine learning algorithm cannot adequately capture the underlying structure of the data. \n",
        "* It occurs when the model or algorithm does not fit the data enough. \n",
        "* It is often a result of an excessively simple model.\n",
        "\n",
        "#### Solution:\n",
        "* Try a more complex model."
      ]
    },
    {
      "cell_type": "code",
      "metadata": {
        "id": "k4PFQXCbb7-J",
        "colab_type": "code",
        "outputId": "9525861e-4433-4b8a-d5c0-efb415748371",
        "colab": {
          "base_uri": "https://localhost:8080/",
          "height": 279
        }
      },
      "source": [
        "# 4\n",
        "model = tf.keras.models.Sequential([\n",
        "    tf.keras.layers.Dense(4, input_shape=(x_train.shape[1], ), activation='relu'),\n",
        "    tf.keras.layers.Dense(10, activation='softmax')\n",
        "])\n",
        "\n",
        "optimizer = tf.keras.optimizers.Adam(lr=1e-4)\n",
        "loss = tf.keras.losses.sparse_categorical_crossentropy\n",
        "\n",
        "model.compile(optimizer=optimizer,\n",
        "              loss=loss)\n",
        "\n",
        "train_losses = list()\n",
        "val_losses = list()\n",
        "for i in range(120):\n",
        "    model.fit(x_train, \n",
        "              y_train, \n",
        "              verbose=0, \n",
        "              epochs=1, \n",
        "              validation_data=(x_test, y_test), \n",
        "              batch_size=256,\n",
        "              shuffle=True)\n",
        "    \n",
        "    train_losses.append(cross_entropy(model.predict(x_train), y_train_oh))\n",
        "    val_losses.append(cross_entropy(model.predict(x_test), y_test_oh))\n",
        "    \n",
        "    \n",
        "    clear_output()    \n",
        "    plt.plot(train_losses, label='train loss')\n",
        "    plt.plot(val_losses, label='val loss')\n",
        "    plt.legend(loc='best')\n",
        "    plt.grid()\n",
        "    plt.ylabel('loss')\n",
        "    plt.xlabel('epoch')\n",
        "    plt.show()"
      ],
      "execution_count": 0,
      "outputs": [
        {
          "output_type": "display_data",
          "data": {
            "image/png": "[encoded data removed]",
            "text/plain": [
              "<Figure size 432x288 with 1 Axes>"
            ]
          },
          "metadata": {
            "tags": []
          }
        }
      ]
    },
    {
      "cell_type": "markdown",
      "metadata": {
        "id": "8jtLq42ub7-O",
        "colab_type": "text"
      },
      "source": [
        "# Overfitting\n",
        "#### How:\n",
        "* The possibility of overfitting exists because the criterion used for selecting the model is not the same as the criterion used to judge the suitability of a model. \n",
        "* A model might be selected by maximizing its performance on some set of training data, and yet its suitability might be determined by its ability to perform well on unseen data\n",
        "* Overfitting occurs when a model begins to \"memorize\" training data rather than \"learning\" to generalize from a trend.\n",
        "\n",
        "#### Solution:\n",
        "* Starts from simple.\n",
        "* Try a simpler model when overfitting.\n",
        "* Regularizaion (give constrain to limit the fitting ability for model).\n",
        "* Ensemble."
      ]
    },
    {
      "cell_type": "code",
      "metadata": {
        "id": "Dbw9Vgumb7-P",
        "colab_type": "code",
        "outputId": "3bed41cc-208d-450c-cc82-2df4f7a19a19",
        "colab": {
          "base_uri": "https://localhost:8080/",
          "height": 283
        }
      },
      "source": [
        "# 5\n",
        "model = tf.keras.models.Sequential([\n",
        "    tf.keras.layers.Dense(2048, input_shape=(x_train.shape[1], ), activation='relu'),\n",
        "    tf.keras.layers.Dense(2048, activation='relu'),\n",
        "    tf.keras.layers.Dense(2048, activation='relu'),\n",
        "    tf.keras.layers.Dense(10, activation='softmax')\n",
        "])\n",
        "\n",
        "optimizer = tf.keras.optimizers.Adam(lr=1e-4)\n",
        "loss = tf.keras.losses.sparse_categorical_crossentropy\n",
        "\n",
        "model.compile(optimizer=optimizer,\n",
        "              loss=loss)\n",
        "\n",
        "train_losses = list()\n",
        "val_losses = list()\n",
        "for i in range(20):\n",
        "    model.fit(x_train, \n",
        "              y_train, \n",
        "              verbose=0, \n",
        "              epochs=1, \n",
        "              validation_data=(x_test, y_test), \n",
        "              batch_size=256,\n",
        "              shuffle=True)\n",
        "    \n",
        "    train_losses.append(cross_entropy(model.predict(x_train), y_train_oh))\n",
        "    val_losses.append(cross_entropy(model.predict(x_test), y_test_oh))\n",
        "    \n",
        "    \n",
        "    clear_output()    \n",
        "    plt.plot(train_losses, label='train loss')\n",
        "    plt.plot(val_losses, label='val loss')\n",
        "    plt.legend(loc='best')\n",
        "    plt.grid()\n",
        "    plt.ylabel('loss')\n",
        "    plt.xlabel('epoch')\n",
        "    plt.ylim([0, 1])\n",
        "    plt.show()"
      ],
      "execution_count": 0,
      "outputs": [
        {
          "output_type": "display_data",
          "data": {
            "image/png": "[encoded data removed]",
            "text/plain": [
              "<Figure size 432x288 with 1 Axes>"
            ]
          },
          "metadata": {
            "tags": []
          }
        }
      ]
    },
    {
      "cell_type": "markdown",
      "metadata": {
        "id": "idfsfLhqb7-V",
        "colab_type": "text"
      },
      "source": [
        "## Try a simpler model"
      ]
    },
    {
      "cell_type": "code",
      "metadata": {
        "id": "Mj7cNCzsb7-X",
        "colab_type": "code",
        "outputId": "a5eaecad-9fc1-47d6-9fb5-4de47b90ab6d",
        "colab": {
          "base_uri": "https://localhost:8080/",
          "height": 646
        }
      },
      "source": [
        "# 6\n",
        "model = tf.keras.models.Sequential([\n",
        "    tf.keras.layers.Dense(128, input_shape=(x_train.shape[1], ), activation='relu'),\n",
        "    tf.keras.layers.Dense(64, activation='relu'),\n",
        "    tf.keras.layers.Dense(10, activation='softmax')\n",
        "])\n",
        "\n",
        "optimizer = tf.keras.optimizers.Adam(lr=1e-4)\n",
        "loss = tf.keras.losses.sparse_categorical_crossentropy\n",
        "\n",
        "model.compile(optimizer=optimizer,\n",
        "              loss=loss)\n",
        "\n",
        "train_losses = list()\n",
        "val_losses = list()\n",
        "for i in range(120):\n",
        "    model.fit(x_train, \n",
        "              y_train, \n",
        "              verbose=0, \n",
        "              epochs=1, \n",
        "              validation_data=(x_test, y_test), \n",
        "              batch_size=256,\n",
        "              shuffle=True)\n",
        "    \n",
        "    train_losses.append(cross_entropy(model.predict(x_train), y_train_oh))\n",
        "    val_losses.append(cross_entropy(model.predict(x_test), y_test_oh))\n",
        "    \n",
        "    \n",
        "    clear_output()    \n",
        "    plt.plot(train_losses, label='train loss')\n",
        "    plt.plot(val_losses, label='val loss')\n",
        "    plt.legend(loc='best')\n",
        "    plt.grid()\n",
        "    plt.ylabel('loss')\n",
        "    plt.xlabel('epoch')\n",
        "    plt.ylim([0, 1])\n",
        "    plt.show()"
      ],
      "execution_count": 0,
      "outputs": [
        {
          "output_type": "display_data",
          "data": {
            "image/png": "[encoded data removed]",
            "text/plain": [
              "<Figure size 432x288 with 1 Axes>"
            ]
          },
          "metadata": {
            "tags": []
          }
        },
        {
          "output_type": "error",
          "ename": "KeyboardInterrupt",
          "evalue": "ignored",
          "traceback": [
            "\u001b[0;31m---------------------------------------------------------------------------\u001b[0m",
            "\u001b[0;31mKeyboardInterrupt\u001b[0m                         Traceback (most recent call last)",
            "\u001b[0;32m<ipython-input-5-1ea90a649cdc>\u001b[0m in \u001b[0;36m<module>\u001b[0;34m()\u001b[0m\n\u001b[1;32m     23\u001b[0m \u001b[0;34m\u001b[0m\u001b[0m\n\u001b[1;32m     24\u001b[0m     \u001b[0mtrain_losses\u001b[0m\u001b[0;34m.\u001b[0m\u001b[0mappend\u001b[0m\u001b[0;34m(\u001b[0m\u001b[0mcross_entropy\u001b[0m\u001b[0;34m(\u001b[0m\u001b[0mmodel\u001b[0m\u001b[0;34m.\u001b[0m\u001b[0mpredict\u001b[0m\u001b[0;34m(\u001b[0m\u001b[0mx_train\u001b[0m\u001b[0;34m)\u001b[0m\u001b[0;34m,\u001b[0m \u001b[0my_train_oh\u001b[0m\u001b[0;34m)\u001b[0m\u001b[0;34m)\u001b[0m\u001b[0;34m\u001b[0m\u001b[0;34m\u001b[0m\u001b[0m\n\u001b[0;32m---> 25\u001b[0;31m     \u001b[0mval_losses\u001b[0m\u001b[0;34m.\u001b[0m\u001b[0mappend\u001b[0m\u001b[0;34m(\u001b[0m\u001b[0mcross_entropy\u001b[0m\u001b[0;34m(\u001b[0m\u001b[0mmodel\u001b[0m\u001b[0;34m.\u001b[0m\u001b[0mpredict\u001b[0m\u001b[0;34m(\u001b[0m\u001b[0mx_test\u001b[0m\u001b[0;34m)\u001b[0m\u001b[0;34m,\u001b[0m \u001b[0my_test_oh\u001b[0m\u001b[0;34m)\u001b[0m\u001b[0;34m)\u001b[0m\u001b[0;34m\u001b[0m\u001b[0;34m\u001b[0m\u001b[0m\n\u001b[0m\u001b[1;32m     26\u001b[0m \u001b[0;34m\u001b[0m\u001b[0m\n\u001b[1;32m     27\u001b[0m \u001b[0;34m\u001b[0m\u001b[0m\n",
            "\u001b[0;32m/usr/local/lib/python3.6/dist-packages/tensorflow_core/python/keras/engine/training.py\u001b[0m in \u001b[0;36mpredict\u001b[0;34m(self, x, batch_size, verbose, steps, callbacks, max_queue_size, workers, use_multiprocessing)\u001b[0m\n\u001b[1;32m    906\u001b[0m         \u001b[0mmax_queue_size\u001b[0m\u001b[0;34m=\u001b[0m\u001b[0mmax_queue_size\u001b[0m\u001b[0;34m,\u001b[0m\u001b[0;34m\u001b[0m\u001b[0;34m\u001b[0m\u001b[0m\n\u001b[1;32m    907\u001b[0m         \u001b[0mworkers\u001b[0m\u001b[0;34m=\u001b[0m\u001b[0mworkers\u001b[0m\u001b[0;34m,\u001b[0m\u001b[0;34m\u001b[0m\u001b[0;34m\u001b[0m\u001b[0m\n\u001b[0;32m--> 908\u001b[0;31m         use_multiprocessing=use_multiprocessing)\n\u001b[0m\u001b[1;32m    909\u001b[0m \u001b[0;34m\u001b[0m\u001b[0m\n\u001b[1;32m    910\u001b[0m   \u001b[0;32mdef\u001b[0m \u001b[0mreset_metrics\u001b[0m\u001b[0;34m(\u001b[0m\u001b[0mself\u001b[0m\u001b[0;34m)\u001b[0m\u001b[0;34m:\u001b[0m\u001b[0;34m\u001b[0m\u001b[0;34m\u001b[0m\u001b[0m\n",
            "\u001b[0;32m/usr/local/lib/python3.6/dist-packages/tensorflow_core/python/keras/engine/training_arrays.py\u001b[0m in \u001b[0;36mpredict\u001b[0;34m(self, model, x, batch_size, verbose, steps, callbacks, **kwargs)\u001b[0m\n\u001b[1;32m    721\u001b[0m         \u001b[0mverbose\u001b[0m\u001b[0;34m=\u001b[0m\u001b[0mverbose\u001b[0m\u001b[0;34m,\u001b[0m\u001b[0;34m\u001b[0m\u001b[0;34m\u001b[0m\u001b[0m\n\u001b[1;32m    722\u001b[0m         \u001b[0msteps\u001b[0m\u001b[0;34m=\u001b[0m\u001b[0msteps\u001b[0m\u001b[0;34m,\u001b[0m\u001b[0;34m\u001b[0m\u001b[0;34m\u001b[0m\u001b[0m\n\u001b[0;32m--> 723\u001b[0;31m         callbacks=callbacks)\n\u001b[0m",
            "\u001b[0;32m/usr/local/lib/python3.6/dist-packages/tensorflow_core/python/keras/engine/training_arrays.py\u001b[0m in \u001b[0;36mmodel_iteration\u001b[0;34m(model, inputs, targets, sample_weights, batch_size, epochs, verbose, callbacks, val_inputs, val_targets, val_sample_weights, shuffle, initial_epoch, steps_per_epoch, validation_steps, validation_freq, mode, validation_in_fit, prepared_feed_values_from_dataset, steps_name, **kwargs)\u001b[0m\n\u001b[1;32m    392\u001b[0m \u001b[0;34m\u001b[0m\u001b[0m\n\u001b[1;32m    393\u001b[0m         \u001b[0;31m# Get outputs.\u001b[0m\u001b[0;34m\u001b[0m\u001b[0;34m\u001b[0m\u001b[0;34m\u001b[0m\u001b[0m\n\u001b[0;32m--> 394\u001b[0;31m         \u001b[0mbatch_outs\u001b[0m \u001b[0;34m=\u001b[0m \u001b[0mf\u001b[0m\u001b[0;34m(\u001b[0m\u001b[0mins_batch\u001b[0m\u001b[0;34m)\u001b[0m\u001b[0;34m\u001b[0m\u001b[0;34m\u001b[0m\u001b[0m\n\u001b[0m\u001b[1;32m    395\u001b[0m         \u001b[0;32mif\u001b[0m \u001b[0;32mnot\u001b[0m \u001b[0misinstance\u001b[0m\u001b[0;34m(\u001b[0m\u001b[0mbatch_outs\u001b[0m\u001b[0;34m,\u001b[0m \u001b[0mlist\u001b[0m\u001b[0;34m)\u001b[0m\u001b[0;34m:\u001b[0m\u001b[0;34m\u001b[0m\u001b[0;34m\u001b[0m\u001b[0m\n\u001b[1;32m    396\u001b[0m           \u001b[0mbatch_outs\u001b[0m \u001b[0;34m=\u001b[0m \u001b[0;34m[\u001b[0m\u001b[0mbatch_outs\u001b[0m\u001b[0;34m]\u001b[0m\u001b[0;34m\u001b[0m\u001b[0;34m\u001b[0m\u001b[0m\n",
            "\u001b[0;32m/usr/local/lib/python3.6/dist-packages/tensorflow_core/python/keras/backend.py\u001b[0m in \u001b[0;36m__call__\u001b[0;34m(self, inputs)\u001b[0m\n\u001b[1;32m   3474\u001b[0m \u001b[0;34m\u001b[0m\u001b[0m\n\u001b[1;32m   3475\u001b[0m     fetched = self._callable_fn(*array_vals,\n\u001b[0;32m-> 3476\u001b[0;31m                                 run_metadata=self.run_metadata)\n\u001b[0m\u001b[1;32m   3477\u001b[0m     \u001b[0mself\u001b[0m\u001b[0;34m.\u001b[0m\u001b[0m_call_fetch_callbacks\u001b[0m\u001b[0;34m(\u001b[0m\u001b[0mfetched\u001b[0m\u001b[0;34m[\u001b[0m\u001b[0;34m-\u001b[0m\u001b[0mlen\u001b[0m\u001b[0;34m(\u001b[0m\u001b[0mself\u001b[0m\u001b[0;34m.\u001b[0m\u001b[0m_fetches\u001b[0m\u001b[0;34m)\u001b[0m\u001b[0;34m:\u001b[0m\u001b[0;34m]\u001b[0m\u001b[0;34m)\u001b[0m\u001b[0;34m\u001b[0m\u001b[0;34m\u001b[0m\u001b[0m\n\u001b[1;32m   3478\u001b[0m     output_structure = nest.pack_sequence_as(\n",
            "\u001b[0;32m/usr/local/lib/python3.6/dist-packages/tensorflow_core/python/client/session.py\u001b[0m in \u001b[0;36m__call__\u001b[0;34m(self, *args, **kwargs)\u001b[0m\n\u001b[1;32m   1470\u001b[0m         ret = tf_session.TF_SessionRunCallable(self._session._session,\n\u001b[1;32m   1471\u001b[0m                                                \u001b[0mself\u001b[0m\u001b[0;34m.\u001b[0m\u001b[0m_handle\u001b[0m\u001b[0;34m,\u001b[0m \u001b[0margs\u001b[0m\u001b[0;34m,\u001b[0m\u001b[0;34m\u001b[0m\u001b[0;34m\u001b[0m\u001b[0m\n\u001b[0;32m-> 1472\u001b[0;31m                                                run_metadata_ptr)\n\u001b[0m\u001b[1;32m   1473\u001b[0m         \u001b[0;32mif\u001b[0m \u001b[0mrun_metadata\u001b[0m\u001b[0;34m:\u001b[0m\u001b[0;34m\u001b[0m\u001b[0;34m\u001b[0m\u001b[0m\n\u001b[1;32m   1474\u001b[0m           \u001b[0mproto_data\u001b[0m \u001b[0;34m=\u001b[0m \u001b[0mtf_session\u001b[0m\u001b[0;34m.\u001b[0m\u001b[0mTF_GetBuffer\u001b[0m\u001b[0;34m(\u001b[0m\u001b[0mrun_metadata_ptr\u001b[0m\u001b[0;34m)\u001b[0m\u001b[0;34m\u001b[0m\u001b[0;34m\u001b[0m\u001b[0m\n",
            "\u001b[0;31mKeyboardInterrupt\u001b[0m: "
          ]
        }
      ]
    },
    {
      "cell_type": "markdown",
      "metadata": {
        "id": "rWMQpXSVb7-b",
        "colab_type": "text"
      },
      "source": [
        "## Ensemble\n",
        "* Inference the final result by aggregate the inference from multiple models.\n",
        "\n",
        "### $$ prediction = aggregation (model1(x), model2(x), model3(x), ...) $$"
      ]
    },
    {
      "cell_type": "markdown",
      "metadata": {
        "id": "DQD2aNNSb7-d",
        "colab_type": "text"
      },
      "source": [
        "## Dropout (for Neural Networks)\n",
        "[reference](http://jmlr.org/papers/volume15/srivastava14a/srivastava14a.pdf)\n",
        "\n",
        "![](https://drive.google.com/uc?id=19O_lTVcOjH1aQRqJRmaKzNoTKglG5rmz)\n",
        "#### For training:\n",
        "* Random drop neurons out by predefined rate. \n",
        "\n",
        "#### For prediction\n",
        "* Weight neuron values by dropout rate in training. \n",
        "\n",
        "\n",
        "#### NOTE:\n",
        "* Usually we will not apply dropout before first layer as it will drop input feature directly.\n",
        "\n"
      ]
    },
    {
      "cell_type": "code",
      "metadata": {
        "id": "FaTy9IgNb7-e",
        "colab_type": "code",
        "outputId": "0e9ba6d4-fa8b-4a42-bffe-a1097a7a512b",
        "colab": {
          "base_uri": "https://localhost:8080/",
          "height": 646
        }
      },
      "source": [
        "# 7\n",
        "DROP_RATE = 0.3\n",
        "\n",
        "model = tf.keras.models.Sequential([\n",
        "    tf.keras.layers.Dense(128, input_shape=(x_train.shape[1], ), activation='relu'),\n",
        "    tf.keras.layers.Dropout(DROP_RATE),\n",
        "    tf.keras.layers.Dense(64, activation='relu'),\n",
        "    tf.keras.layers.Dropout(DROP_RATE),\n",
        "    tf.keras.layers.Dense(10, activation='softmax')\n",
        "])\n",
        "\n",
        "optimizer = tf.keras.optimizers.Adam(lr=1e-4)\n",
        "loss = tf.keras.losses.sparse_categorical_crossentropy\n",
        "\n",
        "model.compile(optimizer=optimizer,\n",
        "              loss=loss)\n",
        "\n",
        "train_losses = list()\n",
        "val_losses = list()\n",
        "for i in range(120):\n",
        "    model.fit(x_train, \n",
        "              y_train, \n",
        "              verbose=0, \n",
        "              epochs=1, \n",
        "              validation_data=(x_test, y_test), \n",
        "              batch_size=256,\n",
        "              shuffle=True)\n",
        "    \n",
        "    train_losses.append(cross_entropy(model.predict(x_train), y_train_oh))\n",
        "    val_losses.append(cross_entropy(model.predict(x_test), y_test_oh))\n",
        "    \n",
        "    \n",
        "    clear_output()\n",
        "    \n",
        "    plt.plot(train_losses, label='train loss')\n",
        "    plt.plot(val_losses, label='val loss')\n",
        "    plt.legend(loc='best')\n",
        "    plt.grid()\n",
        "    plt.ylabel('loss')\n",
        "    plt.xlabel('epoch')\n",
        "    plt.ylim([0, 1])\n",
        "    plt.show()"
      ],
      "execution_count": 0,
      "outputs": [
        {
          "output_type": "display_data",
          "data": {
            "image/png": "[encoded data removed]",
            "text/plain": [
              "<Figure size 432x288 with 1 Axes>"
            ]
          },
          "metadata": {
            "tags": []
          }
        },
        {
          "output_type": "error",
          "ename": "KeyboardInterrupt",
          "evalue": "ignored",
          "traceback": [
            "\u001b[0;31m---------------------------------------------------------------------------\u001b[0m",
            "\u001b[0;31mKeyboardInterrupt\u001b[0m                         Traceback (most recent call last)",
            "\u001b[0;32m<ipython-input-6-f376aaae41be>\u001b[0m in \u001b[0;36m<module>\u001b[0;34m()\u001b[0m\n\u001b[1;32m     26\u001b[0m               shuffle=True)\n\u001b[1;32m     27\u001b[0m \u001b[0;34m\u001b[0m\u001b[0m\n\u001b[0;32m---> 28\u001b[0;31m     \u001b[0mtrain_losses\u001b[0m\u001b[0;34m.\u001b[0m\u001b[0mappend\u001b[0m\u001b[0;34m(\u001b[0m\u001b[0mcross_entropy\u001b[0m\u001b[0;34m(\u001b[0m\u001b[0mmodel\u001b[0m\u001b[0;34m.\u001b[0m\u001b[0mpredict\u001b[0m\u001b[0;34m(\u001b[0m\u001b[0mx_train\u001b[0m\u001b[0;34m)\u001b[0m\u001b[0;34m,\u001b[0m \u001b[0my_train_oh\u001b[0m\u001b[0;34m)\u001b[0m\u001b[0;34m)\u001b[0m\u001b[0;34m\u001b[0m\u001b[0;34m\u001b[0m\u001b[0m\n\u001b[0m\u001b[1;32m     29\u001b[0m     \u001b[0mval_losses\u001b[0m\u001b[0;34m.\u001b[0m\u001b[0mappend\u001b[0m\u001b[0;34m(\u001b[0m\u001b[0mcross_entropy\u001b[0m\u001b[0;34m(\u001b[0m\u001b[0mmodel\u001b[0m\u001b[0;34m.\u001b[0m\u001b[0mpredict\u001b[0m\u001b[0;34m(\u001b[0m\u001b[0mx_test\u001b[0m\u001b[0;34m)\u001b[0m\u001b[0;34m,\u001b[0m \u001b[0my_test_oh\u001b[0m\u001b[0;34m)\u001b[0m\u001b[0;34m)\u001b[0m\u001b[0;34m\u001b[0m\u001b[0;34m\u001b[0m\u001b[0m\n\u001b[1;32m     30\u001b[0m \u001b[0;34m\u001b[0m\u001b[0m\n",
            "\u001b[0;32m/usr/local/lib/python3.6/dist-packages/tensorflow_core/python/keras/engine/training.py\u001b[0m in \u001b[0;36mpredict\u001b[0;34m(self, x, batch_size, verbose, steps, callbacks, max_queue_size, workers, use_multiprocessing)\u001b[0m\n\u001b[1;32m    906\u001b[0m         \u001b[0mmax_queue_size\u001b[0m\u001b[0;34m=\u001b[0m\u001b[0mmax_queue_size\u001b[0m\u001b[0;34m,\u001b[0m\u001b[0;34m\u001b[0m\u001b[0;34m\u001b[0m\u001b[0m\n\u001b[1;32m    907\u001b[0m         \u001b[0mworkers\u001b[0m\u001b[0;34m=\u001b[0m\u001b[0mworkers\u001b[0m\u001b[0;34m,\u001b[0m\u001b[0;34m\u001b[0m\u001b[0;34m\u001b[0m\u001b[0m\n\u001b[0;32m--> 908\u001b[0;31m         use_multiprocessing=use_multiprocessing)\n\u001b[0m\u001b[1;32m    909\u001b[0m \u001b[0;34m\u001b[0m\u001b[0m\n\u001b[1;32m    910\u001b[0m   \u001b[0;32mdef\u001b[0m \u001b[0mreset_metrics\u001b[0m\u001b[0;34m(\u001b[0m\u001b[0mself\u001b[0m\u001b[0;34m)\u001b[0m\u001b[0;34m:\u001b[0m\u001b[0;34m\u001b[0m\u001b[0;34m\u001b[0m\u001b[0m\n",
            "\u001b[0;32m/usr/local/lib/python3.6/dist-packages/tensorflow_core/python/keras/engine/training_arrays.py\u001b[0m in \u001b[0;36mpredict\u001b[0;34m(self, model, x, batch_size, verbose, steps, callbacks, **kwargs)\u001b[0m\n\u001b[1;32m    721\u001b[0m         \u001b[0mverbose\u001b[0m\u001b[0;34m=\u001b[0m\u001b[0mverbose\u001b[0m\u001b[0;34m,\u001b[0m\u001b[0;34m\u001b[0m\u001b[0;34m\u001b[0m\u001b[0m\n\u001b[1;32m    722\u001b[0m         \u001b[0msteps\u001b[0m\u001b[0;34m=\u001b[0m\u001b[0msteps\u001b[0m\u001b[0;34m,\u001b[0m\u001b[0;34m\u001b[0m\u001b[0;34m\u001b[0m\u001b[0m\n\u001b[0;32m--> 723\u001b[0;31m         callbacks=callbacks)\n\u001b[0m",
            "\u001b[0;32m/usr/local/lib/python3.6/dist-packages/tensorflow_core/python/keras/engine/training_arrays.py\u001b[0m in \u001b[0;36mmodel_iteration\u001b[0;34m(model, inputs, targets, sample_weights, batch_size, epochs, verbose, callbacks, val_inputs, val_targets, val_sample_weights, shuffle, initial_epoch, steps_per_epoch, validation_steps, validation_freq, mode, validation_in_fit, prepared_feed_values_from_dataset, steps_name, **kwargs)\u001b[0m\n\u001b[1;32m    392\u001b[0m \u001b[0;34m\u001b[0m\u001b[0m\n\u001b[1;32m    393\u001b[0m         \u001b[0;31m# Get outputs.\u001b[0m\u001b[0;34m\u001b[0m\u001b[0;34m\u001b[0m\u001b[0;34m\u001b[0m\u001b[0m\n\u001b[0;32m--> 394\u001b[0;31m         \u001b[0mbatch_outs\u001b[0m \u001b[0;34m=\u001b[0m \u001b[0mf\u001b[0m\u001b[0;34m(\u001b[0m\u001b[0mins_batch\u001b[0m\u001b[0;34m)\u001b[0m\u001b[0;34m\u001b[0m\u001b[0;34m\u001b[0m\u001b[0m\n\u001b[0m\u001b[1;32m    395\u001b[0m         \u001b[0;32mif\u001b[0m \u001b[0;32mnot\u001b[0m \u001b[0misinstance\u001b[0m\u001b[0;34m(\u001b[0m\u001b[0mbatch_outs\u001b[0m\u001b[0;34m,\u001b[0m \u001b[0mlist\u001b[0m\u001b[0;34m)\u001b[0m\u001b[0;34m:\u001b[0m\u001b[0;34m\u001b[0m\u001b[0;34m\u001b[0m\u001b[0m\n\u001b[1;32m    396\u001b[0m           \u001b[0mbatch_outs\u001b[0m \u001b[0;34m=\u001b[0m \u001b[0;34m[\u001b[0m\u001b[0mbatch_outs\u001b[0m\u001b[0;34m]\u001b[0m\u001b[0;34m\u001b[0m\u001b[0;34m\u001b[0m\u001b[0m\n",
            "\u001b[0;32m/usr/local/lib/python3.6/dist-packages/tensorflow_core/python/keras/backend.py\u001b[0m in \u001b[0;36m__call__\u001b[0;34m(self, inputs)\u001b[0m\n\u001b[1;32m   3474\u001b[0m \u001b[0;34m\u001b[0m\u001b[0m\n\u001b[1;32m   3475\u001b[0m     fetched = self._callable_fn(*array_vals,\n\u001b[0;32m-> 3476\u001b[0;31m                                 run_metadata=self.run_metadata)\n\u001b[0m\u001b[1;32m   3477\u001b[0m     \u001b[0mself\u001b[0m\u001b[0;34m.\u001b[0m\u001b[0m_call_fetch_callbacks\u001b[0m\u001b[0;34m(\u001b[0m\u001b[0mfetched\u001b[0m\u001b[0;34m[\u001b[0m\u001b[0;34m-\u001b[0m\u001b[0mlen\u001b[0m\u001b[0;34m(\u001b[0m\u001b[0mself\u001b[0m\u001b[0;34m.\u001b[0m\u001b[0m_fetches\u001b[0m\u001b[0;34m)\u001b[0m\u001b[0;34m:\u001b[0m\u001b[0;34m]\u001b[0m\u001b[0;34m)\u001b[0m\u001b[0;34m\u001b[0m\u001b[0;34m\u001b[0m\u001b[0m\n\u001b[1;32m   3478\u001b[0m     output_structure = nest.pack_sequence_as(\n",
            "\u001b[0;32m/usr/local/lib/python3.6/dist-packages/tensorflow_core/python/client/session.py\u001b[0m in \u001b[0;36m__call__\u001b[0;34m(self, *args, **kwargs)\u001b[0m\n\u001b[1;32m   1470\u001b[0m         ret = tf_session.TF_SessionRunCallable(self._session._session,\n\u001b[1;32m   1471\u001b[0m                                                \u001b[0mself\u001b[0m\u001b[0;34m.\u001b[0m\u001b[0m_handle\u001b[0m\u001b[0;34m,\u001b[0m \u001b[0margs\u001b[0m\u001b[0;34m,\u001b[0m\u001b[0;34m\u001b[0m\u001b[0;34m\u001b[0m\u001b[0m\n\u001b[0;32m-> 1472\u001b[0;31m                                                run_metadata_ptr)\n\u001b[0m\u001b[1;32m   1473\u001b[0m         \u001b[0;32mif\u001b[0m \u001b[0mrun_metadata\u001b[0m\u001b[0;34m:\u001b[0m\u001b[0;34m\u001b[0m\u001b[0;34m\u001b[0m\u001b[0m\n\u001b[1;32m   1474\u001b[0m           \u001b[0mproto_data\u001b[0m \u001b[0;34m=\u001b[0m \u001b[0mtf_session\u001b[0m\u001b[0;34m.\u001b[0m\u001b[0mTF_GetBuffer\u001b[0m\u001b[0;34m(\u001b[0m\u001b[0mrun_metadata_ptr\u001b[0m\u001b[0;34m)\u001b[0m\u001b[0;34m\u001b[0m\u001b[0;34m\u001b[0m\u001b[0m\n",
            "\u001b[0;31mKeyboardInterrupt\u001b[0m: "
          ]
        }
      ]
    },
    {
      "cell_type": "markdown",
      "metadata": {
        "id": "4IYDgsPIb7-i",
        "colab_type": "text"
      },
      "source": [
        "##  \n",
        "## L2 Regularization\n",
        "\n",
        "## $$ loss ← loss + \\lambda \\sum_{}|W|^2 $$"
      ]
    },
    {
      "cell_type": "code",
      "metadata": {
        "id": "7IIq-0d7b7-l",
        "colab_type": "code",
        "outputId": "4b7c5542-51f6-44b3-df5d-7f900c969c97",
        "colab": {
          "base_uri": "https://localhost:8080/",
          "height": 646
        }
      },
      "source": [
        "# 8\n",
        "model = tf.keras.models.Sequential([\n",
        "    tf.keras.layers.Dense(128, input_shape=(x_train.shape[1], ), \n",
        "                          activation='relu',\n",
        "                          kernel_regularizer=tf.keras.regularizers.l2(0.001)\n",
        "                         ),\n",
        "    tf.keras.layers.Dense(64, \n",
        "                          activation='relu',\n",
        "                         kernel_regularizer=tf.keras.regularizers.l2(0.001)),\n",
        "    tf.keras.layers.Dense(10, activation='softmax')\n",
        "])\n",
        "\n",
        "optimizer = tf.keras.optimizers.Adam(lr=1e-4)\n",
        "loss = tf.keras.losses.sparse_categorical_crossentropy\n",
        "\n",
        "model.compile(optimizer=optimizer,\n",
        "              loss=loss)\n",
        "\n",
        "train_losses = list()\n",
        "val_losses = list()\n",
        "for i in range(120):\n",
        "    model.fit(x_train, \n",
        "              y_train, \n",
        "              verbose=0, \n",
        "              epochs=1, \n",
        "              validation_data=(x_test, y_test), \n",
        "              batch_size=256,\n",
        "              shuffle=True)\n",
        "    \n",
        "    train_losses.append(cross_entropy(model.predict(x_train), y_train_oh))\n",
        "    val_losses.append(cross_entropy(model.predict(x_test), y_test_oh))\n",
        "    \n",
        "    \n",
        "    clear_output()    \n",
        "    plt.plot(train_losses, label='train loss')\n",
        "    plt.plot(val_losses, label='val loss')\n",
        "    plt.legend(loc='best')\n",
        "    plt.grid()\n",
        "    plt.ylabel('loss')\n",
        "    plt.xlabel('epoch')\n",
        "    plt.ylim([0, 1])\n",
        "    plt.show()"
      ],
      "execution_count": 0,
      "outputs": [
        {
          "output_type": "display_data",
          "data": {
            "image/png": "[encoded data removed]",
            "text/plain": [
              "<Figure size 432x288 with 1 Axes>"
            ]
          },
          "metadata": {
            "tags": []
          }
        },
        {
          "output_type": "error",
          "ename": "KeyboardInterrupt",
          "evalue": "ignored",
          "traceback": [
            "\u001b[0;31m---------------------------------------------------------------------------\u001b[0m",
            "\u001b[0;31mKeyboardInterrupt\u001b[0m                         Traceback (most recent call last)",
            "\u001b[0;32m<ipython-input-7-1a0b7de6c796>\u001b[0m in \u001b[0;36m<module>\u001b[0;34m()\u001b[0m\n\u001b[1;32m     28\u001b[0m \u001b[0;34m\u001b[0m\u001b[0m\n\u001b[1;32m     29\u001b[0m     \u001b[0mtrain_losses\u001b[0m\u001b[0;34m.\u001b[0m\u001b[0mappend\u001b[0m\u001b[0;34m(\u001b[0m\u001b[0mcross_entropy\u001b[0m\u001b[0;34m(\u001b[0m\u001b[0mmodel\u001b[0m\u001b[0;34m.\u001b[0m\u001b[0mpredict\u001b[0m\u001b[0;34m(\u001b[0m\u001b[0mx_train\u001b[0m\u001b[0;34m)\u001b[0m\u001b[0;34m,\u001b[0m \u001b[0my_train_oh\u001b[0m\u001b[0;34m)\u001b[0m\u001b[0;34m)\u001b[0m\u001b[0;34m\u001b[0m\u001b[0;34m\u001b[0m\u001b[0m\n\u001b[0;32m---> 30\u001b[0;31m     \u001b[0mval_losses\u001b[0m\u001b[0;34m.\u001b[0m\u001b[0mappend\u001b[0m\u001b[0;34m(\u001b[0m\u001b[0mcross_entropy\u001b[0m\u001b[0;34m(\u001b[0m\u001b[0mmodel\u001b[0m\u001b[0;34m.\u001b[0m\u001b[0mpredict\u001b[0m\u001b[0;34m(\u001b[0m\u001b[0mx_test\u001b[0m\u001b[0;34m)\u001b[0m\u001b[0;34m,\u001b[0m \u001b[0my_test_oh\u001b[0m\u001b[0;34m)\u001b[0m\u001b[0;34m)\u001b[0m\u001b[0;34m\u001b[0m\u001b[0;34m\u001b[0m\u001b[0m\n\u001b[0m\u001b[1;32m     31\u001b[0m \u001b[0;34m\u001b[0m\u001b[0m\n\u001b[1;32m     32\u001b[0m \u001b[0;34m\u001b[0m\u001b[0m\n",
            "\u001b[0;32m/usr/local/lib/python3.6/dist-packages/tensorflow_core/python/keras/engine/training.py\u001b[0m in \u001b[0;36mpredict\u001b[0;34m(self, x, batch_size, verbose, steps, callbacks, max_queue_size, workers, use_multiprocessing)\u001b[0m\n\u001b[1;32m    906\u001b[0m         \u001b[0mmax_queue_size\u001b[0m\u001b[0;34m=\u001b[0m\u001b[0mmax_queue_size\u001b[0m\u001b[0;34m,\u001b[0m\u001b[0;34m\u001b[0m\u001b[0;34m\u001b[0m\u001b[0m\n\u001b[1;32m    907\u001b[0m         \u001b[0mworkers\u001b[0m\u001b[0;34m=\u001b[0m\u001b[0mworkers\u001b[0m\u001b[0;34m,\u001b[0m\u001b[0;34m\u001b[0m\u001b[0;34m\u001b[0m\u001b[0m\n\u001b[0;32m--> 908\u001b[0;31m         use_multiprocessing=use_multiprocessing)\n\u001b[0m\u001b[1;32m    909\u001b[0m \u001b[0;34m\u001b[0m\u001b[0m\n\u001b[1;32m    910\u001b[0m   \u001b[0;32mdef\u001b[0m \u001b[0mreset_metrics\u001b[0m\u001b[0;34m(\u001b[0m\u001b[0mself\u001b[0m\u001b[0;34m)\u001b[0m\u001b[0;34m:\u001b[0m\u001b[0;34m\u001b[0m\u001b[0;34m\u001b[0m\u001b[0m\n",
            "\u001b[0;32m/usr/local/lib/python3.6/dist-packages/tensorflow_core/python/keras/engine/training_arrays.py\u001b[0m in \u001b[0;36mpredict\u001b[0;34m(self, model, x, batch_size, verbose, steps, callbacks, **kwargs)\u001b[0m\n\u001b[1;32m    721\u001b[0m         \u001b[0mverbose\u001b[0m\u001b[0;34m=\u001b[0m\u001b[0mverbose\u001b[0m\u001b[0;34m,\u001b[0m\u001b[0;34m\u001b[0m\u001b[0;34m\u001b[0m\u001b[0m\n\u001b[1;32m    722\u001b[0m         \u001b[0msteps\u001b[0m\u001b[0;34m=\u001b[0m\u001b[0msteps\u001b[0m\u001b[0;34m,\u001b[0m\u001b[0;34m\u001b[0m\u001b[0;34m\u001b[0m\u001b[0m\n\u001b[0;32m--> 723\u001b[0;31m         callbacks=callbacks)\n\u001b[0m",
            "\u001b[0;32m/usr/local/lib/python3.6/dist-packages/tensorflow_core/python/keras/engine/training_arrays.py\u001b[0m in \u001b[0;36mmodel_iteration\u001b[0;34m(model, inputs, targets, sample_weights, batch_size, epochs, verbose, callbacks, val_inputs, val_targets, val_sample_weights, shuffle, initial_epoch, steps_per_epoch, validation_steps, validation_freq, mode, validation_in_fit, prepared_feed_values_from_dataset, steps_name, **kwargs)\u001b[0m\n\u001b[1;32m    392\u001b[0m \u001b[0;34m\u001b[0m\u001b[0m\n\u001b[1;32m    393\u001b[0m         \u001b[0;31m# Get outputs.\u001b[0m\u001b[0;34m\u001b[0m\u001b[0;34m\u001b[0m\u001b[0;34m\u001b[0m\u001b[0m\n\u001b[0;32m--> 394\u001b[0;31m         \u001b[0mbatch_outs\u001b[0m \u001b[0;34m=\u001b[0m \u001b[0mf\u001b[0m\u001b[0;34m(\u001b[0m\u001b[0mins_batch\u001b[0m\u001b[0;34m)\u001b[0m\u001b[0;34m\u001b[0m\u001b[0;34m\u001b[0m\u001b[0m\n\u001b[0m\u001b[1;32m    395\u001b[0m         \u001b[0;32mif\u001b[0m \u001b[0;32mnot\u001b[0m \u001b[0misinstance\u001b[0m\u001b[0;34m(\u001b[0m\u001b[0mbatch_outs\u001b[0m\u001b[0;34m,\u001b[0m \u001b[0mlist\u001b[0m\u001b[0;34m)\u001b[0m\u001b[0;34m:\u001b[0m\u001b[0;34m\u001b[0m\u001b[0;34m\u001b[0m\u001b[0m\n\u001b[1;32m    396\u001b[0m           \u001b[0mbatch_outs\u001b[0m \u001b[0;34m=\u001b[0m \u001b[0;34m[\u001b[0m\u001b[0mbatch_outs\u001b[0m\u001b[0;34m]\u001b[0m\u001b[0;34m\u001b[0m\u001b[0;34m\u001b[0m\u001b[0m\n",
            "\u001b[0;32m/usr/local/lib/python3.6/dist-packages/tensorflow_core/python/keras/backend.py\u001b[0m in \u001b[0;36m__call__\u001b[0;34m(self, inputs)\u001b[0m\n\u001b[1;32m   3474\u001b[0m \u001b[0;34m\u001b[0m\u001b[0m\n\u001b[1;32m   3475\u001b[0m     fetched = self._callable_fn(*array_vals,\n\u001b[0;32m-> 3476\u001b[0;31m                                 run_metadata=self.run_metadata)\n\u001b[0m\u001b[1;32m   3477\u001b[0m     \u001b[0mself\u001b[0m\u001b[0;34m.\u001b[0m\u001b[0m_call_fetch_callbacks\u001b[0m\u001b[0;34m(\u001b[0m\u001b[0mfetched\u001b[0m\u001b[0;34m[\u001b[0m\u001b[0;34m-\u001b[0m\u001b[0mlen\u001b[0m\u001b[0;34m(\u001b[0m\u001b[0mself\u001b[0m\u001b[0;34m.\u001b[0m\u001b[0m_fetches\u001b[0m\u001b[0;34m)\u001b[0m\u001b[0;34m:\u001b[0m\u001b[0;34m]\u001b[0m\u001b[0;34m)\u001b[0m\u001b[0;34m\u001b[0m\u001b[0;34m\u001b[0m\u001b[0m\n\u001b[1;32m   3478\u001b[0m     output_structure = nest.pack_sequence_as(\n",
            "\u001b[0;32m/usr/local/lib/python3.6/dist-packages/tensorflow_core/python/client/session.py\u001b[0m in \u001b[0;36m__call__\u001b[0;34m(self, *args, **kwargs)\u001b[0m\n\u001b[1;32m   1470\u001b[0m         ret = tf_session.TF_SessionRunCallable(self._session._session,\n\u001b[1;32m   1471\u001b[0m                                                \u001b[0mself\u001b[0m\u001b[0;34m.\u001b[0m\u001b[0m_handle\u001b[0m\u001b[0;34m,\u001b[0m \u001b[0margs\u001b[0m\u001b[0;34m,\u001b[0m\u001b[0;34m\u001b[0m\u001b[0;34m\u001b[0m\u001b[0m\n\u001b[0;32m-> 1472\u001b[0;31m                                                run_metadata_ptr)\n\u001b[0m\u001b[1;32m   1473\u001b[0m         \u001b[0;32mif\u001b[0m \u001b[0mrun_metadata\u001b[0m\u001b[0;34m:\u001b[0m\u001b[0;34m\u001b[0m\u001b[0;34m\u001b[0m\u001b[0m\n\u001b[1;32m   1474\u001b[0m           \u001b[0mproto_data\u001b[0m \u001b[0;34m=\u001b[0m \u001b[0mtf_session\u001b[0m\u001b[0;34m.\u001b[0m\u001b[0mTF_GetBuffer\u001b[0m\u001b[0;34m(\u001b[0m\u001b[0mrun_metadata_ptr\u001b[0m\u001b[0;34m)\u001b[0m\u001b[0;34m\u001b[0m\u001b[0;34m\u001b[0m\u001b[0m\n",
            "\u001b[0;31mKeyboardInterrupt\u001b[0m: "
          ]
        }
      ]
    },
    {
      "cell_type": "markdown",
      "metadata": {
        "id": "K4vLU3zNb7-p",
        "colab_type": "text"
      },
      "source": [
        "##  \n",
        "## L1 Regularization\n",
        "\n",
        "## $$ loss ← loss + \\lambda \\sum_{}|W| $$"
      ]
    },
    {
      "cell_type": "code",
      "metadata": {
        "id": "UMgCRPUkb7-p",
        "colab_type": "code",
        "outputId": "cfb16706-9fc4-4c90-c573-4ff998753769",
        "colab": {
          "base_uri": "https://localhost:8080/",
          "height": 283
        }
      },
      "source": [
        "# 9\n",
        "model = tf.keras.models.Sequential([\n",
        "    tf.keras.layers.Dense(128, input_shape=(x_train.shape[1], ), \n",
        "                          activation='relu',\n",
        "                          kernel_regularizer=tf.keras.regularizers.l1(1e-5)\n",
        "                         ),\n",
        "    tf.keras.layers.Dense(64, \n",
        "                          activation='relu',\n",
        "                         kernel_regularizer=tf.keras.regularizers.l1(1e-5)),\n",
        "    tf.keras.layers.Dense(10, activation='softmax')\n",
        "])\n",
        "\n",
        "optimizer = tf.keras.optimizers.Adam(lr=1e-4)\n",
        "loss = tf.keras.losses.sparse_categorical_crossentropy\n",
        "\n",
        "model.compile(optimizer=optimizer,\n",
        "              loss=loss)\n",
        "\n",
        "train_losses = list()\n",
        "val_losses = list()\n",
        "for i in range(120):\n",
        "    model.fit(x_train, \n",
        "              y_train, \n",
        "              verbose=0, \n",
        "              epochs=1, \n",
        "              validation_data=(x_test, y_test), \n",
        "              batch_size=256,\n",
        "              shuffle=True)\n",
        "    \n",
        "    train_losses.append(cross_entropy(model.predict(x_train), y_train_oh))\n",
        "    val_losses.append(cross_entropy(model.predict(x_test), y_test_oh))\n",
        "    \n",
        "    \n",
        "    clear_output()    \n",
        "    plt.plot(train_losses, label='train loss')\n",
        "    plt.plot(val_losses, label='val loss')\n",
        "    plt.legend(loc='best')\n",
        "    plt.grid()\n",
        "    plt.ylabel('loss')\n",
        "    plt.xlabel('epoch')\n",
        "    plt.ylim([0, 1])\n",
        "    plt.show()"
      ],
      "execution_count": 19,
      "outputs": [
        {
          "output_type": "display_data",
          "data": {
            "image/png": "[encoded data removed]",
            "text/plain": [
              "<Figure size 432x288 with 1 Axes>"
            ]
          },
          "metadata": {
            "tags": []
          }
        }
      ]
    },
    {
      "cell_type": "markdown",
      "metadata": {
        "id": "fzb3bNUAb7-u",
        "colab_type": "text"
      },
      "source": [
        "##  \n",
        "## Early Stopping\n",
        "\n",
        "* Stop training when validation result converages."
      ]
    },
    {
      "cell_type": "code",
      "metadata": {
        "id": "r9xXLW5Vb7-u",
        "colab_type": "code",
        "outputId": "a440acf4-f0a5-4cb3-c0ce-45b14db43fd3",
        "colab": {
          "base_uri": "https://localhost:8080/",
          "height": 300
        }
      },
      "source": [
        "# 10\n",
        "EARLY_STOP_IF_N_EPOCHS_NOT_IMPROVE = 3\n",
        "\n",
        "model = tf.keras.models.Sequential([\n",
        "    tf.keras.layers.Dense(128, input_shape=(x_train.shape[1], ), activation='relu'),\n",
        "    tf.keras.layers.Dense(16, activation='relu'),\n",
        "    tf.keras.layers.Dense(10, activation='softmax')\n",
        "])\n",
        "\n",
        "optimizer = tf.keras.optimizers.Adam(lr=1e-4)\n",
        "loss = tf.keras.losses.sparse_categorical_crossentropy\n",
        "\n",
        "model.compile(optimizer=optimizer,\n",
        "              loss=loss)\n",
        "\n",
        "train_losses = list()\n",
        "val_losses = list()\n",
        "for i in range(1000):\n",
        "    model.fit(x_train, \n",
        "              y_train, \n",
        "              verbose=0, \n",
        "              epochs=1, \n",
        "              validation_data=(x_test, y_test), \n",
        "              batch_size=256,\n",
        "              shuffle=True)\n",
        "    \n",
        "    train_losses.append(cross_entropy(model.predict(x_train), y_train_oh))\n",
        "    val_losses.append(cross_entropy(model.predict(x_test), y_test_oh))\n",
        "\n",
        "    clear_output()    \n",
        "    plt.plot(train_losses, label='train loss')\n",
        "    plt.plot(val_losses, label='val loss')\n",
        "    plt.legend(loc='best')\n",
        "    plt.grid()\n",
        "    plt.ylabel('loss')\n",
        "    plt.xlabel('epoch')\n",
        "    plt.ylim([0, 1])\n",
        "    plt.show()\n",
        "    \n",
        "    \n",
        "    if (len(val_losses) > EARLY_STOP_IF_N_EPOCHS_NOT_IMPROVE) and (np.argmin(val_losses[-(EARLY_STOP_IF_N_EPOCHS_NOT_IMPROVE+1):])==0):\n",
        "        print('Early stop at {}th iteration as val loss was not improved for {} epoch'.format(\n",
        "            i,\n",
        "            EARLY_STOP_IF_N_EPOCHS_NOT_IMPROVE\n",
        "        ))\n",
        "        break"
      ],
      "execution_count": 20,
      "outputs": [
        {
          "output_type": "display_data",
          "data": {
            "image/png": "[encoded data removed]",
            "text/plain": [
              "<Figure size 432x288 with 1 Axes>"
            ]
          },
          "metadata": {
            "tags": []
          }
        },
        {
          "output_type": "stream",
          "text": [
            "Early stop at 60th iteration as val loss was not improved for 3 epoch\n"
          ],
          "name": "stdout"
        }
      ]
    },
    {
      "cell_type": "markdown",
      "metadata": {
        "id": "IF6EwHl8b7-y",
        "colab_type": "text"
      },
      "source": [
        "### Apply early stop as [keras callback function](https://www.tensorflow.org/api_docs/python/tf/keras/callbacks/Callback)."
      ]
    },
    {
      "cell_type": "code",
      "metadata": {
        "id": "VwACSmpmb7-y",
        "colab_type": "code",
        "outputId": "bebfaf88-ec70-48e2-8e09-7014550429d2",
        "colab": {
          "base_uri": "https://localhost:8080/",
          "height": 712
        }
      },
      "source": [
        "# 11\n",
        "EARLY_STOP_IF_N_EPOCHS_NOT_IMPROVE = 3\n",
        "\n",
        "model = tf.keras.models.Sequential([\n",
        "    tf.keras.layers.Dense(128, input_shape=(x_train.shape[1], ), activation='relu'),\n",
        "    tf.keras.layers.Dense(16, activation='relu'),\n",
        "    tf.keras.layers.Dense(10, activation='softmax')\n",
        "])\n",
        "\n",
        "optimizer = tf.keras.optimizers.Adam(lr=1e-4)\n",
        "loss = tf.keras.losses.sparse_categorical_crossentropy\n",
        "\n",
        "model.compile(optimizer=optimizer,\n",
        "              loss=loss)\n",
        "\n",
        "callback = tf.keras.callbacks.EarlyStopping(monitor='val_loss', patience=EARLY_STOP_IF_N_EPOCHS_NOT_IMPROVE+1, min_delta=1e-20)\n",
        "model.fit(x_train, y_train, epochs=1000, callbacks=[callback], validation_data=(x_test, y_test), verbose=1)"
      ],
      "execution_count": 21,
      "outputs": [
        {
          "output_type": "stream",
          "text": [
            "Train on 19999 samples, validate on 9999 samples\n",
            "Epoch 1/1000\n",
            "19999/19999 [==============================] - 2s 106us/sample - loss: 1.0514 - val_loss: 0.5261\n",
            "Epoch 2/1000\n",
            "19999/19999 [==============================] - 2s 95us/sample - loss: 0.3941 - val_loss: 0.3420\n",
            "Epoch 3/1000\n",
            "19999/19999 [==============================] - 2s 93us/sample - loss: 0.2724 - val_loss: 0.2804\n",
            "Epoch 4/1000\n",
            "19999/19999 [==============================] - 2s 96us/sample - loss: 0.2138 - val_loss: 0.2443\n",
            "Epoch 5/1000\n",
            "19999/19999 [==============================] - 2s 96us/sample - loss: 0.1766 - val_loss: 0.2262\n",
            "Epoch 6/1000\n",
            "19999/19999 [==============================] - 2s 98us/sample - loss: 0.1503 - val_loss: 0.2132\n",
            "Epoch 7/1000\n",
            "19999/19999 [==============================] - 2s 101us/sample - loss: 0.1295 - val_loss: 0.2031\n",
            "Epoch 8/1000\n",
            "19999/19999 [==============================] - 2s 99us/sample - loss: 0.1133 - val_loss: 0.1958\n",
            "Epoch 9/1000\n",
            "19999/19999 [==============================] - 2s 99us/sample - loss: 0.0993 - val_loss: 0.1903\n",
            "Epoch 10/1000\n",
            "19999/19999 [==============================] - 2s 99us/sample - loss: 0.0876 - val_loss: 0.1852\n",
            "Epoch 11/1000\n",
            "19999/19999 [==============================] - 2s 97us/sample - loss: 0.0777 - val_loss: 0.1827\n",
            "Epoch 12/1000\n",
            "19999/19999 [==============================] - 2s 96us/sample - loss: 0.0688 - val_loss: 0.1817\n",
            "Epoch 13/1000\n",
            "19999/19999 [==============================] - 2s 97us/sample - loss: 0.0609 - val_loss: 0.1797\n",
            "Epoch 14/1000\n",
            "19999/19999 [==============================] - 2s 96us/sample - loss: 0.0538 - val_loss: 0.1796\n",
            "Epoch 15/1000\n",
            "19999/19999 [==============================] - 2s 94us/sample - loss: 0.0481 - val_loss: 0.1774\n",
            "Epoch 16/1000\n",
            "19999/19999 [==============================] - 2s 94us/sample - loss: 0.0427 - val_loss: 0.1777\n",
            "Epoch 17/1000\n",
            "19999/19999 [==============================] - 2s 96us/sample - loss: 0.0377 - val_loss: 0.1782\n",
            "Epoch 18/1000\n",
            "19999/19999 [==============================] - 2s 94us/sample - loss: 0.0331 - val_loss: 0.1799\n",
            "Epoch 19/1000\n",
            "19999/19999 [==============================] - 2s 94us/sample - loss: 0.0294 - val_loss: 0.1794\n"
          ],
          "name": "stdout"
        },
        {
          "output_type": "execute_result",
          "data": {
            "text/plain": [
              "<tensorflow.python.keras.callbacks.History at 0x7f4dfa26aa58>"
            ]
          },
          "metadata": {
            "tags": []
          },
          "execution_count": 21
        }
      ]
    },
    {
      "cell_type": "markdown",
      "metadata": {
        "id": "o3Ux0jR8b7-3",
        "colab_type": "text"
      },
      "source": [
        "#  \n",
        "### Score(1/2)"
      ]
    },
    {
      "cell_type": "code",
      "metadata": {
        "id": "sjjtBPo1b7-4",
        "colab_type": "code",
        "outputId": "f2219f93-98d8-460c-98e8-b4d25815674e",
        "colab": {
          "base_uri": "https://localhost:8080/",
          "height": 522
        }
      },
      "source": [
        "# 12\n",
        "train_losses = list()\n",
        "val_losses = list()\n",
        "\n",
        "# ↓↓↓↓↓↓↓↓↓↓↓↓↓ You can modify this block for better learning curve. ↓↓↓↓↓↓↓↓↓↓↓↓↓↓↓↓↓↓↓↓↓\n",
        "\n",
        "EARLY_STOP_IF_N_EPOCHS_NOT_IMPROVE = 100\n",
        "print((x_train.shape[1], ))\n",
        "model = tf.keras.models.Sequential([\n",
        "    tf.keras.layers.Dense(256, input_shape=(x_train.shape[1], ),kernel_initializer='normal', activation='relu'),\n",
        "    tf.keras.layers.Dense(10,kernel_initializer='normal', activation='softmax')\n",
        "])\n",
        "\n",
        "optimizer = tf.keras.optimizers.Adam(lr=1e-4)\n",
        "loss = tf.keras.losses.sparse_categorical_crossentropy\n",
        "\n",
        "model.compile(optimizer=optimizer,\n",
        "              loss=loss)\n",
        "\n",
        "\n",
        "for i in range(300):\n",
        "    model.fit(x_train, \n",
        "              y_train, \n",
        "              verbose=0, \n",
        "              epochs=1, \n",
        "              validation_data=(x_test, y_test), \n",
        "              batch_size=256,\n",
        "              shuffle=True)\n",
        "\n",
        "# ↑↑↑↑↑↑↑↑↑↑↑↑↑ You can modify this block for better learning curve. ↑↑↑↑↑↑↑↑↑↑↑↑↑↑↑↑↑↑↑↑↑\n",
        "\n",
        "    train_losses.append(cross_entropy(model.predict(x_train), y_train_oh))\n",
        "    val_losses.append(cross_entropy(model.predict(x_test), y_test_oh))\n",
        "\n",
        "    clear_output()    \n",
        "    plt.plot(train_losses, label='train loss')\n",
        "    plt.plot(val_losses, label='val loss')\n",
        "    plt.legend(loc='best')\n",
        "    plt.grid()\n",
        "    plt.ylabel('loss')\n",
        "    plt.xlabel('epoch')\n",
        "    plt.show()\n",
        "    \n",
        "    print(model.summary())\n",
        "    if (len(val_losses) > EARLY_STOP_IF_N_EPOCHS_NOT_IMPROVE) and (np.argmin(val_losses[-(EARLY_STOP_IF_N_EPOCHS_NOT_IMPROVE+1):])==0):\n",
        "        print('Early stop at {}th iteration as val loss was not improved for {} epoch'.format(\n",
        "            i,\n",
        "            EARLY_STOP_IF_N_EPOCHS_NOT_IMPROVE\n",
        "        ))\n",
        "        break"
      ],
      "execution_count": 22,
      "outputs": [
        {
          "output_type": "display_data",
          "data": {
            "image/png": "[encoded data removed]",
            "text/plain": [
              "<Figure size 432x288 with 1 Axes>"
            ]
          },
          "metadata": {
            "tags": []
          }
        },
        {
          "output_type": "stream",
          "text": [
            "Model: \"sequential_3\"\n",
            "_________________________________________________________________\n",
            "Layer (type)                 Output Shape              Param #   \n",
            "=================================================================\n",
            "dense_9 (Dense)              (None, 256)               200960    \n",
            "_________________________________________________________________\n",
            "dense_10 (Dense)             (None, 10)                2570      \n",
            "=================================================================\n",
            "Total params: 203,530\n",
            "Trainable params: 203,530\n",
            "Non-trainable params: 0\n",
            "_________________________________________________________________\n",
            "None\n",
            "Early stop at 163th iteration as val loss was not improved for 100 epoch\n"
          ],
          "name": "stdout"
        }
      ]
    },
    {
      "cell_type": "markdown",
      "metadata": {
        "id": "jhrtyQKob7-8",
        "colab_type": "text"
      },
      "source": [
        "#  \n",
        "# Parameter Search"
      ]
    },
    {
      "cell_type": "code",
      "metadata": {
        "id": "AsdR9ztnb7-9",
        "colab_type": "code",
        "colab": {}
      },
      "source": [
        "# 13\n",
        "from sklearn.model_selection import cross_validate\n",
        "from sklearn.linear_model import SGDClassifier\n",
        "from sklearn.metrics import accuracy_score\n",
        "from sklearn.model_selection import cross_val_score, GridSearchCV\n",
        "\n",
        "from copy import copy\n",
        "from itertools import product\n",
        "from  warnings import simplefilter\n",
        "from sklearn.exceptions import ConvergenceWarning\n",
        "simplefilter(\"ignore\", category=ConvergenceWarning)"
      ],
      "execution_count": 0,
      "outputs": []
    },
    {
      "cell_type": "markdown",
      "metadata": {
        "id": "wf-KHAVAb7_B",
        "colab_type": "text"
      },
      "source": [
        "##  \n",
        "## Grid Search\n",
        "* search for the predefined meta-parameter from predefined searching space(s)/"
      ]
    },
    {
      "cell_type": "code",
      "metadata": {
        "id": "TUu1pQeWb7_B",
        "colab_type": "code",
        "colab": {}
      },
      "source": [
        "# 14\n",
        "x_valid = copy(x_test)\n",
        "y_valid = copy(y_test)"
      ],
      "execution_count": 0,
      "outputs": []
    },
    {
      "cell_type": "code",
      "metadata": {
        "id": "c-VQgx1ob7_F",
        "colab_type": "code",
        "outputId": "165353f2-4080-4a8b-9021-457bf6ed074c",
        "colab": {
          "base_uri": "https://localhost:8080/",
          "height": 330
        }
      },
      "source": [
        "# 15\n",
        "best_validation = 0\n",
        "best_model = None\n",
        "\n",
        "\n",
        "penalty_space = ['l1', 'l2']\n",
        "lr_space = [0.01, 0.03, 0.1, 0.3, 1]\n",
        "\n",
        "for penalty, lr in product(penalty_space, lr_space):\n",
        "    model = SGDClassifier(eta0=lr, max_iter=10, penalty=penalty)\n",
        "    model.fit(x_train, y_train.reshape(-1))\n",
        "    accuracy = accuracy_score(model.predict(x_valid), y_valid.reshape(-1))\n",
        "    \n",
        "    print('val accuracy: {} with penalty:{}, lr: {}'.format(accuracy, penalty, lr))\n",
        "    if best_validation < accuracy:\n",
        "        best_model = model\n",
        "        best_validation = accuracy\n",
        "\n",
        "print('\\n----\\nSearched best val accuracy: {:.4f} as model : {}'.format(best_validation, best_model))"
      ],
      "execution_count": 25,
      "outputs": [
        {
          "output_type": "stream",
          "text": [
            "val accuracy: 0.9015901590159016 with penalty:l1, lr: 0.01\n",
            "val accuracy: 0.903990399039904 with penalty:l1, lr: 0.03\n",
            "val accuracy: 0.9020902090209021 with penalty:l1, lr: 0.1\n",
            "val accuracy: 0.9014901490149015 with penalty:l1, lr: 0.3\n",
            "val accuracy: 0.9043904390439044 with penalty:l1, lr: 1\n",
            "val accuracy: 0.9088908890889089 with penalty:l2, lr: 0.01\n",
            "val accuracy: 0.9091909190919092 with penalty:l2, lr: 0.03\n",
            "val accuracy: 0.9102910291029103 with penalty:l2, lr: 0.1\n",
            "val accuracy: 0.9092909290929093 with penalty:l2, lr: 0.3\n",
            "val accuracy: 0.9104910491049105 with penalty:l2, lr: 1\n",
            "\n",
            "----\n",
            "Searched best val accuracy: 0.9105 as model : SGDClassifier(alpha=0.0001, average=False, class_weight=None,\n",
            "              early_stopping=False, epsilon=0.1, eta0=1, fit_intercept=True,\n",
            "              l1_ratio=0.15, learning_rate='optimal', loss='hinge', max_iter=10,\n",
            "              n_iter_no_change=5, n_jobs=None, penalty='l2', power_t=0.5,\n",
            "              random_state=None, shuffle=True, tol=0.001,\n",
            "              validation_fraction=0.1, verbose=0, warm_start=False)\n"
          ],
          "name": "stdout"
        }
      ]
    },
    {
      "cell_type": "markdown",
      "metadata": {
        "id": "YcC5Cfwsb7_H",
        "colab_type": "text"
      },
      "source": [
        "##  \n",
        "## Cross Validation\n",
        "[sklearn document](https://scikit-learn.org/stable/modules/cross_validation.html)"
      ]
    },
    {
      "cell_type": "markdown",
      "metadata": {
        "id": "A5qW8gbIb7_J",
        "colab_type": "text"
      },
      "source": [
        "![](https://scikit-learn.org/stable/_images/grid_search_cross_validation.png)"
      ]
    },
    {
      "cell_type": "code",
      "metadata": {
        "id": "tgAimt1xb7_K",
        "colab_type": "code",
        "outputId": "a59ab455-87df-4518-9911-07cee4abb2b5",
        "colab": {
          "base_uri": "https://localhost:8080/",
          "height": 34
        }
      },
      "source": [
        "penalty_space = ['l1', 'l2']\n",
        "lr_space = [0.01, 0.03, 0.1, 0.3, 1]\n",
        "model = SGDClassifier(max_iter=10)# 16\n",
        "lr = best_model.eta0\n",
        "model = SGDClassifier(eta0=lr, max_iter=10, penalty=penalty)\n",
        "val_accuracies = cross_val_score(model, x_train, y_train.reshape(-1), cv=5)\n",
        "mean_val_accuracy = np.mean(val_accuracies)\n",
        "print('mean_val_accuracy: {:.4f}'.format(mean_val_accuracy))"
      ],
      "execution_count": 26,
      "outputs": [
        {
          "output_type": "stream",
          "text": [
            "mean_val_accuracy: 0.9052\n"
          ],
          "name": "stdout"
        }
      ]
    },
    {
      "cell_type": "markdown",
      "metadata": {
        "id": "TDN4r0iWb7_O",
        "colab_type": "text"
      },
      "source": [
        "##  \n",
        "## [Grid Search with Cross Validation](https://scikit-learn.org/stable/modules/generated/sklearn.model_selection.GridSearchCV.html#sklearn.model_selection.GridSearchCV)"
      ]
    },
    {
      "cell_type": "markdown",
      "metadata": {
        "id": "iGMh9aS6b7_P",
        "colab_type": "text"
      },
      "source": [
        "#### Define the Grid Search CV classifier"
      ]
    },
    {
      "cell_type": "code",
      "metadata": {
        "id": "agmYOp3Mb7_R",
        "colab_type": "code",
        "colab": {}
      },
      "source": [
        "# 17\n",
        "penalty_space = ['l1', 'l2']\n",
        "lr_space = [0.01, 0.03, 0.1, 0.3, 1]\n",
        "model = SGDClassifier(max_iter=10)\n",
        "\n",
        "param_grid = {'eta0': lr_space, 'penalty': penalty_space}\n",
        "clf = GridSearchCV(model, param_grid, n_jobs=-1, cv=5)"
      ],
      "execution_count": 0,
      "outputs": []
    },
    {
      "cell_type": "markdown",
      "metadata": {
        "id": "GDg5rQRpb7_T",
        "colab_type": "text"
      },
      "source": [
        "#### Fit as normal clf"
      ]
    },
    {
      "cell_type": "code",
      "metadata": {
        "id": "USILK9oSb7_T",
        "colab_type": "code",
        "outputId": "caae66ad-a00e-4e24-c3fb-fee2d4284b2f",
        "colab": {
          "base_uri": "https://localhost:8080/",
          "height": 295
        }
      },
      "source": [
        "# 18\n",
        "clf.fit(x_train, y_train.reshape(-1))"
      ],
      "execution_count": 28,
      "outputs": [
        {
          "output_type": "execute_result",
          "data": {
            "text/plain": [
              "GridSearchCV(cv=5, error_score='raise-deprecating',\n",
              "             estimator=SGDClassifier(alpha=0.0001, average=False,\n",
              "                                     class_weight=None, early_stopping=False,\n",
              "                                     epsilon=0.1, eta0=0.0, fit_intercept=True,\n",
              "                                     l1_ratio=0.15, learning_rate='optimal',\n",
              "                                     loss='hinge', max_iter=10,\n",
              "                                     n_iter_no_change=5, n_jobs=None,\n",
              "                                     penalty='l2', power_t=0.5,\n",
              "                                     random_state=None, shuffle=True, tol=0.001,\n",
              "                                     validation_fraction=0.1, verbose=0,\n",
              "                                     warm_start=False),\n",
              "             iid='warn', n_jobs=-1,\n",
              "             param_grid={'eta0': [0.01, 0.03, 0.1, 0.3, 1],\n",
              "                         'penalty': ['l1', 'l2']},\n",
              "             pre_dispatch='2*n_jobs', refit=True, return_train_score=False,\n",
              "             scoring=None, verbose=0)"
            ]
          },
          "metadata": {
            "tags": []
          },
          "execution_count": 28
        }
      ]
    },
    {
      "cell_type": "markdown",
      "metadata": {
        "id": "aKBxH0j3b7_W",
        "colab_type": "text"
      },
      "source": [
        "#### Evaluate as normal clf"
      ]
    },
    {
      "cell_type": "code",
      "metadata": {
        "id": "bBkCahgab7_X",
        "colab_type": "code",
        "outputId": "1e663a86-95a0-410d-a58b-a6423b4acda8",
        "colab": {
          "base_uri": "https://localhost:8080/",
          "height": 34
        }
      },
      "source": [
        "# 19\n",
        "y_predict = clf.predict(x_test)\n",
        "accuracy_score(y_predict, y_test.reshape(-1))"
      ],
      "execution_count": 29,
      "outputs": [
        {
          "output_type": "execute_result",
          "data": {
            "text/plain": [
              "0.9088908890889089"
            ]
          },
          "metadata": {
            "tags": []
          },
          "execution_count": 29
        }
      ]
    },
    {
      "cell_type": "markdown",
      "metadata": {
        "id": "gVRmkzNCb7_Z",
        "colab_type": "text"
      },
      "source": [
        "##  \n",
        "### Score(2/2)"
      ]
    },
    {
      "cell_type": "code",
      "metadata": {
        "id": "TEt2H0HVb7_b",
        "colab_type": "code",
        "outputId": "2c915c43-f073-45cc-d0a6-c6e784414b20",
        "colab": {
          "base_uri": "https://localhost:8080/",
          "height": 34
        }
      },
      "source": [
        "# 20\n",
        "# ↓↓↓↓↓↓↓↓↓↓↓↓↓ You can modify this block for better learning curve. ↓↓↓↓↓↓↓↓↓↓↓↓↓↓↓↓↓↓↓↓↓\n",
        "penalty_space = ['l1', 'l2']\n",
        "lr_space = [0.01, 0.03, 0.1, 0.3, 1]\n",
        "model = SGDClassifier(max_iter=10)\n",
        "param_grid = {'eta0': lr_space, 'penalty': penalty_space}\n",
        "clf = GridSearchCV(model, param_grid, n_jobs=-1, cv=5)\n",
        "clf.fit(x_train, y_train.reshape(-1))\n",
        "# ↑↑↑↑↑↑↑↑↑↑↑↑↑ You can modify this block for better learning curve. ↑↑↑↑↑↑↑↑↑↑↑↑↑↑↑↑↑↑↑↑↑\n",
        "\n",
        "y_predict = clf.predict(x_test)\n",
        "accuracy_score(y_predict, y_test.reshape(-1))"
      ],
      "execution_count": 31,
      "outputs": [
        {
          "output_type": "execute_result",
          "data": {
            "text/plain": [
              "0.90999099909991"
            ]
          },
          "metadata": {
            "tags": []
          },
          "execution_count": 31
        }
      ]
    },
    {
      "cell_type": "markdown",
      "metadata": {
        "id": "UpyDw8p4b7_f",
        "colab_type": "text"
      },
      "source": [
        "###  \n",
        "#### For more search algorithmns, please search for:\n",
        "* Random Hyperparameter Search\n",
        "* Bayesian Hyperparameter Search"
      ]
    },
    {
      "cell_type": "markdown",
      "metadata": {
        "id": "-s1CKuXUb7_f",
        "colab_type": "text"
      },
      "source": [
        "#  \n",
        "### Once finished, please [Submit Your Colab Notebook Here](https://forms.gle/sXpcqjZG5ycv7uYe8)"
      ]
    },
    {
      "cell_type": "markdown",
      "metadata": {
        "id": "8yRTFR5Cb7_h",
        "colab_type": "text"
      },
      "source": [
        "### For next week(17, Dec, 2019), Jessee will introduce more Neural Network architecture for solving more general data formats."
      ]
    },
    {
      "cell_type": "code",
      "metadata": {
        "id": "aYiFs1Fxb7_i",
        "colab_type": "code",
        "colab": {}
      },
      "source": [
        "!date +%Y%m%d_%H%M%S"
      ],
      "execution_count": 0,
      "outputs": []
    },
    {
      "cell_type": "code",
      "metadata": {
        "id": "roPqhiSfb7_k",
        "colab_type": "code",
        "colab": {}
      },
      "source": [
        ""
      ],
      "execution_count": 0,
      "outputs": []
    },
    {
      "cell_type": "code",
      "metadata": {
        "id": "xKPpC5Fzb7_m",
        "colab_type": "code",
        "colab": {}
      },
      "source": [
        ""
      ],
      "execution_count": 0,
      "outputs": []
    },
    {
      "cell_type": "code",
      "metadata": {
        "id": "2TQiU5CDb7_p",
        "colab_type": "code",
        "colab": {}
      },
      "source": [
        ""
      ],
      "execution_count": 0,
      "outputs": []
    },
    {
      "cell_type": "code",
      "metadata": {
        "id": "Tx0FQQBLb7_r",
        "colab_type": "code",
        "colab": {}
      },
      "source": [
        ""
      ],
      "execution_count": 0,
      "outputs": []
    },
    {
      "cell_type": "code",
      "metadata": {
        "id": "aSPxxIAXb7_t",
        "colab_type": "code",
        "colab": {}
      },
      "source": [
        ""
      ],
      "execution_count": 0,
      "outputs": []
    },
    {
      "cell_type": "code",
      "metadata": {
        "id": "5-mnly4Db7_v",
        "colab_type": "code",
        "colab": {}
      },
      "source": [
        ""
      ],
      "execution_count": 0,
      "outputs": []
    },
    {
      "cell_type": "code",
      "metadata": {
        "id": "pYnQyrs5b7_y",
        "colab_type": "code",
        "colab": {}
      },
      "source": [
        ""
      ],
      "execution_count": 0,
      "outputs": []
    },
    {
      "cell_type": "code",
      "metadata": {
        "id": "J15vkYgFb7_0",
        "colab_type": "code",
        "colab": {}
      },
      "source": [
        ""
      ],
      "execution_count": 0,
      "outputs": []
    },
    {
      "cell_type": "code",
      "metadata": {
        "id": "7oswkBFLb7_2",
        "colab_type": "code",
        "colab": {}
      },
      "source": [
        ""
      ],
      "execution_count": 0,
      "outputs": []
    },
    {
      "cell_type": "code",
      "metadata": {
        "id": "awTHD9Otb7_4",
        "colab_type": "code",
        "colab": {}
      },
      "source": [
        ""
      ],
      "execution_count": 0,
      "outputs": []
    },
    {
      "cell_type": "code",
      "metadata": {
        "id": "AsiakHgVb7_5",
        "colab_type": "code",
        "colab": {}
      },
      "source": [
        ""
      ],
      "execution_count": 0,
      "outputs": []
    },
    {
      "cell_type": "code",
      "metadata": {
        "id": "YeiFBiifb7_8",
        "colab_type": "code",
        "colab": {}
      },
      "source": [
        ""
      ],
      "execution_count": 0,
      "outputs": []
    },
    {
      "cell_type": "code",
      "metadata": {
        "id": "40AW5L9xb7__",
        "colab_type": "code",
        "colab": {}
      },
      "source": [
        ""
      ],
      "execution_count": 0,
      "outputs": []
    }
  ]
}